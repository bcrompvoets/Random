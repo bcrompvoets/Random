{
 "cells": [
  {
   "cell_type": "code",
   "execution_count": 10,
   "metadata": {},
   "outputs": [],
   "source": [
    "import pandas as pd\n",
    "import numpy as np\n",
    "import warnings\n",
    "import matplotlib.pyplot as plt\n",
    "warnings.filterwarnings('ignore')\n",
    "\n",
    "# from copulas.multivariate import GaussianMultivariate\n",
    "\n",
    "def alpha(f1,f2):\n",
    "    y = 0.55*(f1-f2)-2.94\n",
    "    return y\n",
    "\n",
    "\n",
    "def alpha_IR(f1,f2):\n",
    "    y = 1.64*(f1-f2)-2.82\n",
    "    return y\n",
    "\n",
    "\n",
    "def mJy_to_mag(F, F0):\n",
    "    m = -2.5*np.log10(F*0.001/F0)\n",
    "    return m\n",
    "\n",
    "\n",
    "def e_mJy_to_mag(e_F, F):\n",
    "    m = (2.5/np.log(10))*(e_F/F)\n",
    "    return m\n",
    "\n",
    "\n",
    "def mag_to_mJy(m, F0):\n",
    "    F = F0*(10**(-m/2.5))/0.001\n",
    "    return F\n",
    "\n",
    "\n",
    "def e_mag_to_mJy(e_m, m, F0):\n",
    "    m = (F0*np.log(10)/(0.001*2.5))*10**(-m/2.5)*(e_m)\n",
    "    return m\n",
    "\n",
    "\n",
    "def mag_to_Jy(m, F0):\n",
    "    F = F0*(10**(-m/2.5))\n",
    "    return F\n",
    "\n",
    "\n",
    "def e_mag_to_Jy(e_m, m, F0):\n",
    "    m = (F0*np.log(10)/(2.5))*10**(-m/2.5)*(e_m)\n",
    "    return m"
   ]
  },
  {
   "cell_type": "markdown",
   "metadata": {},
   "source": [
    "# NGC 3324"
   ]
  },
  {
   "cell_type": "code",
   "execution_count": 5,
   "metadata": {},
   "outputs": [],
   "source": [
    "# def converttbldatatocsvformat(filename, header):\n",
    "#     csv = open(\"\".join([path, filename, \".csv\"]), \"w+\")\n",
    "#     csv.write(header + \"\\n\")\n",
    "#     tbl = open(\"\".join([path, filename, \".tbl\"]), \"r\")\n",
    "#     lines = tbl.readlines()\n",
    "#     for line in lines:\n",
    "#         length = len(line)\n",
    "#         line = line[:length - 2] + line[length-1:]\n",
    "#         line = line.replace(\",\",\"N\")\n",
    "#         line = line.replace(\",\",\",\")\n",
    "#         csv.write(line)\n",
    "#     tbl.close()\n",
    "#     csv.close()\n",
    "\n",
    "# file = \"VelaCarC_l286\"\n",
    "# path = \"../../ngc3324/\"\n",
    "# # head = \"#designation,tmass_designation,tmass_cntr,    l     ,   b     , dl , db ,  ra    ,    dec   ,  dra , ddec ,csf, mag_J,  dJ_m, mag_H,  dH_m,mag_Ks, dKs_m,mag3_6, d3_6m,mag4_5, d4_5m,mag5_8, d5_8m,mag8_0, d8_0m,   f_J    ,   df_J   ,   f_H    ,   df_H   ,   f_Ks   ,  df_Ks   ,   f3_6   ,  df3_6   ,   f4_5   ,   df4_5  ,   f5_8   ,  df5_8   ,   f8_0   ,  df8_0   , rms_f3_6 , rms_f4_5 , rms_f5_8 , rms_f8_0 ,  sky_3_6 ,  sky_4_5 ,  sky_5_8 ,  sky_8_0 ,  sn_J,  sn_H, sn_Ks,sn_3_6,sn_4_5,sn_5_8,sn_8_0,dens_3_6,dens_4_5,dens_5_8,dens_8_0, m3_6, m4_5, m5_8, m8_0, n3_6, n4_5, n5_8, n8_0,   sqf_J  ,   sqf_H  ,  sqf_Ks  ,  sqf_3_6 ,  sqf_4_5 ,  sqf_5_8 ,  sqf_8_0 ,mf3_6,mf4_5,mf5_8,mf8_0\"\n",
    "# head = \"designation    tmass_designation    tmass_cntr        l            b          dl      db       ra            dec         dra      ddec     csf     mag_J      dJ_m     mag_H      dH_m    mag_Ks     dKs_m    mag3_6     d3_6m    mag4_5     d4_5m    mag5_8     d5_8m    mag8_0     d8_0m       f_J           df_J          f_H           df_H          f_Ks         df_Ks          f3_6         df3_6          f4_5          df4_5         f5_8         df5_8          f8_0         df8_0        rms_f3_6      rms_f4_5      rms_f5_8      rms_f8_0       sky_3_6       sky_4_5       sky_5_8       sky_8_0       sn_J      sn_H     sn_Ks    sn_3_6    sn_4_5    sn_5_8    sn_8_0    dens_3_6    dens_4_5    dens_5_8    dens_8_0     m3_6     m4_5     m5_8     m8_0     n3_6     n4_5     n5_8     n8_0       sqf_J         sqf_H        sqf_Ks        sqf_3_6       sqf_4_5       sqf_5_8       sqf_8_0     mf3_6    mf4_5    mf5_8    mf8_0\"\n",
    "\n",
    "# converttbldatatocsvformat(file,head)"
   ]
  },
  {
   "cell_type": "code",
   "execution_count": 8,
   "metadata": {},
   "outputs": [
    {
     "data": {
      "text/html": [
       "<div>\n",
       "<style scoped>\n",
       "    .dataframe tbody tr th:only-of-type {\n",
       "        vertical-align: middle;\n",
       "    }\n",
       "\n",
       "    .dataframe tbody tr th {\n",
       "        vertical-align: top;\n",
       "    }\n",
       "\n",
       "    .dataframe thead th {\n",
       "        text-align: right;\n",
       "    }\n",
       "</style>\n",
       "<table border=\"1\" class=\"dataframe\">\n",
       "  <thead>\n",
       "    <tr style=\"text-align: right;\">\n",
       "      <th></th>\n",
       "      <th>Unnamed: 0</th>\n",
       "      <th>RAJ2000</th>\n",
       "      <th>DEJ2000</th>\n",
       "      <th>mag_J</th>\n",
       "      <th>e_mag_J</th>\n",
       "      <th>mag_H</th>\n",
       "      <th>e_mag_H</th>\n",
       "      <th>mag_Ks</th>\n",
       "      <th>e_mag_Ks</th>\n",
       "      <th>mag_IR1</th>\n",
       "      <th>e_mag_IR1</th>\n",
       "      <th>mag_IR2</th>\n",
       "      <th>e_mag_IR2</th>\n",
       "      <th>mag_IR3</th>\n",
       "      <th>e_mag_IR3</th>\n",
       "      <th>mag_IR4</th>\n",
       "      <th>e_mag_IR4</th>\n",
       "      <th>alpha</th>\n",
       "    </tr>\n",
       "  </thead>\n",
       "  <tbody>\n",
       "    <tr>\n",
       "      <th>0</th>\n",
       "      <td>G286.0000-01.6076</td>\n",
       "      <td>157.553803</td>\n",
       "      <td>-59.753506</td>\n",
       "      <td>14.943</td>\n",
       "      <td>0.049000</td>\n",
       "      <td>14.287</td>\n",
       "      <td>0.058</td>\n",
       "      <td>14.000</td>\n",
       "      <td>0.068</td>\n",
       "      <td>13.718</td>\n",
       "      <td>0.109</td>\n",
       "      <td>19.896</td>\n",
       "      <td>0.124897</td>\n",
       "      <td>18.524</td>\n",
       "      <td>0.144951</td>\n",
       "      <td>18.350</td>\n",
       "      <td>0.119339</td>\n",
       "      <td>-0.28456</td>\n",
       "    </tr>\n",
       "    <tr>\n",
       "      <th>1</th>\n",
       "      <td>G286.0000-01.4378</td>\n",
       "      <td>157.726576</td>\n",
       "      <td>-59.607751</td>\n",
       "      <td>9.592</td>\n",
       "      <td>0.036000</td>\n",
       "      <td>9.276</td>\n",
       "      <td>0.042</td>\n",
       "      <td>9.192</td>\n",
       "      <td>0.031</td>\n",
       "      <td>9.224</td>\n",
       "      <td>0.037</td>\n",
       "      <td>9.228</td>\n",
       "      <td>0.046000</td>\n",
       "      <td>9.163</td>\n",
       "      <td>0.044000</td>\n",
       "      <td>9.185</td>\n",
       "      <td>0.030000</td>\n",
       "      <td>-2.74948</td>\n",
       "    </tr>\n",
       "    <tr>\n",
       "      <th>2</th>\n",
       "      <td>G286.0000-00.2122</td>\n",
       "      <td>158.929997</td>\n",
       "      <td>-58.549566</td>\n",
       "      <td>16.158</td>\n",
       "      <td>0.119000</td>\n",
       "      <td>14.774</td>\n",
       "      <td>0.077</td>\n",
       "      <td>14.117</td>\n",
       "      <td>0.067</td>\n",
       "      <td>13.685</td>\n",
       "      <td>0.084</td>\n",
       "      <td>13.462</td>\n",
       "      <td>0.109000</td>\n",
       "      <td>18.524</td>\n",
       "      <td>0.144951</td>\n",
       "      <td>18.350</td>\n",
       "      <td>0.119339</td>\n",
       "      <td>-10.83632</td>\n",
       "    </tr>\n",
       "    <tr>\n",
       "      <th>3</th>\n",
       "      <td>G286.0000-00.8792</td>\n",
       "      <td>158.284282</td>\n",
       "      <td>-59.126860</td>\n",
       "      <td>15.620</td>\n",
       "      <td>0.089000</td>\n",
       "      <td>14.849</td>\n",
       "      <td>0.093</td>\n",
       "      <td>14.773</td>\n",
       "      <td>0.130</td>\n",
       "      <td>14.220</td>\n",
       "      <td>0.097</td>\n",
       "      <td>14.089</td>\n",
       "      <td>0.163000</td>\n",
       "      <td>18.524</td>\n",
       "      <td>0.144951</td>\n",
       "      <td>18.350</td>\n",
       "      <td>0.119339</td>\n",
       "      <td>-9.80804</td>\n",
       "    </tr>\n",
       "    <tr>\n",
       "      <th>4</th>\n",
       "      <td>G286.0000-00.0972</td>\n",
       "      <td>159.039269</td>\n",
       "      <td>-58.449703</td>\n",
       "      <td>22.188</td>\n",
       "      <td>0.050843</td>\n",
       "      <td>15.259</td>\n",
       "      <td>0.122</td>\n",
       "      <td>14.368</td>\n",
       "      <td>0.097</td>\n",
       "      <td>13.771</td>\n",
       "      <td>0.112</td>\n",
       "      <td>13.427</td>\n",
       "      <td>0.149000</td>\n",
       "      <td>18.524</td>\n",
       "      <td>0.144951</td>\n",
       "      <td>18.350</td>\n",
       "      <td>0.119339</td>\n",
       "      <td>-10.89372</td>\n",
       "    </tr>\n",
       "  </tbody>\n",
       "</table>\n",
       "</div>"
      ],
      "text/plain": [
       "          Unnamed: 0     RAJ2000    DEJ2000   mag_J   e_mag_J   mag_H  \\\n",
       "0  G286.0000-01.6076  157.553803 -59.753506  14.943  0.049000  14.287   \n",
       "1  G286.0000-01.4378  157.726576 -59.607751   9.592  0.036000   9.276   \n",
       "2  G286.0000-00.2122  158.929997 -58.549566  16.158  0.119000  14.774   \n",
       "3  G286.0000-00.8792  158.284282 -59.126860  15.620  0.089000  14.849   \n",
       "4  G286.0000-00.0972  159.039269 -58.449703  22.188  0.050843  15.259   \n",
       "\n",
       "   e_mag_H  mag_Ks  e_mag_Ks  mag_IR1  e_mag_IR1  mag_IR2  e_mag_IR2  mag_IR3  \\\n",
       "0    0.058  14.000     0.068   13.718      0.109   19.896   0.124897   18.524   \n",
       "1    0.042   9.192     0.031    9.224      0.037    9.228   0.046000    9.163   \n",
       "2    0.077  14.117     0.067   13.685      0.084   13.462   0.109000   18.524   \n",
       "3    0.093  14.773     0.130   14.220      0.097   14.089   0.163000   18.524   \n",
       "4    0.122  14.368     0.097   13.771      0.112   13.427   0.149000   18.524   \n",
       "\n",
       "   e_mag_IR3  mag_IR4  e_mag_IR4     alpha  \n",
       "0   0.144951   18.350   0.119339  -0.28456  \n",
       "1   0.044000    9.185   0.030000  -2.74948  \n",
       "2   0.144951   18.350   0.119339 -10.83632  \n",
       "3   0.144951   18.350   0.119339  -9.80804  \n",
       "4   0.144951   18.350   0.119339 -10.89372  "
      ]
     },
     "execution_count": 8,
     "metadata": {},
     "output_type": "execute_result"
    }
   ],
   "source": [
    "# head = [\"designation\",\"tmass_designation\",\"tmass_cntr\",\"  l     \",\"   b     \",\" dl \",\" db \",\"   ra   \",\"   dec  \",\" dra\",\"ddec \",\"csf\",\"mag_J\",\"dJ_m\", \"mag_H\",  \"dH_m\",\"mag_Ks\", \"dKs_m\",\"mag3_6\",\\\n",
    "#      \"d3_6m\",\"mag4_5\", \"d4_5m\",\"mag5_8\", \"d5_8m\",\"mag8_0\", \"d8_0m\",   \"f_J   \",\"  df_J  \",\"  f_H   \",\"  df_H  \",\"  f_Ks  \",\" df_Ks  \",\"  f3_6  \",\" df3_6  \",\"  f4_5  \",\"  df4_5 \",\"  f5_8  \",\" df5_8  \",\\\n",
    "#          \"  f8_0  \",\" df8_0  \",\"rms_f3_6\",\"rms_f4_5\",\"rms_f5_8\",\"rms_f8_0\",\" sky_3_6\",\" sky_4_5\",\" sky_5_8\",\" sky_8_0\",\" sn_J\",  \"sn_H\", \"sn_Ks\",\"sn_3_6\",\"sn_4_5\",\"sn_5_8\",\"sn_8_0\",\"dens_3_6\",\\\n",
    "#              \"dens_4_5\",\"dens_5_8\",\"dens_8_0\", \"m3_6\", \"m4_5\", \"m5_8\", \"m8_0\", \"n3_6\", \"n4_5\", \"n5_8\", \"n8_0\",   \"sqf_J \",\"  sqf_H \",\" sqf_Ks \",\" sqf_3_6\",\" sqf_4_5\",\" sqf_5_8\",\" sqf_8_0\" ,\"mf3_6\",\"mf4_5\",\"mf5_8\",\"mf8_0\"]\n",
    "\n",
    "# n33_df = pd.read_csv(\"../../ngc3324/VelaCarC_l286.csv\",delim_whitespace=True,comment=\"#\",header=0,index_col=1)\n",
    "# print(n33_df.info())\n",
    "\n",
    "# # n33_DF = n33_df[['ra', 'dec','mag_J','dJ_m','mag_H','dH_m','mag_Ks','dKs_m','mag3_6', 'd3_6m', 'mag4_5', 'd4_5m', 'mag5_8','d5_8m', 'mag8_0', 'd8_0m']]\n",
    "# n33_DF = n33_df[['ra', 'dec','f_J','df_J','f_H','df_H','f_Ks','df_Ks','f3_6', 'df3_6', 'f4_5', 'df4_5', 'f5_8','df5_8', 'f8_0', 'df8_0']]\n",
    "\n",
    "n33_DF = pd.read_csv(\"NGC_3324.csv\")\n",
    "n33_DF.head()"
   ]
  },
  {
   "cell_type": "code",
   "execution_count": 11,
   "metadata": {},
   "outputs": [
    {
     "data": {
      "text/plain": [
       "(array([  300.,   883.,  2544.,  8095., 23842., 38097.,    77.,     0.,\n",
       "            0.,  2754.]),\n",
       " array([ 6.503 ,  7.8423,  9.1816, 10.5209, 11.8602, 13.1995, 14.5388,\n",
       "        15.8781, 17.2174, 18.5567, 19.896 ]),\n",
       " <BarContainer object of 10 artists>)"
      ]
     },
     "execution_count": 11,
     "metadata": {},
     "output_type": "execute_result"
    },
    {
     "data": {
      "image/png": "[encoded data removed]",
      "text/plain": [
       "<Figure size 432x288 with 1 Axes>"
      ]
     },
     "metadata": {
      "needs_background": "light"
     },
     "output_type": "display_data"
    }
   ],
   "source": [
    "plt.hist(n33_DF.mag_IR2)"
   ]
  },
  {
   "cell_type": "code",
   "execution_count": 76,
   "metadata": {},
   "outputs": [],
   "source": [
    "# np.save(\"../Data/NGC3324_NAN_2MASS+SPITZ_INP.npy\", n33_DF.values.astype(float))"
   ]
  },
  {
   "cell_type": "code",
   "execution_count": 77,
   "metadata": {},
   "outputs": [],
   "source": [
    "\n",
    "# n33_DF.drop(n33_DF[n33_DF['mag3_6']>99.].index,inplace=True)\n",
    "# n33_DF.drop(n33_DF[n33_DF['mag4_5']>99.].index,inplace=True)\n",
    "# n33_DF.drop(n33_DF[n33_DF['mag5_8']>99.].index,inplace=True)\n",
    "# n33_DF.drop(n33_DF[n33_DF['mag8_0']>99.].index,inplace=True)\n",
    "\n",
    "# n33_DF[\"mag24\"] = [(-99)]*len(n33_DF[['mag3_6']].values)\n",
    "# n33_DF[\"d24m\"] = [(-99)]*len(n33_DF[['mag3_6']].values)\n",
    "# n33_DF[\"alpha\"] = alpha_IR(n33_DF[\"mag4_5\"].values.astype(float),n33_DF[\"mag8_0\"].values.astype(float))\n",
    "\n",
    "# n33_DF.head()\n"
   ]
  },
  {
   "cell_type": "code",
   "execution_count": 78,
   "metadata": {},
   "outputs": [],
   "source": [
    "# n33_DF.hist(\"alpha\")"
   ]
  },
  {
   "cell_type": "code",
   "execution_count": 79,
   "metadata": {},
   "outputs": [],
   "source": [
    "# n33_DF.info()"
   ]
  },
  {
   "cell_type": "code",
   "execution_count": 80,
   "metadata": {},
   "outputs": [],
   "source": [
    "# np.save(\"../Data/NGC3324_INP.npy\",n33_DF[[\"ra\",\"dec\",\"mag3_6\",'d3_6m', 'mag4_5', 'd4_5m', 'mag5_8',\\\n",
    "#        'd5_8m', 'mag8_0', 'd8_0m','mag24', 'd24m',\"alpha\"]].values.astype(float))\n"
   ]
  },
  {
   "cell_type": "code",
   "execution_count": 20,
   "metadata": {},
   "outputs": [],
   "source": [
    "from astropy.wcs import WCS\n",
    "from astropy.io import fits\n",
    "from astropy.utils.data import get_pkg_data_filename\n",
    "import matplotlib.pyplot as plt"
   ]
  },
  {
   "cell_type": "code",
   "execution_count": 81,
   "metadata": {},
   "outputs": [],
   "source": [
    "\n",
    "# image_file = \"../../../ngc3324/FITS/JWST_f187n.fits\"\n",
    "# filename = get_pkg_data_filename(image_file)\n",
    "\n",
    "# h = fits.getheader(image_file)\n",
    "\n",
    "# f = fits.open(image_file)\n",
    "\n",
    "# wcs = WCS(f[1].header)"
   ]
  },
  {
   "cell_type": "code",
   "execution_count": 82,
   "metadata": {},
   "outputs": [],
   "source": [
    "\n",
    "\n",
    "\n",
    "# plt.style.use('dark_background')\n",
    "# fig, ax = plt.subplots(figsize=(24,14),dpi=100)\n",
    "# ax = plt.subplot(projection=wcs)\n",
    "\n",
    "# plt.grid(color='white', ls='solid')\n",
    "# plt.imshow(f[1].data,cmap='hot',vmin=0,vmax=100,origin='lower')\n",
    "# ymax, ymin = ax.get_ylim()\n",
    "# plt.colorbar()\n",
    "\n",
    "# ras, decs = wcs.wcs_pix2world(np.linspace(-2000,17000,100), np.linspace(-100,9000,100), 1)\n",
    "\n",
    "# n33_nan = n33_df[['ra', 'dec','mag_J','dJ_m','mag_H','dH_m','mag_Ks','dKs_m','mag3_6', 'd3_6m', 'mag4_5', 'd4_5m', 'mag5_8','d5_8m', 'mag8_0', 'd8_0m']].values.astype(float)\n",
    "\n",
    "# n33_nan = n33_nan[n33_nan[:,0]>min(ras)]\n",
    "# n33_nan = n33_nan[n33_nan[:,0]<max(ras)]\n",
    "# n33_nan = n33_nan[n33_nan[:,1]>min(decs)]\n",
    "# n33_nan = n33_nan[n33_nan[:,1]<max(decs)]\n",
    "\n",
    "# plt.scatter(n33_nan[:,0],n33_nan[:,1],transform=ax.get_transform('fk5'))"
   ]
  },
  {
   "cell_type": "code",
   "execution_count": 94,
   "metadata": {},
   "outputs": [
    {
     "data": {
      "text/plain": [
       "7.573074416708612e-05"
      ]
     },
     "execution_count": 94,
     "metadata": {},
     "output_type": "execute_result"
    }
   ],
   "source": [
    "0.92*0.049*(1594*10**(-14.943/2.5))"
   ]
  },
  {
   "cell_type": "code",
   "execution_count": 102,
   "metadata": {},
   "outputs": [
    {
     "data": {
      "text/plain": [
       "7.581586200020797e-05"
      ]
     },
     "execution_count": 102,
     "metadata": {},
     "output_type": "execute_result"
    }
   ],
   "source": [
    "e_mag_to_Jy(0.049,14.943,1594)"
   ]
  },
  {
   "cell_type": "code",
   "execution_count": 153,
   "metadata": {},
   "outputs": [
    {
     "data": {
      "text/html": [
       "<div>\n",
       "<style scoped>\n",
       "    .dataframe tbody tr th:only-of-type {\n",
       "        vertical-align: middle;\n",
       "    }\n",
       "\n",
       "    .dataframe tbody tr th {\n",
       "        vertical-align: top;\n",
       "    }\n",
       "\n",
       "    .dataframe thead th {\n",
       "        text-align: right;\n",
       "    }\n",
       "</style>\n",
       "<table border=\"1\" class=\"dataframe\">\n",
       "  <thead>\n",
       "    <tr style=\"text-align: right;\">\n",
       "      <th></th>\n",
       "      <th>ra</th>\n",
       "      <th>dec</th>\n",
       "      <th>mag_J</th>\n",
       "      <th>dJ_m</th>\n",
       "      <th>mag_H</th>\n",
       "      <th>dH_m</th>\n",
       "      <th>mag_Ks</th>\n",
       "      <th>dKs_m</th>\n",
       "      <th>mag3_6</th>\n",
       "      <th>d3_6m</th>\n",
       "      <th>mag4_5</th>\n",
       "      <th>d4_5m</th>\n",
       "      <th>mag5_8</th>\n",
       "      <th>d5_8m</th>\n",
       "      <th>mag8_0</th>\n",
       "      <th>d8_0m</th>\n",
       "    </tr>\n",
       "  </thead>\n",
       "  <tbody>\n",
       "    <tr>\n",
       "      <th>G286.0000-01.6076</th>\n",
       "      <td>157.553803</td>\n",
       "      <td>-59.753506</td>\n",
       "      <td>14.943</td>\n",
       "      <td>0.049</td>\n",
       "      <td>14.287</td>\n",
       "      <td>0.058</td>\n",
       "      <td>14.000</td>\n",
       "      <td>0.068</td>\n",
       "      <td>13.718</td>\n",
       "      <td>0.109</td>\n",
       "      <td>NaN</td>\n",
       "      <td>NaN</td>\n",
       "      <td>NaN</td>\n",
       "      <td>NaN</td>\n",
       "      <td>NaN</td>\n",
       "      <td>NaN</td>\n",
       "    </tr>\n",
       "    <tr>\n",
       "      <th>G286.0000-01.4378</th>\n",
       "      <td>157.726576</td>\n",
       "      <td>-59.607751</td>\n",
       "      <td>9.592</td>\n",
       "      <td>0.036</td>\n",
       "      <td>9.276</td>\n",
       "      <td>0.042</td>\n",
       "      <td>9.192</td>\n",
       "      <td>0.031</td>\n",
       "      <td>9.224</td>\n",
       "      <td>0.037</td>\n",
       "      <td>9.228</td>\n",
       "      <td>0.046</td>\n",
       "      <td>9.163</td>\n",
       "      <td>0.044</td>\n",
       "      <td>9.185</td>\n",
       "      <td>0.03</td>\n",
       "    </tr>\n",
       "    <tr>\n",
       "      <th>G286.0000-00.2122</th>\n",
       "      <td>158.929997</td>\n",
       "      <td>-58.549566</td>\n",
       "      <td>16.158</td>\n",
       "      <td>0.119</td>\n",
       "      <td>14.774</td>\n",
       "      <td>0.077</td>\n",
       "      <td>14.117</td>\n",
       "      <td>0.067</td>\n",
       "      <td>13.685</td>\n",
       "      <td>0.084</td>\n",
       "      <td>13.462</td>\n",
       "      <td>0.109</td>\n",
       "      <td>NaN</td>\n",
       "      <td>NaN</td>\n",
       "      <td>NaN</td>\n",
       "      <td>NaN</td>\n",
       "    </tr>\n",
       "    <tr>\n",
       "      <th>G286.0000-00.8792</th>\n",
       "      <td>158.284282</td>\n",
       "      <td>-59.126860</td>\n",
       "      <td>15.620</td>\n",
       "      <td>0.089</td>\n",
       "      <td>14.849</td>\n",
       "      <td>0.093</td>\n",
       "      <td>14.773</td>\n",
       "      <td>0.130</td>\n",
       "      <td>14.220</td>\n",
       "      <td>0.097</td>\n",
       "      <td>14.089</td>\n",
       "      <td>0.163</td>\n",
       "      <td>NaN</td>\n",
       "      <td>NaN</td>\n",
       "      <td>NaN</td>\n",
       "      <td>NaN</td>\n",
       "    </tr>\n",
       "    <tr>\n",
       "      <th>G286.0000-00.0972</th>\n",
       "      <td>159.039269</td>\n",
       "      <td>-58.449703</td>\n",
       "      <td>NaN</td>\n",
       "      <td>NaN</td>\n",
       "      <td>15.259</td>\n",
       "      <td>0.122</td>\n",
       "      <td>14.368</td>\n",
       "      <td>0.097</td>\n",
       "      <td>13.771</td>\n",
       "      <td>0.112</td>\n",
       "      <td>13.427</td>\n",
       "      <td>0.149</td>\n",
       "      <td>NaN</td>\n",
       "      <td>NaN</td>\n",
       "      <td>NaN</td>\n",
       "      <td>NaN</td>\n",
       "    </tr>\n",
       "  </tbody>\n",
       "</table>\n",
       "</div>"
      ],
      "text/plain": [
       "                           ra        dec   mag_J   dJ_m   mag_H   dH_m  \\\n",
       "G286.0000-01.6076  157.553803 -59.753506  14.943  0.049  14.287  0.058   \n",
       "G286.0000-01.4378  157.726576 -59.607751   9.592  0.036   9.276  0.042   \n",
       "G286.0000-00.2122  158.929997 -58.549566  16.158  0.119  14.774  0.077   \n",
       "G286.0000-00.8792  158.284282 -59.126860  15.620  0.089  14.849  0.093   \n",
       "G286.0000-00.0972  159.039269 -58.449703     NaN    NaN  15.259  0.122   \n",
       "\n",
       "                   mag_Ks  dKs_m  mag3_6  d3_6m  mag4_5  d4_5m  mag5_8  d5_8m  \\\n",
       "G286.0000-01.6076  14.000  0.068  13.718  0.109     NaN    NaN     NaN    NaN   \n",
       "G286.0000-01.4378   9.192  0.031   9.224  0.037   9.228  0.046   9.163  0.044   \n",
       "G286.0000-00.2122  14.117  0.067  13.685  0.084  13.462  0.109     NaN    NaN   \n",
       "G286.0000-00.8792  14.773  0.130  14.220  0.097  14.089  0.163     NaN    NaN   \n",
       "G286.0000-00.0972  14.368  0.097  13.771  0.112  13.427  0.149     NaN    NaN   \n",
       "\n",
       "                   mag8_0  d8_0m  \n",
       "G286.0000-01.6076     NaN    NaN  \n",
       "G286.0000-01.4378   9.185   0.03  \n",
       "G286.0000-00.2122     NaN    NaN  \n",
       "G286.0000-00.8792     NaN    NaN  \n",
       "G286.0000-00.0972     NaN    NaN  "
      ]
     },
     "execution_count": 153,
     "metadata": {},
     "output_type": "execute_result"
    }
   ],
   "source": [
    "band_names = ['mag_J','dJ_m','mag_H','dH_m','mag_Ks','dKs_m','mag3_6', 'd3_6m', 'mag4_5', 'd4_5m', 'mag5_8','d5_8m', 'mag8_0', 'd8_0m']\n",
    "\n",
    "df_n33_nan = n33_df[np.concatenate((['ra','dec'],band_names))]\n",
    "df_n33_nan.where(df_n33_nan[band_names]<98,inplace=True)\n",
    "df_n33_nan.head()"
   ]
  },
  {
   "cell_type": "code",
   "execution_count": 154,
   "metadata": {},
   "outputs": [
    {
     "name": "stdout",
     "output_type": "stream",
     "text": [
      "                           ra        dec     mag_J      dJ_m     mag_H  \\\n",
      "G286.0000-01.6076  157.553803 -59.753506  0.001680  0.000076  0.001975   \n",
      "G286.0000-01.4378  157.726576 -59.607751  0.232107  0.007696  0.199480   \n",
      "G286.0000-00.2122  158.929997 -58.549566  0.000549  0.000060  0.001261   \n",
      "G286.0000-00.8792  158.284282 -59.126860  0.000901  0.000074  0.001177   \n",
      "G286.0000-00.0972  159.039269 -58.449703       NaN       NaN  0.000807   \n",
      "\n",
      "                       dH_m    mag_Ks     dKs_m    mag3_6     d3_6m    mag4_5  \\\n",
      "G286.0000-01.6076  0.000105  0.001675  0.000105  0.000904  0.000091       NaN   \n",
      "G286.0000-01.4378  0.007717  0.140324  0.004007  0.056710  0.001933  0.036548   \n",
      "G286.0000-00.2122  0.000089  0.001504  0.000093  0.000932  0.000072  0.000740   \n",
      "G286.0000-00.8792  0.000101  0.000822  0.000098  0.000569  0.000051  0.000415   \n",
      "G286.0000-00.0972  0.000091  0.001193  0.000107  0.000861  0.000089  0.000764   \n",
      "\n",
      "                      d4_5m    mag5_8     d5_8m    mag8_0     d8_0m  \n",
      "G286.0000-01.6076       NaN       NaN       NaN       NaN       NaN  \n",
      "G286.0000-01.4378  0.001548  0.025206  0.001021  0.013367  0.000369  \n",
      "G286.0000-00.2122  0.000074       NaN       NaN       NaN       NaN  \n",
      "G286.0000-00.8792  0.000062       NaN       NaN       NaN       NaN  \n",
      "G286.0000-00.0972  0.000105       NaN       NaN       NaN       NaN  \n"
     ]
    }
   ],
   "source": [
    "\n",
    "for i, F_0 in enumerate([1594, 1594, 1024, 1024, 666.7,666.7,277.500, 277.500, 179.500, 179.500, 116.600, 116.600, 63.100, 63.100]):\n",
    "    if i%2==0:\n",
    "        df_n33_nan[band_names[i]] = mag_to_Jy(m=n33_df[band_names[i]].values,F0=F_0) # Convert mags in a column to fluxes\n",
    "    else:\n",
    "        df_n33_nan[band_names[i]] = e_mag_to_Jy(e_m=n33_df[band_names[i]].values,m=n33_df[band_names[i-1]].values,F0=F_0) # Convert errors in a column to flux\n",
    "\n",
    "ras, decs = wcs.wcs_pix2world(np.linspace(-2000,17000,100), np.linspace(-100,9000,100), 1)\n",
    "df_n33_nan.where(np.floor(np.log10(df_n33_nan[band_names]))>-35,inplace=True)\n",
    "print(df_n33_nan.head())\n",
    "n33_nan = df_n33_nan.values.astype(float)\n",
    "n33_nan = n33_nan[n33_nan[:,0]>min(ras)]\n",
    "n33_nan = n33_nan[n33_nan[:,0]<max(ras)]\n",
    "n33_nan = n33_nan[n33_nan[:,1]>min(decs)]\n",
    "n33_nan = n33_nan[n33_nan[:,1]<max(decs)]\n",
    "\n",
    "df_n33_nan = pd.DataFrame(data=n33_nan, columns=np.concatenate((['ra','dec'],band_names)))\n",
    "# df_n33_nan.head()\n",
    "df_n33_nan.to_csv('../../../ngc3324/Spitzer_CosmicCliffs.csv')"
   ]
  },
  {
   "cell_type": "code",
   "execution_count": 158,
   "metadata": {},
   "outputs": [],
   "source": [
    "n33_DF = df_n33_nan\n",
    "n33_DF.dropna(inplace=True)\n",
    "\n",
    "n33_DF[\"mag24\"] = [(-99)]*len(n33_DF[['mag3_6']].values)\n",
    "n33_DF[\"d24m\"] = [(-99)]*len(n33_DF[['mag3_6']].values)\n",
    "n33_DF[\"alpha\"] = alpha_IR(n33_DF[\"mag4_5\"].values.astype(float),n33_DF[\"mag8_0\"].values.astype(float))\n",
    "\n",
    "n33_DF.head()\n",
    "\n",
    "np.save(\"../Data/CosmicCliffs_INP.npy\",n33_DF[[\"ra\",\"dec\",\"mag3_6\",'d3_6m', 'mag4_5', 'd4_5m', 'mag5_8',\\\n",
    "       'd5_8m', 'mag8_0', 'd8_0m','mag24', 'd24m',\"alpha\"]].values.astype(float))"
   ]
  },
  {
   "cell_type": "code",
   "execution_count": 19,
   "metadata": {},
   "outputs": [
    {
     "name": "stdout",
     "output_type": "stream",
     "text": [
      "(826, 10)\n"
     ]
    }
   ],
   "source": [
    "print(np.shape(n33_nan))\n"
   ]
  },
  {
   "cell_type": "code",
   "execution_count": 20,
   "metadata": {},
   "outputs": [
    {
     "name": "stdout",
     "output_type": "stream",
     "text": [
      "(162, 13)\n"
     ]
    }
   ],
   "source": [
    "n33_nonan = n33_DF.values.astype(float)\n",
    "\n",
    "\n",
    "n33_nonan = n33_nonan[n33_nonan[:,0]>min(ras)]\n",
    "n33_nonan = n33_nonan[n33_nonan[:,0]<max(ras)]\n",
    "n33_nonan = n33_nonan[n33_nonan[:,1]>min(decs)]\n",
    "n33_nonan = n33_nonan[n33_nonan[:,1]<max(decs)]\n",
    "\n",
    "print(np.shape(n33_nonan))"
   ]
  },
  {
   "cell_type": "code",
   "execution_count": null,
   "metadata": {},
   "outputs": [],
   "source": []
  }
 ],
 "metadata": {
  "interpreter": {
   "hash": "a7a87715bbc43d8b5f73b6200b6ef66f163e7bfd9f5c97aea1eada326c99da2f"
  },
  "kernelspec": {
   "display_name": "Python 3.10.4 ('SF')",
   "language": "python",
   "name": "python3"
  },
  "language_info": {
   "codemirror_mode": {
    "name": "ipython",
    "version": 3
   },
   "file_extension": ".py",
   "mimetype": "text/x-python",
   "name": "python",
   "nbconvert_exporter": "python",
   "pygments_lexer": "ipython3",
   "version": "3.10.4"
  },
  "orig_nbformat": 4
 },
 "nbformat": 4,
 "nbformat_minor": 2
}
