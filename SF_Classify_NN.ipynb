{
 "cells": [
  {
   "cell_type": "markdown",
   "metadata": {},
   "source": [
    "# NN - PHYS 555 Term Project - Sam and Breanna"
   ]
  },
  {
   "cell_type": "code",
   "execution_count": 27,
   "metadata": {},
   "outputs": [],
   "source": [
    "import torch\n",
    "import torch.nn as nn\n",
    "import torch.nn.functional as F\n",
    "import torch.optim as optim\n",
    "import torch.utils.data as data_utils\n",
    "from torchvision import datasets, transforms\n",
    "import matplotlib.pyplot as plt\n",
    "import numpy as np\n",
    "from sklearn.model_selection import train_test_split\n",
    "from sklearn.preprocessing import StandardScaler\n",
    "import pandas as pd\n",
    "from sklearn.metrics import ConfusionMatrixDisplay\n",
    "\n",
    "from custom_dataloader import replicate_data\n",
    "from NN_Defs import get_n_params, train, validate, BaseMLP"
   ]
  },
  {
   "cell_type": "code",
   "execution_count": 28,
   "metadata": {},
   "outputs": [
    {
     "name": "stdout",
     "output_type": "stream",
     "text": [
      "Running on : cpu\n"
     ]
    }
   ],
   "source": [
    "device = torch.device(\"cuda:0\" if torch.cuda.is_available() else \"cpu\")\n",
    "print(f'Running on : {device}')"
   ]
  },
  {
   "cell_type": "markdown",
   "metadata": {},
   "source": [
    "## Importing Data and Creating Train/Validate/Testing Sets"
   ]
  },
  {
   "cell_type": "code",
   "execution_count": 29,
   "metadata": {},
   "outputs": [],
   "source": [
    "# data load\n",
    "X = np.load(\"Data/Input_Class_AllClasses_Sep.npy\") # Load input data\n",
    "Y = np.load(\"Data/Target_Class_AllClasses_Sep.npy\") # Load target data"
   ]
  },
  {
   "cell_type": "code",
   "execution_count": 99,
   "metadata": {},
   "outputs": [
    {
     "name": "stdout",
     "output_type": "stream",
     "text": [
      "Training set: (1597, 8) , (1597,) \n",
      " Validation set: (5377, 8) , (5377,) \n",
      " Testing Set: (19929, 8), (19929,)\n"
     ]
    },
    {
     "name": "stderr",
     "output_type": "stream",
     "text": [
      "/opt/anaconda3/envs/PHYS555_PY37/lib/python3.7/site-packages/pandas/core/indexing.py:1817: SettingWithCopyWarning: \n",
      "A value is trying to be set on a copy of a slice from a DataFrame.\n",
      "Try using .loc[row_indexer,col_indexer] = value instead\n",
      "\n",
      "See the caveats in the documentation: https://pandas.pydata.org/pandas-docs/stable/user_guide/indexing.html#returning-a-view-versus-a-copy\n",
      "  self._setitem_single_column(loc, value, pi)\n"
     ]
    }
   ],
   "source": [
    "# custom data loader to pull in custom sized data set\n",
    "# use seed to get replicable results for now\n",
    "seed_val = 1111\n",
    "\n",
    "# the amounts here are how many of each class of object you want in the training set and validation set\n",
    "# leftover amount get's dumped into testing set\n",
    "\n",
    "#amounts_train = [331,1141,231,529,27,70,1257]\n",
    "amounts_train = [300,300,300,300,27,70,300]\n",
    "amounts_val = [82, 531, 104, 278, 6, 17, 4359]\n",
    "\n",
    "\n",
    "inp_tr, tar_tr, inp_va, tar_va, inp_te, tar_te = replicate_data(X, Y, 'three', amounts_train, amounts_val, seed_val)\n",
    "\n",
    "print(f'Training set: {inp_tr.shape} , {tar_tr.shape} \\n Validation set: {inp_va.shape} , {tar_va.shape} \\n Testing Set: {inp_te.shape}, {tar_te.shape}')"
   ]
  },
  {
   "cell_type": "code",
   "execution_count": 101,
   "metadata": {},
   "outputs": [],
   "source": [
    "# scaling data according to training inputs\n",
    "scaler_S = StandardScaler().fit(inp_tr)\n",
    "inp_tr = scaler_S.transform(inp_tr)\n",
    "inp_va = scaler_S.transform(inp_va)\n",
    "inp_te = scaler_S.transform(inp_te)"
   ]
  },
  {
   "cell_type": "code",
   "execution_count": 102,
   "metadata": {},
   "outputs": [],
   "source": [
    "# concatenate the labels onto the inputs for both training and validation\n",
    "inp_tr = torch.tensor(inp_tr)\n",
    "tar_tr = torch.tensor(tar_tr)\n",
    "inp_va = torch.tensor(inp_va)\n",
    "tar_va = torch.tensor(tar_va)\n",
    "inp_te = torch.tensor(inp_te)\n",
    "tar_te = torch.tensor(tar_te)\n",
    "\n",
    "train_data = data_utils.TensorDataset(inp_tr, tar_tr)\n",
    "val_data = data_utils.TensorDataset(inp_va, tar_va)\n",
    "test_data = data_utils.TensorDataset(inp_te, tar_te)\n",
    "\n",
    "# constructing data loaders for nn\n",
    "train_loader = torch.utils.data.DataLoader(train_data, batch_size=25, shuffle=True)\n",
    "val_loader = torch.utils.data.DataLoader(val_data, batch_size=25, shuffle=True)\n",
    "test_loader = torch.utils.data.DataLoader(test_data, batch_size=25, shuffle=True)"
   ]
  },
  {
   "cell_type": "markdown",
   "metadata": {},
   "source": [
    "## Creating Network Instance and setting hyperparameters"
   ]
  },
  {
   "cell_type": "code",
   "execution_count": 107,
   "metadata": {},
   "outputs": [
    {
     "name": "stdout",
     "output_type": "stream",
     "text": [
      "BaseMLP(\n",
      "  (fc1): Linear(in_features=8, out_features=20, bias=True)\n",
      "  (fc2): Linear(in_features=20, out_features=3, bias=True)\n",
      ")\n"
     ]
    }
   ],
   "source": [
    "# create nn instance\n",
    "BaseNN = BaseMLP(8, 20, 3)\n",
    "\n",
    "# setting hyperparameters for SGD optimizer\n",
    "learning_rate = 4e-3\n",
    "momentum = 0.6\n",
    "\n",
    "# setting optimizer\n",
    "optimizer = optim.SGD(BaseNN.parameters(), lr=learning_rate, momentum=momentum)\n",
    "\n",
    "# setting scheduler\n",
    "#scheduler = torch.optim.lr_scheduler.ReduceLROnPlateau(optimizer, mode='min', factor=0.1, patience=1,threshold=1e-4, cooldown=50, min_lr=1e-6, verbose=True)\n",
    "#scheduler = torch.optim.lr_scheduler.MultiStepLR(optimizer, milestones=[5000,8000], gamma=0.1, verbose=False)"
   ]
  },
  {
   "cell_type": "markdown",
   "metadata": {},
   "source": [
    "## Training Network"
   ]
  },
  {
   "cell_type": "code",
   "execution_count": 108,
   "metadata": {},
   "outputs": [
    {
     "name": "stdout",
     "output_type": "stream",
     "text": [
      "Train Epoch: 0 ----- Train Loss: 1.122182\n",
      "Validation Loss: 1.1229\n",
      "Train Epoch: 250 ----- Train Loss: 0.849889\n",
      "Validation Loss: 0.7566\n",
      "Train Epoch: 500 ----- Train Loss: 0.828633\n",
      "Validation Loss: 0.7610\n",
      "Train Epoch: 750 ----- Train Loss: 0.820313\n",
      "Validation Loss: 0.7613\n",
      "Train Epoch: 1000 ----- Train Loss: 0.814770\n",
      "Validation Loss: 0.7592\n",
      "Train Epoch: 1250 ----- Train Loss: 0.808920\n",
      "Validation Loss: 0.7563\n",
      "Train Epoch: 1500 ----- Train Loss: 0.801790\n",
      "Validation Loss: 0.7531\n",
      "Train Epoch: 1750 ----- Train Loss: 0.792492\n",
      "Validation Loss: 0.7502\n",
      "Train Epoch: 2000 ----- Train Loss: 0.781604\n",
      "Validation Loss: 0.7478\n",
      "Train Epoch: 2250 ----- Train Loss: 0.770651\n",
      "Validation Loss: 0.7469\n",
      "Train Epoch: 2500 ----- Train Loss: 0.760774\n",
      "Validation Loss: 0.7471\n",
      "Train Epoch: 2750 ----- Train Loss: 0.752060\n",
      "Validation Loss: 0.7475\n",
      "Train Epoch: 3000 ----- Train Loss: 0.744647\n",
      "Validation Loss: 0.7475\n",
      "Train Epoch: 3250 ----- Train Loss: 0.738428\n",
      "Validation Loss: 0.7470\n",
      "Train Epoch: 3500 ----- Train Loss: 0.733036\n",
      "Validation Loss: 0.7461\n",
      "Train Epoch: 3750 ----- Train Loss: 0.728506\n",
      "Validation Loss: 0.7449\n",
      "Train Epoch: 4000 ----- Train Loss: 0.724696\n",
      "Validation Loss: 0.7433\n",
      "Train Epoch: 4250 ----- Train Loss: 0.721187\n",
      "Validation Loss: 0.7417\n",
      "Train Epoch: 4500 ----- Train Loss: 0.718387\n",
      "Validation Loss: 0.7398\n",
      "Train Epoch: 4750 ----- Train Loss: 0.715787\n",
      "Validation Loss: 0.7377\n",
      "Train Epoch: 5000 ----- Train Loss: 0.713416\n",
      "Validation Loss: 0.7356\n",
      "Train Epoch: 5250 ----- Train Loss: 0.711393\n",
      "Validation Loss: 0.7333\n",
      "Train Epoch: 5500 ----- Train Loss: 0.709523\n",
      "Validation Loss: 0.7311\n",
      "Train Epoch: 5750 ----- Train Loss: 0.707773\n",
      "Validation Loss: 0.7288\n",
      "Train Epoch: 6000 ----- Train Loss: 0.706205\n",
      "Validation Loss: 0.7264\n",
      "Train Epoch: 6250 ----- Train Loss: 0.704752\n",
      "Validation Loss: 0.7241\n",
      "Train Epoch: 6500 ----- Train Loss: 0.703269\n",
      "Validation Loss: 0.7218\n",
      "Train Epoch: 6750 ----- Train Loss: 0.701933\n",
      "Validation Loss: 0.7194\n",
      "Train Epoch: 7000 ----- Train Loss: 0.700520\n",
      "Validation Loss: 0.7171\n",
      "Train Epoch: 7250 ----- Train Loss: 0.699129\n",
      "Validation Loss: 0.7147\n",
      "Train Epoch: 7500 ----- Train Loss: 0.697497\n",
      "Validation Loss: 0.7122\n",
      "Train Epoch: 7750 ----- Train Loss: 0.695968\n",
      "Validation Loss: 0.7098\n",
      "Train Epoch: 8000 ----- Train Loss: 0.694376\n",
      "Validation Loss: 0.7072\n",
      "Train Epoch: 8250 ----- Train Loss: 0.692814\n",
      "Validation Loss: 0.7043\n",
      "Train Epoch: 8500 ----- Train Loss: 0.691384\n",
      "Validation Loss: 0.7011\n",
      "Train Epoch: 8750 ----- Train Loss: 0.690244\n",
      "Validation Loss: 0.6977\n",
      "Train Epoch: 9000 ----- Train Loss: 0.689038\n",
      "Validation Loss: 0.6945\n",
      "Train Epoch: 9250 ----- Train Loss: 0.688052\n",
      "Validation Loss: 0.6913\n",
      "Train Epoch: 9500 ----- Train Loss: 0.687015\n",
      "Validation Loss: 0.6881\n",
      "Train Epoch: 9750 ----- Train Loss: 0.686091\n",
      "Validation Loss: 0.6850\n"
     ]
    }
   ],
   "source": [
    "# set amounts of epochs\n",
    "epochs = 10000\n",
    "\n",
    "# initialize capture variables\n",
    "train_loss_all = []\n",
    "val_loss_all = []\n",
    "\n",
    "for epoch in range(0, epochs):\n",
    "    train_loss, train_predictions, train_truth_values = train(epoch, BaseNN, optimizer, train_loader, device)\n",
    "    val_loss, val_accuracy, val_predictions, val_truth_values = validate(BaseNN, val_loader, device)\n",
    "\n",
    "    # store loss in an array to plot\n",
    "    train_loss_all.append(train_loss)\n",
    "    val_loss_all.append(val_loss)\n",
    "\n",
    "    #scheduler.step()\n",
    "\n",
    "    # print outs\n",
    "    if epoch % 250 == 0:\n",
    "        print(f'Train Epoch: {epoch} ----- Train Loss: {train_loss.item():.6f}')\n",
    "        print(f'Validation Loss: {val_loss:.4f}')\n",
    "        #print(scheduler.get_last_lr())"
   ]
  },
  {
   "cell_type": "markdown",
   "metadata": {},
   "source": [
    "## Visualizing Results"
   ]
  },
  {
   "cell_type": "markdown",
   "metadata": {},
   "source": [
    "### Loss Functions"
   ]
  },
  {
   "cell_type": "code",
   "execution_count": 113,
   "metadata": {},
   "outputs": [
    {
     "data": {
      "image/png": "[encoded data removed]",
      "text/plain": [
       "<Figure size 720x432 with 1 Axes>"
      ]
     },
     "metadata": {
      "needs_background": "light"
     },
     "output_type": "display_data"
    }
   ],
   "source": [
    "fig, ax = plt.subplots(figsize=(10,6))\n",
    "ax.plot(train_loss_all, label='Train Loss')\n",
    "ax.plot(val_loss_all, label='Validation Loss')\n",
    "ax.set_xlabel('Epoch')\n",
    "ax.legend()\n",
    "ax.grid()\n",
    "plt.show()"
   ]
  },
  {
   "cell_type": "markdown",
   "metadata": {},
   "source": [
    "## Testing Set Outputs"
   ]
  },
  {
   "cell_type": "code",
   "execution_count": 117,
   "metadata": {},
   "outputs": [],
   "source": [
    "test_loss, test_accuracy, test_predictions, test_truth_values = validate(BaseNN, test_loader, device)"
   ]
  },
  {
   "cell_type": "code",
   "execution_count": 120,
   "metadata": {},
   "outputs": [
    {
     "data": {
      "image/png": "[encoded data removed]",
      "text/plain": [
       "<Figure size 864x1440 with 3 Axes>"
      ]
     },
     "metadata": {
      "needs_background": "light"
     },
     "output_type": "display_data"
    }
   ],
   "source": [
    "fig, ax = plt.subplots(1,3, figsize=(12,20))\n",
    "ConfusionMatrixDisplay.from_predictions(train_truth_values, train_predictions, ax = ax[0], normalize='true', colorbar=False)\n",
    "ConfusionMatrixDisplay.from_predictions(val_truth_values, val_predictions, ax = ax[1], normalize='true', colorbar=False)\n",
    "ConfusionMatrixDisplay.from_predictions(test_truth_values, test_predictions, ax = ax[2], normalize='true', colorbar=False)\n",
    "\n",
    "ax[0].set_title('Training Set')\n",
    "ax[1].set_title('Validation Set')\n",
    "ax[2].set_title('Testing Set')\n",
    "plt.tight_layout()\n",
    "plt.show()"
   ]
  },
  {
   "cell_type": "markdown",
   "metadata": {},
   "source": [
    "## Saving the Model"
   ]
  },
  {
   "cell_type": "code",
   "execution_count": 98,
   "metadata": {},
   "outputs": [],
   "source": [
    "filepath = 'good_model_20ke_4e3_noschedule_balanced_300'\n",
    "torch.save(BaseNN.state_dict(), filepath)"
   ]
  },
  {
   "cell_type": "code",
   "execution_count": null,
   "metadata": {},
   "outputs": [],
   "source": []
  },
  {
   "cell_type": "code",
   "execution_count": null,
   "metadata": {},
   "outputs": [],
   "source": []
  }
 ],
 "metadata": {
  "interpreter": {
   "hash": "2bc373eb9924f1eec97d7a15274cdae8484277ec408c67c247974831754df4b1"
  },
  "kernelspec": {
   "display_name": "Python 3.7.11 ('PHYS555_PY37')",
   "language": "python",
   "name": "python3"
  },
  "language_info": {
   "codemirror_mode": {
    "name": "ipython",
    "version": 3
   },
   "file_extension": ".py",
   "mimetype": "text/x-python",
   "name": "python",
   "nbconvert_exporter": "python",
   "pygments_lexer": "ipython3",
   "version": "3.7.11"
  },
  "orig_nbformat": 4
 },
 "nbformat": 4,
 "nbformat_minor": 2
}
