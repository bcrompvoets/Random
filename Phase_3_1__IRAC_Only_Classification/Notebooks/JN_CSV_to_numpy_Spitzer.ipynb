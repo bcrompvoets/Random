{
 "cells": [
  {
   "cell_type": "code",
   "execution_count": 9,
   "metadata": {
    "colab": {
     "base_uri": "https://localhost:8080/"
    },
    "id": "AeJfpTbKBPIz",
    "outputId": "117b5c7c-8198-48ef-8cb6-28c2b6abd4a7",
    "scrolled": true
   },
   "outputs": [
    {
     "name": "stdout",
     "output_type": "stream",
     "text": [
      "Loading from repository, Done!\n"
     ]
    }
   ],
   "source": [
    "import pandas as pd     # similar to Excel \n",
    "import numpy as np      # suitable for working with arrays\n",
    "import matplotlib.pyplot as plt  # suitable for plotting\n",
    "from sklearn.model_selection import train_test_split\n",
    "print('Loading from repository, Done!')\n",
    "\n",
    "def alpha(f1,f2):\n",
    "    y = 1.64*(f1-f2)-2.82\n",
    "    return y\n",
    "\n",
    "\n",
    "def mJy_to_mag(F, F0):\n",
    "    m = -2.5*np.log10(F*0.001/F0)\n",
    "    return m\n",
    "\n",
    "\n",
    "def e_mJy_to_mag(e_F, F):\n",
    "    m = (2.5/np.log(10))*(e_F/F)\n",
    "    return m\n"
   ]
  },
  {
   "cell_type": "code",
   "execution_count": 10,
   "metadata": {
    "colab": {
     "base_uri": "https://localhost:8080/"
    },
    "id": "Fh5blAm8BPI1",
    "outputId": "4cc0a2fb-7cc5-4951-95a5-1f575ab65f37"
   },
   "outputs": [
    {
     "name": "stdout",
     "output_type": "stream",
     "text": [
      "loading data, Done!\n"
     ]
    }
   ],
   "source": [
    "c2d_CL = pd.read_csv(\"../Data_and_Results/c2d_CLOUDS_HREL.csv\")\n",
    "c2d_CO = pd.read_csv(\"../Data_and_Results/c2d_CORES_HREL.csv\")\n",
    "c2d_ST = pd.read_csv(\"../Data_and_Results/c2d_STARS_HREL.csv\")\n",
    "c2d_ALL_1 = pd.merge_ordered(c2d_CL,c2d_CO)\n",
    "c2d = pd.merge_ordered(c2d_ST,c2d_ALL_1)\n",
    "\n",
    "\n",
    "print('loading data, Done!')"
   ]
  },
  {
   "cell_type": "code",
   "execution_count": 11,
   "metadata": {},
   "outputs": [
    {
     "name": "stdout",
     "output_type": "stream",
     "text": [
      "YSO shape: (1463, 25)\n",
      "EG shape: (3621, 25)\n",
      "Star shape: (409437, 25)\n"
     ]
    }
   ],
   "source": [
    "c2d_YSO_1 = pd.merge_ordered(c2d[c2d[\"object_type\"].str.rstrip()=='YSOc_star+dust(MP1)'],c2d[c2d[\"object_type\"].str.rstrip()=='YSOc_star+dust(IR4)'])\n",
    "c2d_YSO_2 = pd.merge_ordered(c2d[c2d[\"object_type\"].str.rstrip()=='YSOc_star+dust(IR2)'],c2d[c2d[\"object_type\"].str.rstrip()=='YSOc_star+dust(IR3)'])\n",
    "c2d_YSO_3 = pd.merge_ordered(c2d[c2d[\"object_type\"].str.rstrip()=='YSOc_star+dust(IR1)'],c2d[c2d[\"object_type\"].str.rstrip()=='YSOc_red'])\n",
    "c2d_YSO_4 = pd.merge_ordered(c2d[c2d[\"object_type\"].str.rstrip()=='YSOc_PAH-em'],c2d[c2d[\"object_type\"].str.rstrip()=='YSOc'])\n",
    "c2d_YSO_12 = pd.merge_ordered(c2d_YSO_1,c2d_YSO_2)\n",
    "c2d_YSO_34 = pd.merge_ordered(c2d_YSO_3,c2d_YSO_4)\n",
    "c2d_YSO = pd.merge_ordered(c2d_YSO_12,c2d_YSO_34)\n",
    "\n",
    "c2d_YSO[\"Target\"] = 0\n",
    "\n",
    "\n",
    "c2d_EG_1 = pd.merge_ordered(c2d[c2d[\"object_type\"]=='Galc_star+dust(MP1)'],c2d[c2d[\"object_type\"]=='Galc_star+dust(IR4)'])\n",
    "c2d_EG_2 = pd.merge_ordered(c2d[c2d[\"object_type\"]=='Galc_star+dust(IR2)'],c2d[c2d[\"object_type\"]=='Galc_star+dust(IR3)'])\n",
    "c2d_EG_3 = pd.merge_ordered(c2d[c2d[\"object_type\"]=='Galc_star+dust(IR1)'],c2d[c2d[\"object_type\"]=='Galc_red'])\n",
    "c2d_EG_4 = pd.merge_ordered(c2d[c2d[\"object_type\"]=='Galc_PAH-em'],c2d[c2d[\"object_type\"]=='Galc'])\n",
    "c2d_EG_12 = pd.merge_ordered(c2d_EG_1,c2d_EG_2)\n",
    "c2d_EG_34 = pd.merge_ordered(c2d_EG_3,c2d_EG_4)\n",
    "c2d_EG = pd.merge_ordered(c2d_EG_12,c2d_EG_34)\n",
    "c2d_EG[\"Target\"] = 1\n",
    "\n",
    "\n",
    "c2d_ST_1 = pd.merge_ordered(c2d[c2d[\"object_type\"]=='star+dust(MP1)'],c2d[c2d[\"object_type\"]=='star+dust(IR4)'])\n",
    "c2d_ST_2 = pd.merge_ordered(c2d[c2d[\"object_type\"]=='star+dust(IR2)'],c2d[c2d[\"object_type\"]=='star+dust(IR3)'])\n",
    "c2d_ST_3 = pd.merge_ordered(c2d[c2d[\"object_type\"]=='Galc_star+dust(IR1)'],c2d[c2d[\"object_type\"]=='star'])\n",
    "c2d_ST_12 = pd.merge_ordered(c2d_ST_1,c2d_ST_2)\n",
    "c2d_ST = pd.merge_ordered(c2d_ST_3,c2d_ST_12)\n",
    "c2d_ST[\"Target\"] = 2\n",
    "\n",
    "c2d_1 = pd.merge_ordered(c2d_YSO,c2d_EG)\n",
    "c2d_NEW = pd.merge_ordered(c2d_1,c2d_ST)\n",
    "\n",
    "print(f\"YSO shape: {c2d_YSO.shape}\")\n",
    "print(f\"EG shape: {c2d_EG.shape}\")\n",
    "print(f\"Star shape: {c2d_ST.shape}\")\n"
   ]
  },
  {
   "cell_type": "code",
   "execution_count": 12,
   "metadata": {},
   "outputs": [
    {
     "name": "stdout",
     "output_type": "stream",
     "text": [
      "Cleaning data, done!\n"
     ]
    },
    {
     "name": "stderr",
     "output_type": "stream",
     "text": [
      "/var/folders/qy/7yz8bmv96hx8rndql_rfdz_80000gn/T/ipykernel_55262/3672380420.py:13: RuntimeWarning: divide by zero encountered in log10\n",
      "  m = -2.5*np.log10(F*0.001/F0)\n",
      "/var/folders/qy/7yz8bmv96hx8rndql_rfdz_80000gn/T/ipykernel_55262/3672380420.py:13: RuntimeWarning: invalid value encountered in log10\n",
      "  m = -2.5*np.log10(F*0.001/F0)\n",
      "/var/folders/qy/7yz8bmv96hx8rndql_rfdz_80000gn/T/ipykernel_55262/3672380420.py:18: RuntimeWarning: invalid value encountered in true_divide\n",
      "  m = (2.5/np.log(10))*(e_F/F)\n",
      "/var/folders/qy/7yz8bmv96hx8rndql_rfdz_80000gn/T/ipykernel_55262/3672380420.py:18: RuntimeWarning: divide by zero encountered in true_divide\n",
      "  m = (2.5/np.log(10))*(e_F/F)\n"
     ]
    }
   ],
   "source": [
    "c2d_IRAC = c2d_NEW[[\"object_type\",\"region\",\"ir1_flux_c\",\"ir1_d_flux_c\",\"ir2_flux_c\",\"ir2_d_flux_c\",\"ir3_flux_c\",\"ir3_d_flux_c\",\"ir4_flux_c\",\"ir4_d_flux_c\", \"Target\"]]\n",
    "\n",
    "\n",
    "c2d_IRAC = c2d_IRAC[~c2d_IRAC[\"ir1_flux_c\"].isna() & ~c2d_IRAC[\"ir2_flux_c\"].isna() & ~c2d_IRAC[\"ir3_flux_c\"].isna() & ~c2d_IRAC[\"ir4_flux_c\"].isna()\\\n",
    "    & ~c2d_IRAC[\"ir1_d_flux_c\"].isna() & ~c2d_IRAC[\"ir2_d_flux_c\"].isna() & ~c2d_IRAC[\"ir3_d_flux_c\"].isna() & ~c2d_IRAC[\"ir4_d_flux_c\"].isna()]\n",
    "\n",
    "# Load in magnitude data\n",
    "# Access data by band instead of object\n",
    "c2d_IRAC_fluxes = c2d_IRAC[[\"ir1_flux_c\",\"ir1_d_flux_c\",\"ir2_flux_c\",\"ir2_d_flux_c\",\"ir3_flux_c\",\"ir3_d_flux_c\",\"ir4_flux_c\",\"ir4_d_flux_c\"]].values.astype(float).transpose() \n",
    "band_names = [\"ir1_flux_c\",\"ir1_d_flux_c\",\"ir2_flux_c\",\"ir2_d_flux_c\",\"ir3_flux_c\",\"ir3_d_flux_c\",\"ir4_flux_c\",\"ir4_d_flux_c\"]\n",
    "# Convert magnitudes to flux\n",
    "for i, F_0 in enumerate([277.500, 277.500, 179.500, 179.500, 116.600, 116.600, 63.100, 63.100]):\n",
    "    if i%2==0:\n",
    "        c2d_IRAC[band_names[i]] = mJy_to_mag(c2d_IRAC_fluxes[i],F_0) # Convert fluxes in a column to mags\n",
    "    else:\n",
    "        c2d_IRAC[band_names[i]] = e_mJy_to_mag(c2d_IRAC_fluxes[i],c2d_IRAC_fluxes[i-1]) # Convert errors in a column to mag\n",
    "inf_ind_2 = c2d_IRAC[[\"ir1_flux_c\",\"ir1_d_flux_c\",\"ir2_flux_c\",\"ir2_d_flux_c\",\"ir3_flux_c\",\"ir3_d_flux_c\",\"ir4_flux_c\",\"ir4_d_flux_c\"]].index[np.isinf(c2d_IRAC[[\"ir1_flux_c\",\"ir1_d_flux_c\",\"ir2_flux_c\",\"ir2_d_flux_c\",\"ir3_flux_c\",\"ir3_d_flux_c\",\"ir4_flux_c\",\"ir4_d_flux_c\"]]).any(1)]\n",
    "c2d_IRAC = c2d_IRAC.drop(index = inf_ind_2)\n",
    "c2d_IRAC[\"alpha\"] = alpha(c2d_IRAC[\"ir2_flux_c\"],c2d_IRAC[\"ir4_flux_c\"])\n",
    "\n",
    "c2d_IRAC = c2d_IRAC[~c2d_IRAC[\"ir1_flux_c\"].isna() & ~c2d_IRAC[\"ir2_flux_c\"].isna() & ~c2d_IRAC[\"ir3_flux_c\"].isna() & ~c2d_IRAC[\"ir4_flux_c\"].isna()\\\n",
    "    & ~c2d_IRAC[\"ir1_d_flux_c\"].isna() & ~c2d_IRAC[\"ir2_d_flux_c\"].isna() & ~c2d_IRAC[\"ir3_d_flux_c\"].isna() & ~c2d_IRAC[\"ir4_d_flux_c\"].isna() & ~c2d_IRAC[\"alpha\"].isna()]\n",
    "\n",
    "print(\"Cleaning data, done!\")"
   ]
  },
  {
   "cell_type": "code",
   "execution_count": 24,
   "metadata": {},
   "outputs": [
    {
     "name": "stdout",
     "output_type": "stream",
     "text": [
      "<class 'pandas.core.frame.DataFrame'>\n",
      "Int64Index: 343581 entries, 7 to 414520\n",
      "Data columns (total 10 columns):\n",
      " #   Column        Non-Null Count   Dtype  \n",
      "---  ------        --------------   -----  \n",
      " 0   ir1_flux_c    343581 non-null  float64\n",
      " 1   ir1_d_flux_c  343581 non-null  float64\n",
      " 2   ir2_flux_c    343581 non-null  float64\n",
      " 3   ir2_d_flux_c  343581 non-null  float64\n",
      " 4   ir3_flux_c    343581 non-null  float64\n",
      " 5   ir3_d_flux_c  343581 non-null  float64\n",
      " 6   ir4_flux_c    343581 non-null  float64\n",
      " 7   ir4_d_flux_c  343581 non-null  float64\n",
      " 8   alpha         343581 non-null  float64\n",
      " 9   Target        343581 non-null  int64  \n",
      "dtypes: float64(9), int64(1)\n",
      "memory usage: 28.8 MB\n"
     ]
    }
   ],
   "source": [
    "c2d = c2d_IRAC[[\"ir1_flux_c\",\"ir1_d_flux_c\",\"ir2_flux_c\",\"ir2_d_flux_c\",\"ir3_flux_c\",\"ir3_d_flux_c\",\"ir4_flux_c\",\"ir4_d_flux_c\",\"alpha\",\"Target\"]]\n",
    "c2d.info()"
   ]
  },
  {
   "cell_type": "code",
   "execution_count": 26,
   "metadata": {},
   "outputs": [
    {
     "data": {
      "text/plain": [
       "(343581, 10)"
      ]
     },
     "execution_count": 26,
     "metadata": {},
     "output_type": "execute_result"
    }
   ],
   "source": [
    "cat_t= c2d.values\n",
    "\n",
    "np.shape(cat_t)"
   ]
  },
  {
   "cell_type": "code",
   "execution_count": 27,
   "metadata": {},
   "outputs": [
    {
     "name": "stdout",
     "output_type": "stream",
     "text": [
      "(274864, 10) (68717, 10)\n"
     ]
    }
   ],
   "source": [
    "cat, cat_v = train_test_split(cat_t,train_size=.80,random_state=0)\n",
    "print (np.shape(cat),np.shape(cat_v))"
   ]
  },
  {
   "cell_type": "code",
   "execution_count": 30,
   "metadata": {},
   "outputs": [
    {
     "name": "stdout",
     "output_type": "stream",
     "text": [
      "274864 68717 343581\n"
     ]
    }
   ],
   "source": [
    "idx_0v=(np.where(cat_v[:,9]==0)[0])\n",
    "idx_1v=(np.where(cat_v[:,9]==1)[0])\n",
    "idx_2v=(np.where(((cat_v[:,9]!=1) & (cat_v[:,9]!=0)))[0])\n",
    "\n",
    "cat_v[idx_0v,9]=0\n",
    "cat_v[idx_1v,9]=1\n",
    "cat_v[idx_2v,9]=2\n",
    "\n",
    "inp_test= cat_v[:,[0,2,4,6]]\n",
    "tar_test= cat_v[:,9]\n",
    "\n",
    "print (len(cat),len(cat_v),len(cat_t))\n"
   ]
  },
  {
   "cell_type": "code",
   "execution_count": 31,
   "metadata": {},
   "outputs": [
    {
     "data": {
      "text/plain": [
       "68717"
      ]
     },
     "execution_count": 31,
     "metadata": {},
     "output_type": "execute_result"
    }
   ],
   "source": [
    "len(tar_test)"
   ]
  },
  {
   "cell_type": "code",
   "execution_count": 39,
   "metadata": {},
   "outputs": [
    {
     "data": {
      "text/plain": [
       "2890"
      ]
     },
     "execution_count": 39,
     "metadata": {},
     "output_type": "execute_result"
    }
   ],
   "source": [
    "len(np.where(cat[:,9]==1)[0])"
   ]
  },
  {
   "cell_type": "code",
   "execution_count": 40,
   "metadata": {},
   "outputs": [
    {
     "name": "stdout",
     "output_type": "stream",
     "text": [
      "1149 2890 270825\n"
     ]
    }
   ],
   "source": [
    "idx_0=(np.where(cat[:,9]==0)[0])\n",
    "idx_1=(np.where(cat[:,9]==1)[0])\n",
    "idx_2=(np.where((cat[:,9]!=1) & (cat[:,9]!=0))[0])\n",
    "\n",
    "print (len(idx_0),len(idx_1),len(idx_2))"
   ]
  },
  {
   "cell_type": "code",
   "execution_count": 42,
   "metadata": {},
   "outputs": [
    {
     "data": {
      "text/plain": [
       "0.07025351913140836"
      ]
     },
     "execution_count": 42,
     "metadata": {},
     "output_type": "execute_result"
    }
   ],
   "source": [
    "n_sigma=1\n",
    "\n",
    "\n",
    "sig_36=n_sigma* np.percentile(cat[:,1],68)\n",
    "sig_45=n_sigma*np.percentile(cat[:,3],68)\n",
    "sig_58=n_sigma*np.percentile(cat[:,5],68)\n",
    "sig_80=n_sigma*np.percentile(cat[:,7],68)\n",
    "sig_36"
   ]
  },
  {
   "cell_type": "code",
   "execution_count": 43,
   "metadata": {},
   "outputs": [],
   "source": [
    "mag= cat[:,[0,2,4,6]]\n",
    "err= cat[:,[1,3,5,7]]\n",
    "\n"
   ]
  },
  {
   "cell_type": "code",
   "execution_count": 44,
   "metadata": {},
   "outputs": [
    {
     "data": {
      "text/plain": [
       "(1149, 4)"
      ]
     },
     "execution_count": 44,
     "metadata": {},
     "output_type": "execute_result"
    }
   ],
   "source": [
    "mag_0=mag[idx_0]  # 414\n",
    "mag_1=mag[idx_1]  # 2659\n",
    "mag_2=mag[idx_2]  # 23830\n",
    "\n",
    "\n",
    "err_0=err[idx_0]  # 414\n",
    "err_1=err[idx_1]  # 2659\n",
    "err_2=err[idx_2]  # 23830\n",
    "\n",
    "np.shape(mag_0)"
   ]
  },
  {
   "cell_type": "code",
   "execution_count": 14,
   "metadata": {},
   "outputs": [],
   "source": [
    "# n_sample=10\n",
    "# inp=[]\n",
    "# tar=[]\n",
    "# for k1 in range(1):\n",
    "#     bts_0=np.random.choice(len(mag_0),n_sample,replace=True)\n",
    "#     bts_1=np.random.choice(len(mag_1),n_sample,replace=True)\n",
    "#     bts_2=np.random.choice(len(mag_2),n_sample,replace=True)\n",
    "#     #mag_2[bts_2]\n",
    "#     #np.abs(np.random.randn(n_sample))\n",
    "#     print(mag_2[bts_2])\n",
    "    \n"
   ]
  },
  {
   "cell_type": "code",
   "execution_count": 45,
   "metadata": {},
   "outputs": [
    {
     "data": {
      "text/plain": [
       "array([[10.93972129, 10.86724813, 11.30979302,  5.25672749],\n",
       "       [ 9.03922288,  7.72935252,  7.45833996,  3.62999515],\n",
       "       [ 9.97955174,  8.67170516,  7.89272602,  7.51548285],\n",
       "       [ 9.41026083,  9.35861581, 10.50617733,  4.81102513],\n",
       "       [13.1393057 , 12.65505628, 11.67149809, 10.67801683],\n",
       "       [ 8.8372322 ,  8.41727557,  8.28206352,  7.89045604],\n",
       "       [ 8.86270096,  8.39925525,  7.46376208,  8.83079066],\n",
       "       [13.04706543, 12.69565901, 10.91249475, 11.56571762],\n",
       "       [ 7.27415874,  6.60017293,  6.11637038,  8.67246274],\n",
       "       [ 6.85432947,  6.71946626,  6.77142576,  3.9526895 ]])"
      ]
     },
     "execution_count": 45,
     "metadata": {},
     "output_type": "execute_result"
    }
   ],
   "source": [
    "\n",
    "\n",
    "def BST(mag,n_sample,n_sig=1, sig_36=sig_36,sig_45=sig_45,sig_58=sig_58,sig_80=sig_80):\n",
    "    bts=np.random.choice(len(mag),n_sample,replace=True)\n",
    "    err=np.random.randn(n_sample,4)\n",
    "    mag_bts= mag[bts]\n",
    "    err[:,0]*=sig_36*n_sig\n",
    "    err[:,1]*=sig_45*n_sig\n",
    "    err[:,2]*=sig_58*n_sig\n",
    "    err[:,3]*=sig_80*n_sig\n",
    "    mag_dist= mag_bts+ err\n",
    "    return mag_dist\n",
    "    \n"
   ]
  },
  {
   "cell_type": "code",
   "execution_count": 47,
   "metadata": {},
   "outputs": [
    {
     "name": "stdout",
     "output_type": "stream",
     "text": [
      "(30000, 4) (30000,)\n"
     ]
    }
   ],
   "source": [
    "n_sample=25\n",
    "n_sig = 1\n",
    "inp=[]\n",
    "tar=[]\n",
    "\n",
    "for k1 in range(int(10000/n_sample)):\n",
    "    mag0= BST(mag_0,n_sample=n_sample,n_sig=n_sig)\n",
    "    tar.append([0]*n_sample)\n",
    "    inp.append(mag0) \n",
    "    mag1= BST(mag_1,n_sample=n_sample,n_sig=n_sig)\n",
    "    tar.append([1]*n_sample)\n",
    "    inp.append(mag1) \n",
    "    mag2= BST(mag_2,n_sample=n_sample,n_sig=n_sig)\n",
    "    tar.append([2]*n_sample)\n",
    "    inp.append(mag2) \n",
    "\n",
    "\n",
    " \n",
    "            \n",
    "\n",
    "\n",
    "inp = np.array(inp)\n",
    "inp=np.reshape(inp, (np.shape(inp)[0]*np.shape(inp)[1],4))\n",
    "tar=np.reshape(tar,-1)\n",
    "\n",
    "n_arr=np.arange(len(inp))\n",
    "np.random.shuffle(n_arr)\n",
    "inp= inp[n_arr]\n",
    "tar= tar[n_arr]\n",
    "\n",
    "\n",
    "print(np.shape(inp),np.shape(tar))"
   ]
  },
  {
   "cell_type": "code",
   "execution_count": 50,
   "metadata": {},
   "outputs": [
    {
     "name": "stdout",
     "output_type": "stream",
     "text": [
      "Done\n"
     ]
    }
   ],
   "source": [
    "np.save('../Data_and_Results/c2d_ALL_HT_Inputs',inp)\n",
    "np.save('../Data_and_Results/c2d_ALL_HT_Targets',tar)\n",
    "np.save('../Data_and_Results/c2d_ALL_HT_mag0',mag_0)\n",
    "np.save('../Data_and_Results/c2d_ALL_HT_mag1',mag_1)\n",
    "np.save('../Data_and_Results/c2d_ALL_HT_mag2',mag_2)\n",
    "\n",
    "np.save('../Data_and_Results/c2d_ALL_HT_inp_test',inp_test)\n",
    "np.save('../Data_and_Results/c2d_ALL_HT_tar_test',tar_test)\n",
    "print('Done')"
   ]
  },
  {
   "cell_type": "code",
   "execution_count": null,
   "metadata": {},
   "outputs": [],
   "source": []
  }
 ],
 "metadata": {
  "colab": {
   "name": "S01-Pandas-CSV.ipynb",
   "provenance": []
  },
  "interpreter": {
   "hash": "b32a61eb6ff93be71f4251ffff73c84aa9d3b2a4cb02800e928ae707ac05d999"
  },
  "kernelspec": {
   "display_name": "Python 3.9.12",
   "language": "python",
   "name": "python3"
  },
  "language_info": {
   "codemirror_mode": {
    "name": "ipython",
    "version": 3
   },
   "file_extension": ".py",
   "mimetype": "text/x-python",
   "name": "python",
   "nbconvert_exporter": "python",
   "pygments_lexer": "ipython3",
   "version": "3.9.12"
  }
 },
 "nbformat": 4,
 "nbformat_minor": 1
}
