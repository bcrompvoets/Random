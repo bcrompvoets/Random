{
 "cells": [
  {
   "cell_type": "code",
   "execution_count": 10,
   "metadata": {},
   "outputs": [],
   "source": [
    "from sklearn.cluster import SpectralClustering\n",
    "from sklearn.mixture import GaussianMixture\n",
    "import numpy as np\n",
    "import matplotlib.pyplot as plt\n",
    "SC = SpectralClustering(4)\n",
    "gm = GaussianMixture(4)"
   ]
  },
  {
   "cell_type": "code",
   "execution_count": 58,
   "metadata": {},
   "outputs": [
    {
     "data": {
      "text/plain": [
       "(20000, 9)"
      ]
     },
     "execution_count": 58,
     "metadata": {},
     "output_type": "execute_result"
    }
   ],
   "source": [
    "inp_tr = np.load(\"../Data_and_Results/Inputs_YSO_Train.npy\")[slice(0,20000)]\n",
    "tar_tr = np.load(\"../Data_and_Results/Targets_YSO_Train.npy\")[slice(0,20000)]\n",
    "\n",
    "inp_tr.shape"
   ]
  },
  {
   "cell_type": "code",
   "execution_count": 27,
   "metadata": {},
   "outputs": [
    {
     "data": {
      "text/plain": [
       "SpectralClustering(n_clusters=4)"
      ]
     },
     "execution_count": 27,
     "metadata": {},
     "output_type": "execute_result"
    }
   ],
   "source": [
    "SC.fit(inp_tr)\n"
   ]
  },
  {
   "cell_type": "code",
   "execution_count": 28,
   "metadata": {},
   "outputs": [
    {
     "data": {
      "text/plain": [
       "(array([910.,   0.,   0.,   6.,   0.,   0.,   6.,   0.,   0.,  23.]),\n",
       " array([0. , 0.3, 0.6, 0.9, 1.2, 1.5, 1.8, 2.1, 2.4, 2.7, 3. ]),\n",
       " [<matplotlib.patches.Polygon at 0x128fad630>])"
      ]
     },
     "execution_count": 28,
     "metadata": {},
     "output_type": "execute_result"
    },
    {
     "data": {
      "image/png": "[encoded data removed]",
      "text/plain": [
       "<Figure size 432x288 with 1 Axes>"
      ]
     },
     "metadata": {
      "needs_background": "light"
     },
     "output_type": "display_data"
    }
   ],
   "source": [
    "pred = SC.fit_predict(inp_tr)\n",
    "# To analyze, find which of the four clusters has the greatest number of each class:\n",
    "CI = np.where(tar_tr==0)[0]\n",
    "CII = np.where(tar_tr==1)[0]\n",
    "CFS = np.where(tar_tr==2)[0]\n",
    "CIII = np.where(tar_tr==3)[0]\n",
    "\n",
    "plt.hist(pred[CI],histtype='step',label='Class I')\n",
    "plt.hist(pred[CII],histtype='step',label='Class II')\n",
    "plt.hist(pred[CFS],histtype='step',label='Class FS')\n",
    "plt.hist(pred[CIII],histtype='step',label='Class III')"
   ]
  },
  {
   "cell_type": "code",
   "execution_count": 29,
   "metadata": {},
   "outputs": [
    {
     "data": {
      "text/plain": [
       "<matplotlib.legend.Legend at 0x125525ab0>"
      ]
     },
     "execution_count": 29,
     "metadata": {},
     "output_type": "execute_result"
    },
    {
     "data": {
      "image/png": "[encoded data removed]",
      "text/plain": [
       "<Figure size 432x288 with 1 Axes>"
      ]
     },
     "metadata": {
      "needs_background": "light"
     },
     "output_type": "display_data"
    }
   ],
   "source": [
    "pred_gm = gm.fit_predict(inp_tr)\n",
    "\n",
    "plt.hist(pred_gm[CI],histtype='step',label='Class I')\n",
    "plt.hist(pred_gm[CII],histtype='step',label='Class II')\n",
    "plt.hist(pred_gm[CFS],histtype='step',label='Class FS')\n",
    "plt.hist(pred_gm[CIII],histtype='step',label='Class III')\n",
    "plt.legend()"
   ]
  },
  {
   "cell_type": "code",
   "execution_count": 30,
   "metadata": {},
   "outputs": [],
   "source": [
    "from sklearn.cluster import k_means\n",
    "\n",
    "cen, labs, inert  = k_means(inp_tr,4)"
   ]
  },
  {
   "cell_type": "code",
   "execution_count": 31,
   "metadata": {},
   "outputs": [
    {
     "data": {
      "text/plain": [
       "<matplotlib.legend.Legend at 0x128bb2d70>"
      ]
     },
     "execution_count": 31,
     "metadata": {},
     "output_type": "execute_result"
    },
    {
     "data": {
      "image/png": "[encoded data removed]",
      "text/plain": [
       "<Figure size 432x288 with 1 Axes>"
      ]
     },
     "metadata": {
      "needs_background": "light"
     },
     "output_type": "display_data"
    }
   ],
   "source": [
    "\n",
    "plt.hist(labs[CI],histtype='step',label='Class I')\n",
    "plt.hist(labs[CII],histtype='step',label='Class II')\n",
    "plt.hist(labs[CFS],histtype='step',label='Class FS')\n",
    "plt.hist(labs[CIII],histtype='step',label='Class III')\n",
    "plt.legend()"
   ]
  },
  {
   "cell_type": "code",
   "execution_count": 32,
   "metadata": {},
   "outputs": [],
   "source": [
    "from sklearn.cluster import AgglomerativeClustering, MiniBatchKMeans, SpectralBiclustering"
   ]
  },
  {
   "cell_type": "code",
   "execution_count": 33,
   "metadata": {},
   "outputs": [
    {
     "data": {
      "text/plain": [
       "<matplotlib.legend.Legend at 0x12918ca00>"
      ]
     },
     "execution_count": 33,
     "metadata": {},
     "output_type": "execute_result"
    },
    {
     "data": {
      "image/png": "[encoded data removed]",
      "text/plain": [
       "<Figure size 432x288 with 1 Axes>"
      ]
     },
     "metadata": {
      "needs_background": "light"
     },
     "output_type": "display_data"
    }
   ],
   "source": [
    "ag = AgglomerativeClustering(4)\n",
    "\n",
    "pred_ag = ag.fit_predict(inp_tr)\n",
    "\n",
    "plt.hist(pred_ag[CI],histtype='step',label='Class I')\n",
    "plt.hist(pred_ag[CII],histtype='step',label='Class II')\n",
    "plt.hist(pred_ag[CFS],histtype='step',label='Class FS')\n",
    "plt.hist(pred_ag[CIII],histtype='step',label='Class III')\n",
    "plt.legend()"
   ]
  },
  {
   "cell_type": "code",
   "execution_count": 34,
   "metadata": {},
   "outputs": [
    {
     "data": {
      "text/plain": [
       "<matplotlib.legend.Legend at 0x12584fac0>"
      ]
     },
     "execution_count": 34,
     "metadata": {},
     "output_type": "execute_result"
    },
    {
     "data": {
      "image/png": "[encoded data removed]",
      "text/plain": [
       "<Figure size 432x288 with 1 Axes>"
      ]
     },
     "metadata": {
      "needs_background": "light"
     },
     "output_type": "display_data"
    }
   ],
   "source": [
    "minikm = MiniBatchKMeans(4)\n",
    "\n",
    "pred_mk = minikm.fit_predict(inp_tr)\n",
    "\n",
    "plt.hist(pred_mk[CI],histtype='step',label='Class I')\n",
    "plt.hist(pred_mk[CII],histtype='step',label='Class II')\n",
    "plt.hist(pred_mk[CFS],histtype='step',label='Class FS')\n",
    "plt.hist(pred_mk[CIII],histtype='step',label='Class III')\n",
    "plt.legend()"
   ]
  },
  {
   "cell_type": "code",
   "execution_count": 59,
   "metadata": {},
   "outputs": [
    {
     "name": "stderr",
     "output_type": "stream",
     "text": [
      "/Users/breannacrompvoets/miniforge3/envs/SF/lib/python3.10/site-packages/sklearn/ensemble/_gb.py:494: DataConversionWarning: A column-vector y was passed when a 1d array was expected. Please change the shape of y to (n_samples, ), for example using ravel().\n",
      "  y = column_or_1d(y, warn=True)\n"
     ]
    },
    {
     "data": {
      "text/plain": [
       "<matplotlib.legend.Legend at 0x12cb12ec0>"
      ]
     },
     "execution_count": 59,
     "metadata": {},
     "output_type": "execute_result"
    },
    {
     "data": {
      "image/png": "[encoded data removed]",
      "text/plain": [
       "<Figure size 432x288 with 1 Axes>"
      ]
     },
     "metadata": {
      "needs_background": "light"
     },
     "output_type": "display_data"
    }
   ],
   "source": [
    "from sklearn.ensemble import GradientBoostingClassifier\n",
    "\n",
    "gb = GradientBoostingClassifier()\n",
    "gb.fit(inp_tr,tar_tr)\n",
    "pred_gb = gb.predict(inp_tr)\n",
    "\n",
    "plt.hist(pred_gb[CI],histtype='step',label='Class I')\n",
    "plt.hist(pred_gb[CII],histtype='step',label='Class II')\n",
    "plt.hist(pred_gb[CFS],histtype='step',label='Class FS')\n",
    "plt.hist(pred_gb[CIII],histtype='step',label='Class III')\n",
    "plt.legend()"
   ]
  },
  {
   "cell_type": "code",
   "execution_count": 60,
   "metadata": {},
   "outputs": [
    {
     "name": "stdout",
     "output_type": "stream",
     "text": [
      "              precision    recall  f1-score   support\n",
      "\n",
      "         0.0       0.87      0.85      0.86      3630\n",
      "         1.0       0.84      0.77      0.80      5144\n",
      "         2.0       0.91      0.95      0.93     10281\n",
      "         3.0       0.93      0.98      0.96       945\n",
      "\n",
      "    accuracy                           0.89     20000\n",
      "   macro avg       0.89      0.89      0.89     20000\n",
      "weighted avg       0.89      0.89      0.89     20000\n",
      "\n"
     ]
    }
   ],
   "source": [
    "from sklearn.metrics import classification_report\n",
    "\n",
    "print(classification_report(tar_tr,pred_gb))"
   ]
  },
  {
   "cell_type": "code",
   "execution_count": 63,
   "metadata": {},
   "outputs": [
    {
     "data": {
      "text/plain": [
       "Text(0.5, 1.0, 'Gradient Boosting Labels')"
      ]
     },
     "execution_count": 63,
     "metadata": {},
     "output_type": "execute_result"
    },
    {
     "data": {
      "image/png": "[encoded data removed]",
      "text/plain": [
       "<Figure size 432x288 with 1 Axes>"
      ]
     },
     "metadata": {
      "needs_background": "light"
     },
     "output_type": "display_data"
    }
   ],
   "source": [
    "bins = np.linspace(-3, 6, 45)\n",
    "\n",
    "aIII = np.where(pred_gb==3.)\n",
    "plt.hist(inp_tr[aIII].transpose()[8],bins,histtype='step',label='Class III')\n",
    "aII = np.where(pred_gb==2.)\n",
    "plt.hist(inp_tr[aII].transpose()[8],bins,histtype='step',label='Class II')\n",
    "aFS = np.where(pred_gb==1.)\n",
    "plt.hist(inp_tr[aFS].transpose()[8],bins,histtype='step',label='Class FS')\n",
    "aI = np.where(pred_gb==0.)\n",
    "plt.hist(inp_tr[aI].transpose()[8],bins,histtype='step',label='Class I')\n",
    "\n",
    "plt.legend()\n",
    "plt.xlabel('Spectral Index α')\n",
    "plt.title('Gradient Boosting Labels')"
   ]
  },
  {
   "cell_type": "code",
   "execution_count": null,
   "metadata": {},
   "outputs": [],
   "source": []
  }
 ],
 "metadata": {
  "interpreter": {
   "hash": "a7a87715bbc43d8b5f73b6200b6ef66f163e7bfd9f5c97aea1eada326c99da2f"
  },
  "kernelspec": {
   "display_name": "Python 3.10.4 ('SF')",
   "language": "python",
   "name": "python3"
  },
  "language_info": {
   "codemirror_mode": {
    "name": "ipython",
    "version": 3
   },
   "file_extension": ".py",
   "mimetype": "text/x-python",
   "name": "python",
   "nbconvert_exporter": "python",
   "pygments_lexer": "ipython3",
   "version": "3.10.4"
  },
  "orig_nbformat": 4
 },
 "nbformat": 4,
 "nbformat_minor": 2
}
