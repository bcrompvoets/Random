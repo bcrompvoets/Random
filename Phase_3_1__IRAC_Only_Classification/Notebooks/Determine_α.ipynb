{
 "cells": [
  {
   "cell_type": "code",
   "execution_count": 88,
   "metadata": {},
   "outputs": [],
   "source": [
    "import numpy as np\n",
    "import matplotlib.pyplot as plt\n",
    "\n",
    "# Calculate alphas (use magnitudes from [4.5]-[8])\n",
    "def alpha(f1,f2):\n",
    "    y = 1.64*(f1-f2)-2.82\n",
    "    return y\n",
    "\n",
    "# # Convert magnitudes to flux\n",
    "# def flux(m,F0):\n",
    "#     F = F0*10**(m/-2.5)\n",
    "#     return F\n",
    "    \n",
    "\n",
    "\n"
   ]
  },
  {
   "cell_type": "code",
   "execution_count": 89,
   "metadata": {},
   "outputs": [],
   "source": [
    "# # Load in magnitude data\n",
    "# f = np.load(\"../Data_and_Results/Inputs_YSO_Train.npy\")\n",
    "# F = f.transpose() # Access data by band instead of object\n",
    "# F = F[slice(0,7,2)] # Only look at bands, not errors\n",
    "\n",
    "# # Convert magnitudes to flux\n",
    "# for i, F_0 in enumerate([2.343e-10,1.212e-10,6.099e-11,2.403e-11]):\n",
    "#     F[i] = flux(F[i],F_0)\n",
    "\n",
    "# F.shape"
   ]
  },
  {
   "cell_type": "code",
   "execution_count": 90,
   "metadata": {},
   "outputs": [
    {
     "name": "stdout",
     "output_type": "stream",
     "text": [
      "[0.791 1.323 1.621 ... 1.27  1.617 1.59 ]\n"
     ]
    },
    {
     "data": {
      "text/plain": [
       "<matplotlib.legend.Legend at 0x147c992d0>"
      ]
     },
     "execution_count": 90,
     "metadata": {},
     "output_type": "execute_result"
    },
    {
     "data": {
      "image/png": "[encoded data removed]",
      "text/plain": [
       "<Figure size 432x288 with 1 Axes>"
      ]
     },
     "metadata": {
      "needs_background": "light"
     },
     "output_type": "display_data"
    }
   ],
   "source": [
    "f2 = np.load(\"../Data_and_Results/Inputs_YSO_Train.npy\")\n",
    "f2 = f2.transpose()\n",
    "f2 = f2[slice(0,7,2)]\n",
    "\n",
    "\n",
    "alph2 = alpha(f2[1],f2[3])\n",
    "print(f2[1]-f2[3])\n",
    "# Apply cuts for different YSO classes\n",
    "aIII = np.where(alph2<-1.6)\n",
    "plt.hist(alph2[aIII],bins=3,label='Class III')\n",
    "aII = np.where((alph2<-0.3) & (alph2>-1.6))\n",
    "plt.hist(alph2[aII],bins=4,label='Class II')\n",
    "aFS = np.where((alph2>-0.3) & (alph2<0.3))\n",
    "plt.hist(alph2[aFS],bins=2,label='Class FS')\n",
    "aI = np.where(alph2>0.3)\n",
    "plt.hist(alph2[aI],bins=20,label='Class I')\n",
    "# plt.hist(alph2)\n",
    "plt.legend()"
   ]
  },
  {
   "cell_type": "code",
   "execution_count": 91,
   "metadata": {},
   "outputs": [
    {
     "data": {
      "text/plain": [
       "(array([6.7870e+03, 3.5091e+04, 3.7468e+04, 1.6414e+04, 5.5920e+03,\n",
       "        1.7820e+03, 6.2500e+02, 1.7800e+02, 9.7000e+01, 1.9000e+01]),\n",
       " array([-2.32472, -1.54572, -0.76672,  0.01228,  0.79128,  1.57028,\n",
       "         2.34928,  3.12828,  3.90728,  4.68628,  5.46528]),\n",
       " <BarContainer object of 10 artists>)"
      ]
     },
     "execution_count": 91,
     "metadata": {},
     "output_type": "execute_result"
    },
    {
     "data": {
      "image/png": "[encoded data removed]",
      "text/plain": [
       "<Figure size 432x288 with 1 Axes>"
      ]
     },
     "metadata": {
      "needs_background": "light"
     },
     "output_type": "display_data"
    }
   ],
   "source": [
    "# Checking to see where the last bin ends so I can use this as a cut to separate stars from CIII objects in Megeath\n",
    "plt.hist(alph2)"
   ]
  },
  {
   "cell_type": "code",
   "execution_count": 92,
   "metadata": {},
   "outputs": [
    {
     "data": {
      "text/plain": [
       "(4, 9971)"
      ]
     },
     "execution_count": 92,
     "metadata": {},
     "output_type": "execute_result"
    }
   ],
   "source": [
    "# Load in magnitude data\n",
    "f1 = np.load(\"../Data_and_Results/Inputs_YSO_Test.npy\")\n",
    "F1 = f1.transpose() # Access data by band instead of object\n",
    "F1 = F1[slice(0,7,2)] # Only look at bands, not errors\n",
    "\n",
    "F1.shape"
   ]
  },
  {
   "cell_type": "code",
   "execution_count": 93,
   "metadata": {},
   "outputs": [
    {
     "data": {
      "text/plain": [
       "(array([2.000e+00, 8.000e+00, 3.100e+01, 1.560e+02, 4.560e+02, 1.546e+03,\n",
       "        2.353e+03, 1.484e+03, 5.210e+02, 2.250e+02, 1.560e+02, 1.710e+02,\n",
       "        2.380e+02, 3.010e+02, 3.910e+02, 3.890e+02, 3.710e+02, 2.870e+02,\n",
       "        2.150e+02, 1.660e+02, 1.060e+02, 9.800e+01, 8.800e+01, 5.400e+01,\n",
       "        3.600e+01, 2.400e+01, 1.800e+01, 1.400e+01, 1.000e+01, 1.200e+01,\n",
       "        7.000e+00, 9.000e+00, 8.000e+00, 5.000e+00, 3.000e+00, 3.000e+00,\n",
       "        2.000e+00, 0.000e+00, 1.000e+00, 0.000e+00, 2.000e+00, 2.000e+00,\n",
       "        0.000e+00, 0.000e+00, 1.000e+00, 0.000e+00, 0.000e+00, 0.000e+00,\n",
       "        0.000e+00, 1.000e+00]),\n",
       " array([-3.9220800e+00, -3.7354808e+00, -3.5488816e+00, -3.3622824e+00,\n",
       "        -3.1756832e+00, -2.9890840e+00, -2.8024848e+00, -2.6158856e+00,\n",
       "        -2.4292864e+00, -2.2426872e+00, -2.0560880e+00, -1.8694888e+00,\n",
       "        -1.6828896e+00, -1.4962904e+00, -1.3096912e+00, -1.1230920e+00,\n",
       "        -9.3649280e-01, -7.4989360e-01, -5.6329440e-01, -3.7669520e-01,\n",
       "        -1.9009600e-01, -3.4968000e-03,  1.8310240e-01,  3.6970160e-01,\n",
       "         5.5630080e-01,  7.4290000e-01,  9.2949920e-01,  1.1160984e+00,\n",
       "         1.3026976e+00,  1.4892968e+00,  1.6758960e+00,  1.8624952e+00,\n",
       "         2.0490944e+00,  2.2356936e+00,  2.4222928e+00,  2.6088920e+00,\n",
       "         2.7954912e+00,  2.9820904e+00,  3.1686896e+00,  3.3552888e+00,\n",
       "         3.5418880e+00,  3.7284872e+00,  3.9150864e+00,  4.1016856e+00,\n",
       "         4.2882848e+00,  4.4748840e+00,  4.6614832e+00,  4.8480824e+00,\n",
       "         5.0346816e+00,  5.2212808e+00,  5.4078800e+00]),\n",
       " <BarContainer object of 50 artists>)"
      ]
     },
     "execution_count": 93,
     "metadata": {},
     "output_type": "execute_result"
    },
    {
     "data": {
      "image/png": "[encoded data removed]",
      "text/plain": [
       "<Figure size 432x288 with 1 Axes>"
      ]
     },
     "metadata": {
      "needs_background": "light"
     },
     "output_type": "display_data"
    }
   ],
   "source": [
    "# Calculate alphas and plot as histogram \n",
    "alphas = alpha(F1[1],F1[3])\n",
    "\n",
    "plt.hist(alphas, bins =50)\n"
   ]
  },
  {
   "cell_type": "code",
   "execution_count": 96,
   "metadata": {},
   "outputs": [
    {
     "data": {
      "text/plain": [
       "<matplotlib.legend.Legend at 0x147c78520>"
      ]
     },
     "execution_count": 96,
     "metadata": {},
     "output_type": "execute_result"
    },
    {
     "data": {
      "image/png": "[encoded data removed]",
      "text/plain": [
       "<Figure size 432x288 with 1 Axes>"
      ]
     },
     "metadata": {
      "needs_background": "light"
     },
     "output_type": "display_data"
    }
   ],
   "source": [
    "# Clearly many stars mixed in sample; apply cuts for different YSO classes\n",
    "aIII = np.where((alphas<-1.6) & (alphas>-2.3))\n",
    "plt.hist(alphas[aIII],bins=3,label='Class III')\n",
    "aII = np.where((alphas<-0.3) & (alphas>-1.6))\n",
    "plt.hist(alphas[aII],bins=4,label='Class II')\n",
    "aFS = np.where((alphas>-0.3) & (alphas<0.3))\n",
    "plt.hist(alphas[aFS],bins=2,label='Class FS')\n",
    "aI = np.where(alphas>0.3)\n",
    "plt.hist(alphas[aI],bins=20,label='Class I')\n",
    "\n",
    "plt.legend()"
   ]
  },
  {
   "cell_type": "code",
   "execution_count": 97,
   "metadata": {},
   "outputs": [
    {
     "data": {
      "text/plain": [
       "array([0., 1., 3.])"
      ]
     },
     "execution_count": 97,
     "metadata": {},
     "output_type": "execute_result"
    }
   ],
   "source": [
    "Y = np.load(\"../Data_and_Results/Targets_YSO_Test.npy\")\n",
    "\n",
    "np.unique(Y)"
   ]
  },
  {
   "cell_type": "code",
   "execution_count": 127,
   "metadata": {},
   "outputs": [
    {
     "data": {
      "text/plain": [
       "<matplotlib.legend.Legend at 0x169adb430>"
      ]
     },
     "execution_count": 127,
     "metadata": {},
     "output_type": "execute_result"
    },
    {
     "data": {
      "image/png": "[encoded data removed]",
      "text/plain": [
       "<Figure size 432x288 with 1 Axes>"
      ]
     },
     "metadata": {
      "needs_background": "light"
     },
     "output_type": "display_data"
    }
   ],
   "source": [
    "# Compare the cut groups vs the identified groups in Megeath/Rapson for CII\n",
    "\n",
    "f1 = np.load(\"../Data_and_Results/Inputs_YSO_Test.npy\")\n",
    "FII = f1[np.where(Y==1.)[0]]\n",
    "F2 = FII.transpose() # Access data by band instead of object\n",
    "F2 = F2[slice(0,7,2)] # Only look at bands, not errors\n",
    "\n",
    "alphasII = alpha(F2[1],F2[3])\n",
    "\n",
    "plt.hist(alphasII,bins=59,label='By targets')\n",
    "plt.hist(alphas[aII],label='By alphas')\n",
    "plt.legend()"
   ]
  },
  {
   "cell_type": "code",
   "execution_count": null,
   "metadata": {},
   "outputs": [],
   "source": []
  }
 ],
 "metadata": {
  "interpreter": {
   "hash": "a7a87715bbc43d8b5f73b6200b6ef66f163e7bfd9f5c97aea1eada326c99da2f"
  },
  "kernelspec": {
   "display_name": "Python 3.10.4 ('SF')",
   "language": "python",
   "name": "python3"
  },
  "language_info": {
   "codemirror_mode": {
    "name": "ipython",
    "version": 3
   },
   "file_extension": ".py",
   "mimetype": "text/x-python",
   "name": "python",
   "nbconvert_exporter": "python",
   "pygments_lexer": "ipython3",
   "version": "3.10.4"
  },
  "orig_nbformat": 4
 },
 "nbformat": 4,
 "nbformat_minor": 2
}
