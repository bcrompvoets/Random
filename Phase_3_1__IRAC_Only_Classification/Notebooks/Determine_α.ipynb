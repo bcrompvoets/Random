{
 "cells": [
  {
   "cell_type": "code",
   "execution_count": 113,
   "metadata": {},
   "outputs": [],
   "source": [
    "import numpy as np\n",
    "import matplotlib.pyplot as plt\n",
    "\n",
    "# Calculate alphas (use magnitudes from [4.5]-[8])\n",
    "\n",
    "def alpha(f1,f2):\n",
    "    y = 1.64*(f1-f2)-2.82\n",
    "    return y\n",
    "\n",
    "# # Convert magnitudes to flux\n",
    "# def flux(m,F0):\n",
    "#     F = F0*10**(m/-2.5)\n",
    "#     return F\n",
    "    \n",
    "\n",
    "\n"
   ]
  },
  {
   "cell_type": "code",
   "execution_count": 114,
   "metadata": {},
   "outputs": [],
   "source": [
    "# # Load in magnitude data\n",
    "# f = np.load(\"../Data_and_Results/Inputs_YSO_Train.npy\")\n",
    "# F = f.transpose() # Access data by band instead of object\n",
    "# F = F[slice(0,7,2)] # Only look at bands, not errors\n",
    "\n",
    "# # Convert magnitudes to flux\n",
    "# for i, F_0 in enumerate([2.343e-10,1.212e-10,6.099e-11,2.403e-11]):\n",
    "#     F[i] = flux(F[i],F_0)\n",
    "\n",
    "# F.shape"
   ]
  },
  {
   "cell_type": "code",
   "execution_count": 115,
   "metadata": {},
   "outputs": [
    {
     "name": "stdout",
     "output_type": "stream",
     "text": [
      "[0.791 1.323 1.621 ... 1.27  1.617 1.59 ]\n"
     ]
    },
    {
     "data": {
      "text/plain": [
       "<matplotlib.legend.Legend at 0x157c83e80>"
      ]
     },
     "execution_count": 115,
     "metadata": {},
     "output_type": "execute_result"
    },
    {
     "data": {
      "image/png": "[encoded data removed]",
      "text/plain": [
       "<Figure size 432x288 with 1 Axes>"
      ]
     },
     "metadata": {
      "needs_background": "light"
     },
     "output_type": "display_data"
    }
   ],
   "source": [
    "f2 = np.load(\"../Data_and_Results/Inputs_YSO_Train.npy\")\n",
    "f2 = f2.transpose()\n",
    "f2 = f2[slice(0,7,2)]\n",
    "\n",
    "bins = np.linspace(-3, 6, 45)\n",
    "\n",
    "alph2 = alpha(f2[1],f2[3])\n",
    "print(f2[1]-f2[3])\n",
    "# Apply cuts for different YSO classes\n",
    "aIII = np.where(alph2<-1.6)\n",
    "plt.hist(alph2[aIII],bins,label='Class III')\n",
    "aII = np.where((alph2<-0.3) & (alph2>-1.6))\n",
    "plt.hist(alph2[aII],bins,label='Class II')\n",
    "aFS = np.where((alph2>-0.3) & (alph2<0.3))\n",
    "plt.hist(alph2[aFS],bins,label='Class FS')\n",
    "aI = np.where(alph2>0.3)\n",
    "plt.hist(alph2[aI],bins,label='Class I')\n",
    "# plt.hist(alph2)\n",
    "plt.legend()"
   ]
  },
  {
   "cell_type": "code",
   "execution_count": 116,
   "metadata": {},
   "outputs": [
    {
     "data": {
      "text/plain": [
       "(array([0.0000e+00, 0.0000e+00, 0.0000e+00, 4.1000e+01, 4.7100e+02,\n",
       "        2.0390e+03, 3.7130e+03, 5.8250e+03, 8.6700e+03, 1.0525e+04,\n",
       "        1.1571e+04, 1.1467e+04, 1.0574e+04, 9.0360e+03, 7.2380e+03,\n",
       "        5.5960e+03, 4.2790e+03, 3.3200e+03, 2.4640e+03, 1.8590e+03,\n",
       "        1.4040e+03, 1.0210e+03, 6.9500e+02, 5.2900e+02, 4.2700e+02,\n",
       "        3.4200e+02, 2.2200e+02, 1.9100e+02, 1.4800e+02, 9.4000e+01,\n",
       "        6.2000e+01, 5.8000e+01, 3.2000e+01, 2.9000e+01, 2.4000e+01,\n",
       "        4.3000e+01, 1.6000e+01, 1.2000e+01, 1.2000e+01, 0.0000e+00,\n",
       "        3.0000e+00, 1.0000e+00, 0.0000e+00, 0.0000e+00]),\n",
       " array([-3.        , -2.79545455, -2.59090909, -2.38636364, -2.18181818,\n",
       "        -1.97727273, -1.77272727, -1.56818182, -1.36363636, -1.15909091,\n",
       "        -0.95454545, -0.75      , -0.54545455, -0.34090909, -0.13636364,\n",
       "         0.06818182,  0.27272727,  0.47727273,  0.68181818,  0.88636364,\n",
       "         1.09090909,  1.29545455,  1.5       ,  1.70454545,  1.90909091,\n",
       "         2.11363636,  2.31818182,  2.52272727,  2.72727273,  2.93181818,\n",
       "         3.13636364,  3.34090909,  3.54545455,  3.75      ,  3.95454545,\n",
       "         4.15909091,  4.36363636,  4.56818182,  4.77272727,  4.97727273,\n",
       "         5.18181818,  5.38636364,  5.59090909,  5.79545455,  6.        ]),\n",
       " <BarContainer object of 44 artists>)"
      ]
     },
     "execution_count": 116,
     "metadata": {},
     "output_type": "execute_result"
    },
    {
     "data": {
      "image/png": "[encoded data removed]",
      "text/plain": [
       "<Figure size 432x288 with 1 Axes>"
      ]
     },
     "metadata": {
      "needs_background": "light"
     },
     "output_type": "display_data"
    }
   ],
   "source": [
    "# Checking to see where the last bin ends so I can use this as a cut to separate stars from CIII objects in Megeath\n",
    "plt.hist(alph2,bins)"
   ]
  },
  {
   "cell_type": "code",
   "execution_count": 117,
   "metadata": {},
   "outputs": [
    {
     "data": {
      "text/plain": [
       "(4, 9971)"
      ]
     },
     "execution_count": 117,
     "metadata": {},
     "output_type": "execute_result"
    }
   ],
   "source": [
    "# Load in magnitude data\n",
    "f1 = np.load(\"../Data_and_Results/Inputs_YSO_Test.npy\")\n",
    "F1 = f1.transpose() # Access data by band instead of object\n",
    "F1 = F1[slice(0,7,2)] # Only look at bands, not errors\n",
    "\n",
    "F1.shape"
   ]
  },
  {
   "cell_type": "code",
   "execution_count": 118,
   "metadata": {},
   "outputs": [
    {
     "data": {
      "text/plain": [
       "(array([2.000e+00, 8.000e+00, 3.100e+01, 1.560e+02, 4.560e+02, 1.546e+03,\n",
       "        2.353e+03, 1.484e+03, 5.210e+02, 2.250e+02, 1.560e+02, 1.710e+02,\n",
       "        2.380e+02, 3.010e+02, 3.910e+02, 3.890e+02, 3.710e+02, 2.870e+02,\n",
       "        2.150e+02, 1.660e+02, 1.060e+02, 9.800e+01, 8.800e+01, 5.400e+01,\n",
       "        3.600e+01, 2.400e+01, 1.800e+01, 1.400e+01, 1.000e+01, 1.200e+01,\n",
       "        7.000e+00, 9.000e+00, 8.000e+00, 5.000e+00, 3.000e+00, 3.000e+00,\n",
       "        2.000e+00, 0.000e+00, 1.000e+00, 0.000e+00, 2.000e+00, 2.000e+00,\n",
       "        0.000e+00, 0.000e+00, 1.000e+00, 0.000e+00, 0.000e+00, 0.000e+00,\n",
       "        0.000e+00, 1.000e+00]),\n",
       " array([-3.9220800e+00, -3.7354808e+00, -3.5488816e+00, -3.3622824e+00,\n",
       "        -3.1756832e+00, -2.9890840e+00, -2.8024848e+00, -2.6158856e+00,\n",
       "        -2.4292864e+00, -2.2426872e+00, -2.0560880e+00, -1.8694888e+00,\n",
       "        -1.6828896e+00, -1.4962904e+00, -1.3096912e+00, -1.1230920e+00,\n",
       "        -9.3649280e-01, -7.4989360e-01, -5.6329440e-01, -3.7669520e-01,\n",
       "        -1.9009600e-01, -3.4968000e-03,  1.8310240e-01,  3.6970160e-01,\n",
       "         5.5630080e-01,  7.4290000e-01,  9.2949920e-01,  1.1160984e+00,\n",
       "         1.3026976e+00,  1.4892968e+00,  1.6758960e+00,  1.8624952e+00,\n",
       "         2.0490944e+00,  2.2356936e+00,  2.4222928e+00,  2.6088920e+00,\n",
       "         2.7954912e+00,  2.9820904e+00,  3.1686896e+00,  3.3552888e+00,\n",
       "         3.5418880e+00,  3.7284872e+00,  3.9150864e+00,  4.1016856e+00,\n",
       "         4.2882848e+00,  4.4748840e+00,  4.6614832e+00,  4.8480824e+00,\n",
       "         5.0346816e+00,  5.2212808e+00,  5.4078800e+00]),\n",
       " <BarContainer object of 50 artists>)"
      ]
     },
     "execution_count": 118,
     "metadata": {},
     "output_type": "execute_result"
    },
    {
     "data": {
      "image/png": "[encoded data removed]",
      "text/plain": [
       "<Figure size 432x288 with 1 Axes>"
      ]
     },
     "metadata": {
      "needs_background": "light"
     },
     "output_type": "display_data"
    }
   ],
   "source": [
    "# Calculate alphas and plot as histogram \n",
    "alphas = alpha(F1[1],F1[3])\n",
    "\n",
    "plt.hist(alphas, bins =50)\n"
   ]
  },
  {
   "cell_type": "code",
   "execution_count": 154,
   "metadata": {},
   "outputs": [
    {
     "data": {
      "text/plain": [
       "<matplotlib.legend.Legend at 0x1694499f0>"
      ]
     },
     "execution_count": 154,
     "metadata": {},
     "output_type": "execute_result"
    },
    {
     "data": {
      "image/png": "[encoded data removed]",
      "text/plain": [
       "<Figure size 432x288 with 1 Axes>"
      ]
     },
     "metadata": {
      "needs_background": "light"
     },
     "output_type": "display_data"
    }
   ],
   "source": [
    "# Clearly many stars mixed in sample; apply cuts for different YSO classes\n",
    "\n",
    "bins = np.linspace(-3, 6, 45)\n",
    "aIII = np.where((alphas<-1.6) & (alphas>-2.))\n",
    "plt.hist(alphas[aIII],bins,label='Class III')\n",
    "aII = np.where((alphas<-0.3) & (alphas>-1.6))\n",
    "plt.hist(alphas[aII],bins,label='Class II')\n",
    "aFS = np.where((alphas>-0.3) & (alphas<0.3))\n",
    "plt.hist(alphas[aFS],bins,label='Class FS')\n",
    "aI = np.where(alphas>0.3)\n",
    "plt.hist(alphas[aI],bins,label='Class I')\n",
    "\n",
    "plt.legend()"
   ]
  },
  {
   "cell_type": "code",
   "execution_count": 155,
   "metadata": {},
   "outputs": [
    {
     "data": {
      "text/plain": [
       "array([0., 1., 3.])"
      ]
     },
     "execution_count": 155,
     "metadata": {},
     "output_type": "execute_result"
    }
   ],
   "source": [
    "Y = np.load(\"../Data_and_Results/Targets_YSO_Test.npy\")\n",
    "\n",
    "np.unique(Y)"
   ]
  },
  {
   "cell_type": "code",
   "execution_count": 156,
   "metadata": {},
   "outputs": [
    {
     "data": {
      "text/plain": [
       "<matplotlib.legend.Legend at 0x16a36ca90>"
      ]
     },
     "execution_count": 156,
     "metadata": {},
     "output_type": "execute_result"
    },
    {
     "data": {
      "image/png": "[encoded data removed]",
      "text/plain": [
       "<Figure size 432x288 with 1 Axes>"
      ]
     },
     "metadata": {
      "needs_background": "light"
     },
     "output_type": "display_data"
    }
   ],
   "source": [
    "# Compare the cut groups vs the identified groups in Megeath/Rapson for CII\n",
    "\n",
    "f1 = np.load(\"../Data_and_Results/Inputs_YSO_Test.npy\")\n",
    "FII = f1[np.where(Y==1.)[0]]\n",
    "F2 = FII.transpose() # Access data by band instead of object\n",
    "F2 = F2[slice(0,7,2)] # Only look at bands, not errors\n",
    "\n",
    "alphasII = alpha(F2[1],F2[3])\n",
    "\n",
    "plt.hist(alphasII,bins,label='By targets')\n",
    "plt.hist(alphas[aII],bins,label='By alphas')\n",
    "plt.legend()"
   ]
  },
  {
   "cell_type": "code",
   "execution_count": 157,
   "metadata": {},
   "outputs": [],
   "source": [
    "# Look at all groups\n",
    "bins = np.linspace(-5, 5, 50)\n",
    "inp_CM = np.load(\"../Data_and_Results/Inputs_YSO_EG_Stars_alpha.npy\")\n",
    "tar_CM = np.load(\"../Data_and_Results/Targets_YSO_EG_Stars_alpha.npy\")\n",
    "EG = np.where(tar_CM==1)[0]\n",
    "alphasEG = inp_CM[EG].transpose()[8]\n",
    "\n",
    "YSO = np.where(tar_CM==0)[0]\n",
    "alphasYS = inp_CM[YSO].transpose()[8]\n",
    "\n",
    "ST = np.where(tar_CM==2)[0]\n",
    "alphasST = inp_CM[ST].transpose()[8]\n"
   ]
  },
  {
   "cell_type": "code",
   "execution_count": 158,
   "metadata": {},
   "outputs": [
    {
     "data": {
      "text/plain": [
       "<matplotlib.legend.Legend at 0x16a0a3f70>"
      ]
     },
     "execution_count": 158,
     "metadata": {},
     "output_type": "execute_result"
    },
    {
     "data": {
      "image/png": "[encoded data removed]",
      "text/plain": [
       "<Figure size 432x288 with 1 Axes>"
      ]
     },
     "metadata": {
      "needs_background": "light"
     },
     "output_type": "display_data"
    }
   ],
   "source": [
    "muYS = np.mean(alphasYS)\n",
    "sigYS = np.std(alphasYS)\n",
    "\n",
    "muST = np.mean(alphasST)\n",
    "sigST = np.std(alphasST)\n",
    "\n",
    "muEG = np.mean(alphasEG)\n",
    "sigEG = np.std(alphasEG)\n",
    "\n",
    "\n",
    "\n",
    "\n",
    "plt.hist(alphasYS,bins,histtype='step',label='YSO',density=True)\n",
    "plt.hist(alphasEG,bins,histtype='step',label='EG',density=True)\n",
    "plt.hist(alphasST,bins,histtype='step',label='Stars',density=True)\n",
    "plt.plot(bins, 1/(sigYS * np.sqrt(2 * np.pi)) * np.exp( - (bins - muYS)**2 / (2 * sigYS**2) ),linewidth=2, color='b')\n",
    "plt.axvline(x=-2.,color='k', linestyle='--')\n",
    "plt.plot(bins, 1/(sigEG * np.sqrt(2 * np.pi)) * np.exp( - (bins - muEG)**2 / (2 * sigEG**2) ),linewidth=2, color='orange')\n",
    "plt.plot(bins, 1/(sigST * np.sqrt(2 * np.pi)) * np.exp( - (bins - muST)**2 / (2 * sigST**2) ),linewidth=2, color='g')\n",
    "# plt.plot(np.linspace(-5,5,1000),np.random.normal(muYS,sigYS,1000))\n",
    "plt.legend()"
   ]
  },
  {
   "cell_type": "code",
   "execution_count": 159,
   "metadata": {},
   "outputs": [
    {
     "name": "stdout",
     "output_type": "stream",
     "text": [
      "Normal Distribution (mean,std): -0.8315394282001299 0.8170125219995262\n",
      "Integration bewteen -4.916602038197761 and -2.0 -->  0.07633492352400921\n"
     ]
    }
   ],
   "source": [
    "import scipy.stats\n",
    "from scipy.integrate import quad\n",
    "def normal_distribution_function(x):\n",
    "    value = scipy.stats.norm.pdf(x,muYS,sigYS)\n",
    "    return value\n",
    "\n",
    "x1 = muYS - 5*sigYS\n",
    "x2 = -2.\n",
    "\n",
    "res, err = quad(normal_distribution_function, x1, x2)\n",
    "\n",
    "print('Normal Distribution (mean,std):',muYS,sigYS)\n",
    "print('Integration bewteen {} and {} --> '.format(x1,x2),res)"
   ]
  },
  {
   "cell_type": "code",
   "execution_count": 160,
   "metadata": {},
   "outputs": [
    {
     "name": "stdout",
     "output_type": "stream",
     "text": [
      "Normal Distribution (mean,std): -2.6465825337372624 0.2823913209529823\n",
      "Integration bewteen -2.0 and -1.234625928972351 -->  0.01101998152946345\n"
     ]
    }
   ],
   "source": [
    "\n",
    "def normal_distribution_function(x):\n",
    "    value = scipy.stats.norm.pdf(x,muST,sigST)\n",
    "    return value\n",
    "\n",
    "x2 = muST + 5*sigST\n",
    "x1 = -2.\n",
    "\n",
    "res, err = quad(normal_distribution_function, x1, x2)\n",
    "\n",
    "print('Normal Distribution (mean,std):',muST,sigST)\n",
    "print('Integration bewteen {} and {} --> '.format(x1,x2),res)"
   ]
  },
  {
   "cell_type": "code",
   "execution_count": null,
   "metadata": {},
   "outputs": [],
   "source": []
  }
 ],
 "metadata": {
  "interpreter": {
   "hash": "a7a87715bbc43d8b5f73b6200b6ef66f163e7bfd9f5c97aea1eada326c99da2f"
  },
  "kernelspec": {
   "display_name": "Python 3.10.4 ('SF')",
   "language": "python",
   "name": "python3"
  },
  "language_info": {
   "codemirror_mode": {
    "name": "ipython",
    "version": 3
   },
   "file_extension": ".py",
   "mimetype": "text/x-python",
   "name": "python",
   "nbconvert_exporter": "python",
   "pygments_lexer": "ipython3",
   "version": "3.10.4"
  },
  "orig_nbformat": 4
 },
 "nbformat": 4,
 "nbformat_minor": 2
}
