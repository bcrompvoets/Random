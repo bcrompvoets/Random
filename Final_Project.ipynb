{
  "cells": [
    {
      "cell_type": "markdown",
      "metadata": {
        "id": "view-in-github",
        "colab_type": "text"
      },
      "source": [
        "<a href=\"https://colab.research.google.com/github/bcrompvoets/Star_Formation/blob/main/Final_Project.ipynb\" target=\"_parent\"><img src=\"https://colab.research.google.com/assets/colab-badge.svg\" alt=\"Open In Colab\"/></a>"
      ]
    },
    {
      "cell_type": "markdown",
      "metadata": {
        "id": "2GLopVOsCQ2A"
      },
      "source": [
        "# Final Project - PHYS 555 - Instructor: Seb Fabbro\n",
        "\n",
        "## Breanna Crompvoets and Samuel Fielder"
      ]
    },
    {
      "cell_type": "markdown",
      "metadata": {
        "id": "9r3MvlnrCQ2B"
      },
      "source": [
        "## Project Summary and Goals\n",
        "Young Stellar Objects (YSOs) are newly forming stars which are yet to begin burning. They are split into different classes depending on their dust/gas envelope to protostar ratio, with Class 0 having the greatest envelope, and Class III no longer having an envelope. Due to the different ratios of envelope to protostar, each class appears differently in spectroscopy; thus the difference in fluxes between Spitzer IRAC bands are able to determine which class the data comes from. This project will focus on using the same data as Cornu and Montillaud (2021; CM21) to classify data points into three classes: Class I, Class II, and Contaminants. Only these three classes out of the original 7 available are chosen as Class 0 and I are very difficult to separate, and Class III is difficult to distinguish from regular stars. Furthermore, the contaminating classes (galaxies, shocks, stars, and PAHs) are of less concern -- we would like the algorithms to focus on distinguishing Class I and Class II from the rest. The original paper uses a multi-layer perceptron (MLP) with one hidden layer (25 neurons). Their results are presented in below table.\n",
        "\n",
        "\n",
        "|Class | Recall | Precision |\n",
        "| --- | --- | --- |\n",
        "|1 | 94.0% | 79.1 |\n",
        "|2 | 96.7% | 90.6% | \n",
        "|Other | 98.7%| 99.8%| \n",
        "\n",
        "\n",
        "The data for this project was pulled from https://cdsarc.cds.unistra.fr/viz-bin/cat/J/A+A/647/A116. These data include columns for four Spitzer IRAC bands (3.6 $\\mu m$, 4.5 $\\mu m$, 5.8 $\\mu m$, and 8 $\\mu m$) fluxes and errors, as well as from one Spitzer MIPS band (24 $\\mu m$), along with the target values as determined via a manual classification scheme and the predicted data from CM21. We will only be using the four IRAC bands and their associated errors, as the MIPS band does not provide data for most objects. We use the same target values as they do for accurate comparison. \n",
        "\n",
        "\n",
        "This project seeks to use a multitude of algorithms learned over the semester to measure their effectiveness and compare it to the recreated MLP of CM21. These algorithms include: GridSearch with an SVC, GridSearch with a Logistic Regressor, a Stacking Ensemble with an SVC and a Logistic Regressor, a Gradient Boosting ensemble, a Random Forest ensemble, and an XGBoost ensemble. We also created our own MLP based off of their prescription. The workload was split as follows: B. Crompvoets completed the data preparation and all other algorithms besides the MLP. S. Fielder completed the an MLP close to that of CM21, as well as a deeper MLP.\n"
      ]
    },
    {
      "cell_type": "code",
      "execution_count": 17,
      "metadata": {
        "id": "oNZdspOvCQ2C"
      },
      "outputs": [],
      "source": [
        "# import statements\n",
        "import numpy as np\n",
        "import matplotlib.pyplot as plt\n",
        "import pandas as pd\n",
        "\n",
        "# classic ML libraries\n",
        "from sklearn.metrics import ConfusionMatrixDisplay\n",
        "from sklearn.preprocessing import StandardScaler\n",
        "from sklearn.pipeline import Pipeline\n",
        "from sklearn.linear_model import LogisticRegression\n",
        "from sklearn.ensemble import GradientBoostingClassifier, RandomForestClassifier, StackingClassifier\n",
        "from sklearn.svm import SVC\n",
        "from sklearn.model_selection import train_test_split,  GridSearchCV\n",
        "import xgboost as xgb\n",
        "\n",
        "# custom made libraries\n",
        "from custom_dataloader import replicate_data"
      ]
    },
    {
      "cell_type": "code",
      "execution_count": 2,
      "metadata": {
        "id": "hpioJ6S3CQ2E"
      },
      "outputs": [],
      "source": [
        "# Settings for confusion matrix plots\n",
        "\n",
        "cm_blues = plt.cm.Blues\n",
        "custom_labs = ['Class 1', 'Class 2', 'Others']"
      ]
    },
    {
      "cell_type": "markdown",
      "metadata": {
        "id": "9RJ3awIPCQ2D"
      },
      "source": [
        "# Classical ML Techniques"
      ]
    },
    {
      "cell_type": "markdown",
      "metadata": {
        "id": "i8QmwVqNCQ2F"
      },
      "source": [
        "For each of the below algorithms we ran a gridsearch over a wide variety of hyperparameters. These parameter dictionaries are commented out above the cell, and we use the best parameters as a sample here to show how each algorithm performed.\n",
        "\n",
        "> Need to actually put in these commented out cells."
      ]
    },
    {
      "cell_type": "markdown",
      "metadata": {
        "id": "1-unH4thCQ2F"
      },
      "source": [
        "## Loading Data Set"
      ]
    },
    {
      "cell_type": "code",
      "execution_count": 4,
      "metadata": {
        "colab": {
          "base_uri": "https://localhost:8080/"
        },
        "id": "5uaJUpxFCQ2G",
        "outputId": "ddd6eebd-e04a-41f0-e265-b5b508704c33"
      },
      "outputs": [
        {
          "output_type": "stream",
          "name": "stdout",
          "text": [
            "Sizes of Datasets : Inputs , Targets\n",
            "------------------------------------\n",
            "Training set: (1597, 8) , (1597,) \n",
            "Validation set: (5377, 8) , (5377,) \n",
            "Testing Set: (19929, 8), (19929,)\n",
            "------------------------------------\n"
          ]
        },
        {
          "output_type": "stream",
          "name": "stderr",
          "text": [
            "/usr/local/lib/python3.7/dist-packages/pandas/core/indexing.py:1817: SettingWithCopyWarning: \n",
            "A value is trying to be set on a copy of a slice from a DataFrame.\n",
            "Try using .loc[row_indexer,col_indexer] = value instead\n",
            "\n",
            "See the caveats in the documentation: https://pandas.pydata.org/pandas-docs/stable/user_guide/indexing.html#returning-a-view-versus-a-copy\n",
            "  self._setitem_single_column(loc, value, pi)\n"
          ]
        }
      ],
      "source": [
        "# data load\n",
        "X = np.load(\"Input_Class_AllClasses_Sep.npy\")\n",
        "Y = np.load(\"Target_Class_AllClasses_Sep.npy\")\n",
        "# X = np.load(\"Data/Input_Class_AllClasses_Sep.npy\")\n",
        "# Y = np.load(\"Data/Target_Class_AllClasses_Sep.npy\")\n",
        "\n",
        "# custom data loader to pull in custom sized data set\n",
        "# use seed to get replicable results for now\n",
        "seed_val = 1111\n",
        "\n",
        "# the amounts here are how many of each class of object you want in the training set and validation set\n",
        "# leftover amount get's dumped into testing set\n",
        "\n",
        "#amounts_train = [331,1141,231,529,27,70,1257]\n",
        "amounts_train = [300,300,300,300,27,70,300]\n",
        "amounts_val = [82, 531, 104, 278, 6, 17, 4359]\n",
        "\n",
        "inp_tr, tar_tr, inp_va, tar_va, inp_te, tar_te = replicate_data(X, Y, 'three', amounts_train, amounts_val, seed_val)\n",
        "\n",
        "# scaling data according to training inputs\n",
        "scaler_S = StandardScaler().fit(inp_tr)\n",
        "inp_tr = scaler_S.transform(inp_tr)\n",
        "inp_va = scaler_S.transform(inp_va)\n",
        "inp_te = scaler_S.transform(inp_te)\n",
        "\n",
        "print('Sizes of Datasets : Inputs , Targets')\n",
        "print('------------------------------------')\n",
        "print(f'Training set: {inp_tr.shape} , {tar_tr.shape} \\nValidation set: {inp_va.shape} , {tar_va.shape} \\nTesting Set: {inp_te.shape}, {tar_te.shape}')\n",
        "print('------------------------------------')"
      ]
    },
    {
      "cell_type": "code",
      "execution_count": 5,
      "metadata": {
        "colab": {
          "base_uri": "https://localhost:8080/"
        },
        "id": "8j8jrLsWCQ2H",
        "outputId": "4dbf2dc3-3774-4a48-f9c4-cd11c16bb8b2"
      },
      "outputs": [
        {
          "output_type": "stream",
          "name": "stdout",
          "text": [
            "2    997\n",
            "1    300\n",
            "0    300\n",
            "Name: Label, dtype: int64\n"
          ]
        }
      ],
      "source": [
        "test = pd.DataFrame(inp_tr)\n",
        "test['Label'] = tar_tr\n",
        "\n",
        "print(test['Label'].value_counts())"
      ]
    },
    {
      "cell_type": "markdown",
      "metadata": {
        "id": "PiM4fxaVCQ2I"
      },
      "source": [
        "### Logistic Regression"
      ]
    },
    {
      "cell_type": "code",
      "execution_count": 6,
      "metadata": {
        "colab": {
          "base_uri": "https://localhost:8080/"
        },
        "id": "Lr2hNedVCQ2I",
        "outputId": "9a180386-8d52-48c9-d365-e87c0df2c5dc"
      },
      "outputs": [
        {
          "output_type": "stream",
          "name": "stdout",
          "text": [
            "Fitting 5 folds for each of 1 candidates, totalling 5 fits\n"
          ]
        },
        {
          "output_type": "stream",
          "name": "stderr",
          "text": [
            "/usr/local/lib/python3.7/dist-packages/sklearn/linear_model/_sag.py:354: ConvergenceWarning: The max_iter was reached which means the coef_ did not converge\n",
            "  ConvergenceWarning,\n"
          ]
        },
        {
          "output_type": "stream",
          "name": "stdout",
          "text": [
            "CPU times: user 1.68 s, sys: 0 ns, total: 1.68 s\n",
            "Wall time: 1.69 s\n"
          ]
        }
      ],
      "source": [
        "%%time\n",
        "\n",
        "# specifying logistic regression\n",
        "logreg = LogisticRegression()\n",
        "\n",
        "# hyperparameters\n",
        "# param_grid = [{'logreg__penalty': ['l1'],\n",
        "#                 'logreg__max_iter': [300],\n",
        "#                 'logreg__solver': ['liblinear'],\n",
        "#                 'logreg__tol': [0.0001]}]\n",
        "\n",
        "\n",
        "param_grid = [{ 'penalty': ['l1'],\n",
        "                'max_iter': [500],\n",
        "                'solver': ['saga'],\n",
        "                'tol': [0.0001]}]\n",
        "\n",
        "# plug parameters into GridSearchCV\n",
        "grid = GridSearchCV(logreg,param_grid=param_grid, verbose=1)\n",
        "\n",
        "# run the data through the grid to find optimal results\n",
        "grid.fit(inp_tr, tar_tr.ravel())\n",
        "\n",
        "# find the predicted values\n",
        "pred_tr = grid.predict(inp_tr)\n",
        "pred_va = grid.predict(inp_va)"
      ]
    },
    {
      "cell_type": "code",
      "execution_count": 7,
      "metadata": {
        "colab": {
          "base_uri": "https://localhost:8080/",
          "height": 300
        },
        "id": "IQxiv2L5CQ2J",
        "outputId": "71dd194d-1800-4b9d-9f07-ee2c4b7f6d99"
      },
      "outputs": [
        {
          "output_type": "display_data",
          "data": {
            "text/plain": [
              "<Figure size 576x288 with 2 Axes>"
            ],
            "image/png": "[encoded data removed]"
          },
          "metadata": {
            "needs_background": "light"
          }
        }
      ],
      "source": [
        "fig, ax = plt.subplots(1,2, figsize=(8,4))\n",
        "ConfusionMatrixDisplay.from_predictions(tar_tr, pred_tr, ax = ax[0], normalize='true', cmap=cm_blues, display_labels=custom_labs, colorbar=False)\n",
        "ConfusionMatrixDisplay.from_predictions(tar_va, pred_va, ax = ax[1], normalize='true', cmap=cm_blues, display_labels=custom_labs, colorbar=False)\n",
        "\n",
        "ax[0].set_title('Training Set')\n",
        "ax[1].set_title('Validation Set')\n",
        "plt.suptitle('Logistic Regression Results')\n",
        "plt.tight_layout()\n",
        "plt.show()"
      ]
    },
    {
      "cell_type": "markdown",
      "metadata": {
        "id": "56H3DN1ICQ2K"
      },
      "source": [
        "### SVM"
      ]
    },
    {
      "cell_type": "code",
      "execution_count": 8,
      "metadata": {
        "colab": {
          "base_uri": "https://localhost:8080/"
        },
        "id": "m1MOXdkACQ2K",
        "outputId": "c2333245-faf4-48a5-c886-66316c8f7a00"
      },
      "outputs": [
        {
          "output_type": "stream",
          "name": "stdout",
          "text": [
            "CPU times: user 696 ms, sys: 1.22 ms, total: 697 ms\n",
            "Wall time: 700 ms\n"
          ]
        }
      ],
      "source": [
        "%%time\n",
        "\n",
        "# specifying svc\n",
        "svc = SVC()\n",
        "\n",
        "# hyperparameters\n",
        "param_grid = [{'kernel':['rbf',],\n",
        "               'gamma':['auto'],\n",
        "               'C': [0.9]}]\n",
        "\n",
        "# plug parameters into GridSearchCV\n",
        "grid = GridSearchCV(svc,param_grid=param_grid)\n",
        "\n",
        "# run the data through the grid to find optimal results\n",
        "grid.fit(inp_tr, tar_tr.ravel())\n",
        "\n",
        "# find the predicted values\n",
        "pred_tr = grid.predict(inp_tr)\n",
        "pred_va = grid.predict(inp_va)"
      ]
    },
    {
      "cell_type": "code",
      "execution_count": 9,
      "metadata": {
        "colab": {
          "base_uri": "https://localhost:8080/",
          "height": 300
        },
        "id": "JKtXkjTyCQ2L",
        "outputId": "d80e7243-17cc-4934-c4b9-8c348de14c63"
      },
      "outputs": [
        {
          "output_type": "display_data",
          "data": {
            "text/plain": [
              "<Figure size 576x288 with 2 Axes>"
            ],
            "image/png": "[encoded data removed]"
          },
          "metadata": {
            "needs_background": "light"
          }
        }
      ],
      "source": [
        "fig, ax = plt.subplots(1,2, figsize=(8,4))\n",
        "ConfusionMatrixDisplay.from_predictions(tar_tr, pred_tr, ax = ax[0], normalize='true', cmap=cm_blues, display_labels=custom_labs, colorbar=False)\n",
        "ConfusionMatrixDisplay.from_predictions(tar_va, pred_va, ax = ax[1], normalize='true', cmap=cm_blues, display_labels=custom_labs, colorbar=False)\n",
        "\n",
        "ax[0].set_title('Training Set')\n",
        "ax[1].set_title('Validation Set')\n",
        "plt.suptitle('Support Vector Classification Results')\n",
        "plt.tight_layout()\n",
        "plt.show()"
      ]
    },
    {
      "cell_type": "markdown",
      "source": [
        "### SVM/LR Stacking Ensemble\n",
        "No GridSearch, uses best pars as defined previously. Adding multiple SVC's does not improve results. **Breanna come back and do new GridSearch!!**"
      ],
      "metadata": {
        "id": "6Z4DZPwFTZEP"
      }
    },
    {
      "cell_type": "code",
      "source": [
        "%%time\n",
        "\n",
        "# Specify Gradient Boost\n",
        "estimators = [('svc', SVC(kernel='rbf',gamma='auto',C=0.9,random_state=42))]\n",
        "\n",
        "stacl = StackingClassifier(estimators=estimators,\n",
        "                           final_estimator=LogisticRegression(penalty = 'l1', max_iter = 500, solver ='saga', tol =0.0001))\n",
        "\n",
        "# run the data through the grid to find optimal results\n",
        "stacl.fit(inp_tr, tar_tr.ravel())\n",
        "\n",
        "# Find the predicted values\n",
        "pred_tr = stacl.predict(inp_tr)\n",
        "pred_va = stacl.predict(inp_va)"
      ],
      "metadata": {
        "colab": {
          "base_uri": "https://localhost:8080/"
        },
        "id": "wd6LgbdVTduX",
        "outputId": "242fad31-10e5-4bd4-c108-19f4dcd14052"
      },
      "execution_count": 18,
      "outputs": [
        {
          "output_type": "stream",
          "name": "stdout",
          "text": [
            "CPU times: user 718 ms, sys: 3.51 ms, total: 722 ms\n",
            "Wall time: 720 ms\n"
          ]
        }
      ]
    },
    {
      "cell_type": "code",
      "source": [
        "fig, ax = plt.subplots(1,2, figsize=(8,4))\n",
        "ConfusionMatrixDisplay.from_predictions(tar_tr, pred_tr, ax = ax[0], normalize='true', cmap=cm_blues, display_labels=custom_labs, colorbar=False)\n",
        "ConfusionMatrixDisplay.from_predictions(tar_va, pred_va, ax = ax[1], normalize='true', cmap=cm_blues, display_labels=custom_labs, colorbar=False)\n",
        "\n",
        "ax[0].set_title('Training Set')\n",
        "ax[1].set_title('Validation Set')\n",
        "plt.suptitle('Stacking Results')\n",
        "plt.tight_layout()\n",
        "plt.show()"
      ],
      "metadata": {
        "colab": {
          "base_uri": "https://localhost:8080/",
          "height": 300
        },
        "id": "ynA7OC3hUlHg",
        "outputId": "fd2b0ccb-429b-46d2-e85b-5ad69ca93359"
      },
      "execution_count": 19,
      "outputs": [
        {
          "output_type": "display_data",
          "data": {
            "text/plain": [
              "<Figure size 576x288 with 2 Axes>"
            ],
            "image/png": "[encoded data removed]"
          },
          "metadata": {
            "needs_background": "light"
          }
        }
      ]
    },
    {
      "cell_type": "markdown",
      "metadata": {
        "id": "vzcB_s2NCQ2L"
      },
      "source": [
        "### Gradient Boosting"
      ]
    },
    {
      "cell_type": "code",
      "execution_count": 10,
      "metadata": {
        "colab": {
          "base_uri": "https://localhost:8080/"
        },
        "id": "L6GloAZcCQ2M",
        "outputId": "a97ef37d-1831-452d-c484-fee5fc06e5d1"
      },
      "outputs": [
        {
          "output_type": "stream",
          "name": "stdout",
          "text": [
            "CPU times: user 4.6 s, sys: 16.1 ms, total: 4.62 s\n",
            "Wall time: 4.61 s\n"
          ]
        }
      ],
      "source": [
        "%%time\n",
        "\n",
        "# Specify Gradient Boost\n",
        "boostcl = GradientBoostingClassifier()\n",
        "\n",
        "# Specify parameter space to test\n",
        "param_grid = [{'criterion': ['friedman_mse'],\n",
        "                'max_depth': [9],\n",
        "                'max_features': ['log2'],\n",
        "                'n_estimators': [50],\n",
        "                'n_iter_no_change': [5],\n",
        "                'subsample': [1.0],\n",
        "                'warm_start': [True]}]\n",
        "\n",
        "grid = GridSearchCV(boostcl, param_grid)\n",
        "\n",
        "# run the data through the grid to find optimal results\n",
        "grid.fit(inp_tr, tar_tr.ravel())\n",
        "\n",
        "# Find the predicted values\n",
        "pred_tr = grid.predict(inp_tr)\n",
        "pred_va = grid.predict(inp_va)"
      ]
    },
    {
      "cell_type": "code",
      "execution_count": 11,
      "metadata": {
        "colab": {
          "base_uri": "https://localhost:8080/",
          "height": 300
        },
        "id": "GId2kQ7_CQ2M",
        "outputId": "4bc33308-c16c-45f8-9a60-34d3f8230eb8"
      },
      "outputs": [
        {
          "output_type": "display_data",
          "data": {
            "text/plain": [
              "<Figure size 576x288 with 2 Axes>"
            ],
            "image/png": "[encoded data removed]"
          },
          "metadata": {
            "needs_background": "light"
          }
        }
      ],
      "source": [
        "fig, ax = plt.subplots(1,2, figsize=(8,4))\n",
        "ConfusionMatrixDisplay.from_predictions(tar_tr, pred_tr, ax = ax[0], normalize='true', cmap=cm_blues, display_labels=custom_labs, colorbar=False)\n",
        "ConfusionMatrixDisplay.from_predictions(tar_va, pred_va, ax = ax[1], normalize='true', cmap=cm_blues, display_labels=custom_labs, colorbar=False)\n",
        "\n",
        "ax[0].set_title('Training Set')\n",
        "ax[1].set_title('Validation Set')\n",
        "plt.suptitle('Gradient Boosting Results')\n",
        "plt.tight_layout()\n",
        "plt.show()"
      ]
    },
    {
      "cell_type": "markdown",
      "metadata": {
        "id": "v379VtHtCQ2N"
      },
      "source": [
        "### XGBoost"
      ]
    },
    {
      "cell_type": "code",
      "execution_count": 12,
      "metadata": {
        "id": "bI4UnZIuCQ2N"
      },
      "outputs": [],
      "source": [
        "# Specify XGBoost\n",
        "xgbcl = xgb.XGBClassifier()\n",
        "\n",
        "# Specify parameter space to test\n",
        "param_grid = [{'max_depth': [9], 'sampling_method': ['uniform'], 'subsample': [0.5]}]\n",
        "\n",
        "grid = GridSearchCV(xgbcl, param_grid)\n",
        "\n",
        "# run the data through the grid to find optimal results\n",
        "grid.fit(inp_tr, tar_tr.ravel())\n",
        "\n",
        "# Find the predicted values\n",
        "pred_tr = grid.predict(inp_tr)\n",
        "pred_va = grid.predict(inp_va)"
      ]
    },
    {
      "cell_type": "code",
      "source": [
        "fig, ax = plt.subplots(1,2, figsize=(8,4))\n",
        "ConfusionMatrixDisplay.from_predictions(tar_tr, pred_tr, ax = ax[0], normalize='true', cmap=cm_blues, display_labels=custom_labs, colorbar=False)\n",
        "ConfusionMatrixDisplay.from_predictions(tar_va, pred_va, ax = ax[1], normalize='true', cmap=cm_blues, display_labels=custom_labs, colorbar=False)\n",
        "\n",
        "ax[0].set_title('Training Set')\n",
        "ax[1].set_title('Validation Set')\n",
        "plt.suptitle('XGBoost Results')\n",
        "plt.tight_layout()\n",
        "plt.show()"
      ],
      "metadata": {
        "colab": {
          "base_uri": "https://localhost:8080/",
          "height": 300
        },
        "id": "NjT1jfOuS-c7",
        "outputId": "e94b3eac-ddc0-4162-f262-9cba968d3e97"
      },
      "execution_count": 13,
      "outputs": [
        {
          "output_type": "display_data",
          "data": {
            "text/plain": [
              "<Figure size 576x288 with 2 Axes>"
            ],
            "image/png": "[encoded data removed]"
          },
          "metadata": {
            "needs_background": "light"
          }
        }
      ]
    },
    {
      "cell_type": "markdown",
      "metadata": {
        "id": "-6A0mcoACQ2N"
      },
      "source": [
        "### Random Forest"
      ]
    },
    {
      "cell_type": "code",
      "execution_count": 14,
      "metadata": {
        "id": "n4qZO8L_CQ2O"
      },
      "outputs": [],
      "source": [
        "# Specify RF\n",
        "rfcl = RandomForestClassifier()\n",
        "\n",
        "# Specify parameter space to test\n",
        "param_grid = [{'class_weight': ['balanced_subsample'],\n",
        "              'criterion': ['entropy'],\n",
        "              'max_features': ['log2'],\n",
        "              'n_estimators': [150]}]\n",
        "\n",
        "# Define the grid\n",
        "grid = GridSearchCV(rfcl,param_grid=param_grid)\n",
        "\n",
        "# run the data through the grid to find optimal results\n",
        "grid.fit(inp_tr, tar_tr.ravel())\n",
        "\n",
        "# Find the predicted values\n",
        "pred_tr = grid.predict(inp_tr)\n",
        "pred_va = grid.predict(inp_va)"
      ]
    },
    {
      "cell_type": "code",
      "execution_count": 15,
      "metadata": {
        "colab": {
          "base_uri": "https://localhost:8080/",
          "height": 300
        },
        "id": "KHU1_UQ2CQ2O",
        "outputId": "c8dba80e-77d5-43e8-da9f-700d422bf0f8"
      },
      "outputs": [
        {
          "output_type": "display_data",
          "data": {
            "text/plain": [
              "<Figure size 576x288 with 2 Axes>"
            ],
            "image/png": "[encoded data removed]"
          },
          "metadata": {
            "needs_background": "light"
          }
        }
      ],
      "source": [
        "fig, ax = plt.subplots(1,2, figsize=(8,4))\n",
        "ConfusionMatrixDisplay.from_predictions(tar_tr, pred_tr, ax = ax[0], normalize='true', cmap=cm_blues, display_labels=custom_labs, colorbar=False)\n",
        "ConfusionMatrixDisplay.from_predictions(tar_va, pred_va, ax = ax[1], normalize='true', cmap=cm_blues, display_labels=custom_labs, colorbar=False)\n",
        "\n",
        "ax[0].set_title('Training Set')\n",
        "ax[1].set_title('Validation Set')\n",
        "plt.suptitle('Random Forest Results')\n",
        "plt.tight_layout()\n",
        "plt.show()"
      ]
    },
    {
      "cell_type": "markdown",
      "metadata": {
        "id": "DLJGW1U6CQ2O"
      },
      "source": [
        "## Neural Network"
      ]
    },
    {
      "cell_type": "markdown",
      "metadata": {
        "id": "SdxoY6vtCQ2P"
      },
      "source": [
        "## Importing"
      ]
    },
    {
      "cell_type": "code",
      "execution_count": null,
      "metadata": {
        "id": "nfkaxzihCQ2P",
        "outputId": "d861bc81-c67d-4342-fec0-282577a69705"
      },
      "outputs": [
        {
          "name": "stdout",
          "output_type": "stream",
          "text": [
            "Running on : cpu\n"
          ]
        }
      ],
      "source": [
        "# library imports\n",
        "import torch\n",
        "import torch.nn as nn\n",
        "import torch.nn.functional as F\n",
        "import torch.optim as optim\n",
        "import torch.utils.data as data_utils\n",
        "\n",
        "# custom script inputs\n",
        "from NN_Defs import get_n_params, train, validate, BaseMLP\n",
        "\n",
        "device = torch.device(\"cuda:0\" if torch.cuda.is_available() else \"cpu\")\n",
        "print(f'Running on : {device}')"
      ]
    },
    {
      "cell_type": "markdown",
      "metadata": {
        "id": "yXQgSJnOCQ2P"
      },
      "source": [
        "## Scaling, Conversions to Tensors, and DataLoader Creation"
      ]
    },
    {
      "cell_type": "code",
      "execution_count": null,
      "metadata": {
        "id": "y3xYPWWpCQ2Q"
      },
      "outputs": [],
      "source": [
        "# concatenate the labels onto the inputs for both training and validation\n",
        "inp_tr = torch.tensor(inp_tr)\n",
        "tar_tr = torch.tensor(tar_tr)\n",
        "inp_va = torch.tensor(inp_va)\n",
        "tar_va = torch.tensor(tar_va)\n",
        "inp_te = torch.tensor(inp_te)\n",
        "tar_te = torch.tensor(tar_te)\n",
        "\n",
        "train_data = data_utils.TensorDataset(inp_tr, tar_tr)\n",
        "val_data = data_utils.TensorDataset(inp_va, tar_va)\n",
        "test_data = data_utils.TensorDataset(inp_te, tar_te)\n",
        "\n",
        "# constructing data loaders for nn\n",
        "train_loader = torch.utils.data.DataLoader(train_data, batch_size=25, shuffle=True)\n",
        "val_loader = torch.utils.data.DataLoader(val_data, batch_size=25, shuffle=True)\n",
        "test_loader = torch.utils.data.DataLoader(test_data, batch_size=25, shuffle=True)"
      ]
    },
    {
      "cell_type": "markdown",
      "metadata": {
        "id": "h5R3PHGYCQ2Q"
      },
      "source": [
        "> Todo: Justify the use of batch size here."
      ]
    },
    {
      "cell_type": "markdown",
      "metadata": {
        "id": "qtqRXkQgCQ2Q"
      },
      "source": [
        "## Create Network Instance and Set Hyperparameters"
      ]
    },
    {
      "cell_type": "code",
      "execution_count": null,
      "metadata": {
        "id": "nTlfjThhCQ2Q"
      },
      "outputs": [],
      "source": [
        "# create nn instance\n",
        "BaseNN = BaseMLP(8, 20, 3)\n",
        "\n",
        "# setting hyperparameters for SGD optimizer\n",
        "learning_rate = 4e-3\n",
        "momentum = 0.6\n",
        "\n",
        "# setting optimizer\n",
        "optimizer = optim.SGD(BaseNN.parameters(), lr=learning_rate, momentum=momentum)\n",
        "\n",
        "# setting scheduler\n",
        "#scheduler = torch.optim.lr_scheduler.ReduceLROnPlateau(optimizer, mode='min', factor=0.1, patience=1,threshold=1e-4, cooldown=50, min_lr=1e-6, verbose=True)\n",
        "#scheduler = torch.optim.lr_scheduler.MultiStepLR(optimizer, milestones=[5000,8000], gamma=0.1, verbose=False)"
      ]
    },
    {
      "cell_type": "code",
      "execution_count": null,
      "metadata": {
        "id": "duZy43aPCQ2R",
        "outputId": "f9b6a005-7cfd-437f-f66f-b5773d596c6d"
      },
      "outputs": [
        {
          "name": "stdout",
          "output_type": "stream",
          "text": [
            "Train Epoch: 0 ----- Train Loss: 0.720514\n",
            "Validation Loss: 0.7380\n",
            "Train Epoch: 250 ----- Train Loss: 0.710350\n",
            "Validation Loss: 0.7308\n",
            "Train Epoch: 500 ----- Train Loss: 0.702805\n",
            "Validation Loss: 0.7226\n",
            "Train Epoch: 750 ----- Train Loss: 0.696522\n",
            "Validation Loss: 0.7127\n",
            "Train Epoch: 1000 ----- Train Loss: 0.691169\n",
            "Validation Loss: 0.7007\n",
            "Train Epoch: 1250 ----- Train Loss: 0.687315\n",
            "Validation Loss: 0.6912\n",
            "Train Epoch: 1500 ----- Train Loss: 0.684106\n",
            "Validation Loss: 0.6837\n",
            "Train Epoch: 1750 ----- Train Loss: 0.681362\n",
            "Validation Loss: 0.6767\n",
            "Train Epoch: 2000 ----- Train Loss: 0.678750\n",
            "Validation Loss: 0.6689\n",
            "Train Epoch: 2250 ----- Train Loss: 0.676298\n",
            "Validation Loss: 0.6603\n",
            "Train Epoch: 2500 ----- Train Loss: 0.673829\n",
            "Validation Loss: 0.6503\n",
            "Train Epoch: 2750 ----- Train Loss: 0.671040\n",
            "Validation Loss: 0.6426\n",
            "Train Epoch: 3000 ----- Train Loss: 0.668334\n",
            "Validation Loss: 0.6373\n",
            "Train Epoch: 3250 ----- Train Loss: 0.665877\n",
            "Validation Loss: 0.6324\n",
            "Train Epoch: 3500 ----- Train Loss: 0.663563\n",
            "Validation Loss: 0.6279\n",
            "Train Epoch: 3750 ----- Train Loss: 0.661377\n",
            "Validation Loss: 0.6233\n",
            "Train Epoch: 4000 ----- Train Loss: 0.659522\n",
            "Validation Loss: 0.6191\n",
            "Train Epoch: 4250 ----- Train Loss: 0.657284\n",
            "Validation Loss: 0.6155\n",
            "Train Epoch: 4500 ----- Train Loss: 0.655407\n",
            "Validation Loss: 0.6123\n",
            "Train Epoch: 4750 ----- Train Loss: 0.653991\n",
            "Validation Loss: 0.6093\n",
            "Train Epoch: 5000 ----- Train Loss: 0.652333\n",
            "Validation Loss: 0.6067\n",
            "Train Epoch: 5250 ----- Train Loss: 0.650819\n",
            "Validation Loss: 0.6043\n",
            "Train Epoch: 5500 ----- Train Loss: 0.649696\n",
            "Validation Loss: 0.6020\n",
            "Train Epoch: 5750 ----- Train Loss: 0.648300\n",
            "Validation Loss: 0.5998\n",
            "Train Epoch: 6000 ----- Train Loss: 0.647242\n",
            "Validation Loss: 0.5981\n",
            "Train Epoch: 6250 ----- Train Loss: 0.646252\n",
            "Validation Loss: 0.5964\n",
            "Train Epoch: 6500 ----- Train Loss: 0.645351\n",
            "Validation Loss: 0.5949\n",
            "Train Epoch: 6750 ----- Train Loss: 0.644623\n",
            "Validation Loss: 0.5936\n",
            "Train Epoch: 7000 ----- Train Loss: 0.643670\n",
            "Validation Loss: 0.5925\n",
            "Train Epoch: 7250 ----- Train Loss: 0.642983\n",
            "Validation Loss: 0.5915\n",
            "Train Epoch: 7500 ----- Train Loss: 0.642025\n",
            "Validation Loss: 0.5908\n",
            "Train Epoch: 7750 ----- Train Loss: 0.641232\n",
            "Validation Loss: 0.5901\n",
            "Train Epoch: 8000 ----- Train Loss: 0.640719\n",
            "Validation Loss: 0.5895\n",
            "Train Epoch: 8250 ----- Train Loss: 0.639945\n",
            "Validation Loss: 0.5890\n",
            "Train Epoch: 8500 ----- Train Loss: 0.639153\n",
            "Validation Loss: 0.5885\n",
            "Train Epoch: 8750 ----- Train Loss: 0.638691\n",
            "Validation Loss: 0.5880\n",
            "Train Epoch: 9000 ----- Train Loss: 0.638156\n",
            "Validation Loss: 0.5875\n",
            "Train Epoch: 9250 ----- Train Loss: 0.637556\n",
            "Validation Loss: 0.5871\n",
            "Train Epoch: 9500 ----- Train Loss: 0.637264\n",
            "Validation Loss: 0.5867\n",
            "Train Epoch: 9750 ----- Train Loss: 0.636485\n",
            "Validation Loss: 0.5863\n",
            "Train Epoch: 10000 ----- Train Loss: 0.636200\n",
            "Validation Loss: 0.5860\n",
            "Train Epoch: 10250 ----- Train Loss: 0.635728\n",
            "Validation Loss: 0.5857\n",
            "Train Epoch: 10500 ----- Train Loss: 0.635332\n",
            "Validation Loss: 0.5854\n",
            "Train Epoch: 10750 ----- Train Loss: 0.634875\n",
            "Validation Loss: 0.5852\n",
            "Train Epoch: 11000 ----- Train Loss: 0.634413\n",
            "Validation Loss: 0.5850\n",
            "Train Epoch: 11250 ----- Train Loss: 0.634038\n",
            "Validation Loss: 0.5849\n",
            "Train Epoch: 11500 ----- Train Loss: 0.633396\n",
            "Validation Loss: 0.5847\n",
            "Train Epoch: 11750 ----- Train Loss: 0.633038\n",
            "Validation Loss: 0.5846\n",
            "Train Epoch: 12000 ----- Train Loss: 0.632435\n",
            "Validation Loss: 0.5844\n",
            "Train Epoch: 12250 ----- Train Loss: 0.632061\n",
            "Validation Loss: 0.5842\n",
            "Train Epoch: 12500 ----- Train Loss: 0.631705\n",
            "Validation Loss: 0.5839\n",
            "Train Epoch: 12750 ----- Train Loss: 0.631661\n",
            "Validation Loss: 0.5837\n",
            "Train Epoch: 13000 ----- Train Loss: 0.631279\n",
            "Validation Loss: 0.5835\n",
            "Train Epoch: 13250 ----- Train Loss: 0.631082\n",
            "Validation Loss: 0.5833\n",
            "Train Epoch: 13500 ----- Train Loss: 0.630728\n",
            "Validation Loss: 0.5831\n",
            "Train Epoch: 13750 ----- Train Loss: 0.630447\n",
            "Validation Loss: 0.5830\n",
            "Train Epoch: 14000 ----- Train Loss: 0.630143\n",
            "Validation Loss: 0.5828\n",
            "Train Epoch: 14250 ----- Train Loss: 0.629949\n",
            "Validation Loss: 0.5827\n",
            "Train Epoch: 14500 ----- Train Loss: 0.629778\n",
            "Validation Loss: 0.5825\n",
            "Train Epoch: 14750 ----- Train Loss: 0.629558\n",
            "Validation Loss: 0.5824\n",
            "Train Epoch: 15000 ----- Train Loss: 0.629551\n",
            "Validation Loss: 0.5823\n",
            "Train Epoch: 15250 ----- Train Loss: 0.629235\n",
            "Validation Loss: 0.5822\n",
            "Train Epoch: 15500 ----- Train Loss: 0.629150\n",
            "Validation Loss: 0.5820\n",
            "Train Epoch: 15750 ----- Train Loss: 0.628806\n",
            "Validation Loss: 0.5820\n",
            "Train Epoch: 16000 ----- Train Loss: 0.628760\n",
            "Validation Loss: 0.5819\n",
            "Train Epoch: 16250 ----- Train Loss: 0.628589\n",
            "Validation Loss: 0.5818\n",
            "Train Epoch: 16500 ----- Train Loss: 0.628339\n",
            "Validation Loss: 0.5817\n",
            "Train Epoch: 16750 ----- Train Loss: 0.628215\n",
            "Validation Loss: 0.5816\n",
            "Train Epoch: 17000 ----- Train Loss: 0.628173\n",
            "Validation Loss: 0.5815\n",
            "Train Epoch: 17250 ----- Train Loss: 0.627884\n",
            "Validation Loss: 0.5814\n",
            "Train Epoch: 17500 ----- Train Loss: 0.627900\n",
            "Validation Loss: 0.5814\n",
            "Train Epoch: 17750 ----- Train Loss: 0.627648\n",
            "Validation Loss: 0.5813\n",
            "Train Epoch: 18000 ----- Train Loss: 0.627559\n",
            "Validation Loss: 0.5813\n",
            "Train Epoch: 18250 ----- Train Loss: 0.627240\n",
            "Validation Loss: 0.5812\n",
            "Train Epoch: 18500 ----- Train Loss: 0.627243\n",
            "Validation Loss: 0.5812\n",
            "Train Epoch: 18750 ----- Train Loss: 0.627091\n",
            "Validation Loss: 0.5811\n",
            "Train Epoch: 19000 ----- Train Loss: 0.627022\n",
            "Validation Loss: 0.5811\n",
            "Train Epoch: 19250 ----- Train Loss: 0.626665\n",
            "Validation Loss: 0.5811\n",
            "Train Epoch: 19500 ----- Train Loss: 0.626680\n",
            "Validation Loss: 0.5810\n",
            "Train Epoch: 19750 ----- Train Loss: 0.626230\n",
            "Validation Loss: 0.5809\n",
            "CPU times: user 24min 42s, sys: 38.7 s, total: 25min 21s\n",
            "Wall time: 25min 20s\n"
          ]
        }
      ],
      "source": [
        "%%time\n",
        "\n",
        "# set amounts of epochs\n",
        "epochs = 20000\n",
        "\n",
        "# initialize capture variables\n",
        "train_loss_all = []\n",
        "val_loss_all = []\n",
        "\n",
        "for epoch in range(0, epochs):\n",
        "    train_loss, train_predictions, train_truth_values = train(epoch, BaseNN, optimizer, train_loader, device)\n",
        "    val_loss, val_accuracy, val_predictions, val_truth_values = validate(BaseNN, val_loader, device)\n",
        "\n",
        "    # store loss in an array to plot\n",
        "    train_loss_all.append(train_loss)\n",
        "    val_loss_all.append(val_loss)\n",
        "\n",
        "    #scheduler.step()\n",
        "\n",
        "    # print outs\n",
        "    if epoch % 250 == 0:\n",
        "        print(f'Train Epoch: {epoch} ----- Train Loss: {train_loss.item():.6f}')\n",
        "        print(f'Validation Loss: {val_loss:.4f}')\n",
        "        #print(scheduler.get_last_lr())"
      ]
    },
    {
      "cell_type": "markdown",
      "metadata": {
        "id": "OOK7teQSCQ2R"
      },
      "source": [
        "## Visualizing Results"
      ]
    },
    {
      "cell_type": "code",
      "execution_count": null,
      "metadata": {
        "id": "PkuLOdYaCQ2S",
        "outputId": "b38e30e0-ec30-4c33-d9ed-226b2078451c"
      },
      "outputs": [
        {
          "data": {
            "image/png": "[encoded data removed]",
            "text/plain": [
              "<Figure size 720x432 with 1 Axes>"
            ]
          },
          "metadata": {
            "needs_background": "light"
          },
          "output_type": "display_data"
        }
      ],
      "source": [
        "fig, ax = plt.subplots(figsize=(10,6))\n",
        "ax.plot(train_loss_all, label='Train Loss')\n",
        "ax.plot(val_loss_all, label='Validation Loss')\n",
        "ax.set_xlabel('Epoch')\n",
        "ax.legend()\n",
        "ax.grid()\n",
        "plt.show()"
      ]
    },
    {
      "cell_type": "markdown",
      "metadata": {
        "id": "K2UbK8pxCQ2T"
      },
      "source": [
        "## Testing - Predictions of classes"
      ]
    },
    {
      "cell_type": "code",
      "execution_count": null,
      "metadata": {
        "id": "FXfxYc-QCQ2T"
      },
      "outputs": [],
      "source": [
        "test_loss, test_accuracy, test_predictions, test_truth_values = validate(BaseNN, test_loader, device)"
      ]
    },
    {
      "cell_type": "code",
      "execution_count": null,
      "metadata": {
        "id": "O9-lNYTJCQ2U",
        "outputId": "65ced81f-db21-4757-a924-bf3f71a177df"
      },
      "outputs": [
        {
          "data": {
            "image/png": "[encoded data removed]",
            "text/plain": [
              "<Figure size 864x1440 with 3 Axes>"
            ]
          },
          "metadata": {
            "needs_background": "light"
          },
          "output_type": "display_data"
        }
      ],
      "source": [
        "fig, ax = plt.subplots(1,3, figsize=(12,20))\n",
        "ConfusionMatrixDisplay.from_predictions(train_truth_values, train_predictions, ax = ax[0], normalize='true', cmap=cm_blues, display_labels=custom_labs, colorbar=False)\n",
        "ConfusionMatrixDisplay.from_predictions(val_truth_values, val_predictions, ax = ax[1], normalize='true', cmap=cm_blues, display_labels=custom_labs, colorbar=False)\n",
        "ConfusionMatrixDisplay.from_predictions(test_truth_values, test_predictions, ax = ax[2], normalize='true', cmap=cm_blues, display_labels=custom_labs, colorbar=False)\n",
        "\n",
        "ax[0].set_title('Training Set')\n",
        "ax[1].set_title('Validation Set')\n",
        "ax[2].set_title('Testing Set')\n",
        "plt.tight_layout()\n",
        "plt.show()"
      ]
    },
    {
      "cell_type": "code",
      "execution_count": null,
      "metadata": {
        "id": "r6unX03aCQ2U"
      },
      "outputs": [],
      "source": [
        ""
      ]
    }
  ],
  "metadata": {
    "interpreter": {
      "hash": "2bc373eb9924f1eec97d7a15274cdae8484277ec408c67c247974831754df4b1"
    },
    "kernelspec": {
      "display_name": "Python 3.7.11 ('PHYS555_PY37')",
      "language": "python",
      "name": "python3"
    },
    "language_info": {
      "codemirror_mode": {
        "name": "ipython",
        "version": 3
      },
      "file_extension": ".py",
      "mimetype": "text/x-python",
      "name": "python",
      "nbconvert_exporter": "python",
      "pygments_lexer": "ipython3",
      "version": "3.7.11"
    },
    "orig_nbformat": 4,
    "colab": {
      "name": "Final_Project.ipynb",
      "provenance": [],
      "include_colab_link": true
    }
  },
  "nbformat": 4,
  "nbformat_minor": 0
}