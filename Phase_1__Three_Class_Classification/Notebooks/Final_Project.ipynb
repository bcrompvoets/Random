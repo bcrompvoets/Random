{
 "cells": [
  {
   "cell_type": "markdown",
   "metadata": {
    "id": "2GLopVOsCQ2A",
    "tags": []
   },
   "source": [
    "# Final Project - PHYS 555 - Instructor: Seb Fabbro\n",
    "\n",
    "## Breanna Crompvoets and Samuel Fielder"
   ]
  },
  {
   "cell_type": "markdown",
   "metadata": {
    "id": "9r3MvlnrCQ2B",
    "tags": []
   },
   "source": [
    "## Project Summary and Goals\n",
    "Young Stellar Objects (YSOs) are newly forming stars which are yet to begin burning. They are split into different classes depending on their dust/gas envelope to protostar ratio; Class 0 having the greatest envelope and Class III no longer having an envelope. Due to the different ratios of envelope to protostar, each class appears differently in spectroscopy; thus the difference in fluxes between Spitzer IRAC bands are able to determine which class the data comes from. This project will focus on using the same data as Cornu and Montillaud (2021; CM21) to classify data points into three classes: Class I, Class II, and Contaminants. Only these three classes out of the original 9 available are chosen as Class 0 is too dusty to detect, and Class III is difficult to distinguish from regular stars. Furthermore, the contaminating classes (galaxies, shocks, stars, and PAHs) are of less concern -- we would like the algorithms to focus on distinguishing Class I and Class II from the rest. The original paper uses a multi-layer perceptron (MLP) with one hidden layer (20 neurons). Their results are presented in the below table.\n",
    "\n",
    "|Class | Recall | Precision |\n",
    "| --- | --- | --- |\n",
    "|1 | 94.0% | 79.1 %|\n",
    "|2 | 96.7% | 90.6% | \n",
    "|Other | 98.7%| 99.8%| \n",
    "\n",
    "The data for this project was pulled from https://cdsarc.cds.unistra.fr/viz-bin/cat/J/A+A/647/A116. These data include columns for four Spitzer IRAC bands (3.6 $\\mu m$, 4.5 $\\mu m$, 5.8 $\\mu m$, and 8 $\\mu m$) fluxes and errors, as well as from one Spitzer MIPS band (24 $\\mu m$), along with the target values as determined via a manual classification scheme and the predicted data from CM21. We will only be using the four IRAC bands and their associated errors, as the MIPS band does not provide data for most objects. We use the same target values as they do for accurate comparison. \n",
    "\n",
    "This project seeks to use a multitude of algorithms learned over the semester to measure their effectiveness and compare it to the recreated MLP of CM21. These algorithms include: GridSearch with an SVC, GridSearch with a Logistic Regressor, a Stacking Ensemble with an SVC and a Logistic Regressor, a Gradient Boosting ensemble, a Random Forest ensemble, and an XGBoost ensemble. We also created our own MLP based off of their prescription. The workload was split as follows: B. Crompvoets completed the data cleaning and all other algorithms besides the MLP, and S. Fielder completed an MLP close to that of CM21, as well as creating a custom data loader/split. They communicated together on the best hyper-parameters to test.\n"
   ]
  },
  {
   "cell_type": "markdown",
   "metadata": {
    "id": "tq3kOX1MH-wS"
   },
   "source": [
    "## Import Libraries and set global variables"
   ]
  },
  {
   "cell_type": "code",
   "execution_count": 1,
   "metadata": {
    "id": "oNZdspOvCQ2C"
   },
   "outputs": [
    {
     "name": "stderr",
     "output_type": "stream",
     "text": [
      "/Users/breannacrompvoets/opt/anaconda3/envs/SF/lib/python3.9/site-packages/xgboost/compat.py:36: FutureWarning: pandas.Int64Index is deprecated and will be removed from pandas in a future version. Use pandas.Index with the appropriate dtype instead.\n",
      "  from pandas import MultiIndex, Int64Index\n"
     ]
    }
   ],
   "source": [
    "# import statements\n",
    "import numpy as np\n",
    "import matplotlib.pyplot as plt\n",
    "import pandas as pd\n",
    "\n",
    "# classic ML libraries\n",
    "from sklearn.metrics import ConfusionMatrixDisplay, classification_report\n",
    "from sklearn.preprocessing import StandardScaler\n",
    "from sklearn.pipeline import Pipeline\n",
    "from sklearn.linear_model import LogisticRegression\n",
    "from sklearn.ensemble import GradientBoostingClassifier, RandomForestClassifier, StackingClassifier\n",
    "from sklearn.svm import SVC\n",
    "from sklearn.model_selection import train_test_split,  GridSearchCV\n",
    "import xgboost as xgb\n",
    "\n",
    "# custom made libraries\n",
    "from custom_dataloader import replicate_data"
   ]
  },
  {
   "cell_type": "code",
   "execution_count": 2,
   "metadata": {
    "id": "hpioJ6S3CQ2E"
   },
   "outputs": [],
   "source": [
    "# settings for confusion matrix plots and classification reports\n",
    "cm_blues = plt.cm.Blues\n",
    "custom_labs = ['Class 1', 'Class 2', 'Others']"
   ]
  },
  {
   "cell_type": "markdown",
   "metadata": {
    "id": "9RJ3awIPCQ2D"
   },
   "source": [
    "# Classical ML Techniques"
   ]
  },
  {
   "cell_type": "markdown",
   "metadata": {
    "id": "i8QmwVqNCQ2F"
   },
   "source": [
    "For each of the below algorithms we ran a gridsearch over a wide variety of hyperparameters. These parameter dictionaries are commented out in each cell, and we use the best parameters as a sample here to show how each algorithm performed. This section of the project was conducted by B. Crompvoets.\n",
    "\n",
    "We conducted these fits for each of three data splits:\n",
    "* \"75/25\" -- here the data is split into 75% training, 25% test set.\n",
    "* \"300s\" -- here the data is split such that 5 out of the 7 subclasses, each has 300 members in the training set (2 do not have enough members). The test set size is the same as CM21. The data is again split into only 3 classes to train/test.\n",
    "* \"CM21\" -- here the data is split with the exact same values as CM21 provide in their paper.\n",
    "\n",
    "An example of a run with the 75/25 split is given below, with best results for each of the other runs commented out, as well as the parameter grid tested for each GridSearch. The results of all runs will be included at the end of this document."
   ]
  },
  {
   "cell_type": "markdown",
   "metadata": {
    "id": "1-unH4thCQ2F"
   },
   "source": [
    "## Loading Data Set"
   ]
  },
  {
   "cell_type": "code",
   "execution_count": 3,
   "metadata": {
    "colab": {
     "base_uri": "https://localhost:8080/"
    },
    "id": "5uaJUpxFCQ2G",
    "outputId": "e9df8de9-9b57-477a-d9c0-9fe62741f2d4"
   },
   "outputs": [
    {
     "name": "stdout",
     "output_type": "stream",
     "text": [
      "Sizes of Datasets : Inputs , Targets\n",
      "------------------------------------\n",
      "Training set: (2696, 8) , (2696,) \n",
      "Validation set: (898, 8) , (898,) \n",
      "Testing Set: (23309, 8), (23309,)\n",
      "------------------------------------\n"
     ]
    }
   ],
   "source": [
    "# data load\n",
    "X = np.load(\"Input_Class_AllClasses_Sep.npy\")\n",
    "# Y = np.load(\"Target_Class_AllClasses_Sep.npy\") # For original targets via Gutermuth 2009 Method\n",
    "Y = np.load(\"Pred_Class_AllClasses_Sep.npy\") # For predicted targets from CM21\n",
    "\n",
    "\n",
    "# custom data loader to pull in custom sized data set\n",
    "# use seed to get replicable results for now\n",
    "seed_val = 1111\n",
    "\n",
    "# the amounts below are how many of each class of object you want in the training set and validation set - leftover amounts given to testing set\n",
    "\n",
    "# CM21 Split\n",
    "# amounts_train = [331,1141,231,529,27,70,1257]\n",
    "# amounts_val = [82, 531, 104, 278, 6, 17, 4359]\n",
    "\n",
    "# 300s Split\n",
    "# amounts_train = [300,300,300,300,27,70,300]\n",
    "# amounts_val = [82, 531, 104, 278, 6, 17, 4359]\n",
    "\n",
    "# 75/25 Split\n",
    "amounts_train = [311,1994,391,1043,25,66,21796] #75/25 train\n",
    "amounts_val = [103,665,130,348,9,22,5449] #75/25 val\n",
    "\n",
    "# calling custom datagrabber here\n",
    "inp_tr, tar_tr, inp_va, tar_va, inp_te, tar_te = replicate_data(X, Y, 'three', amounts_train, amounts_val, seed_val)\n",
    "\n",
    "# scaling data according to training inputs\n",
    "scaler_S = StandardScaler().fit(inp_tr)\n",
    "inp_tr = scaler_S.transform(inp_tr)\n",
    "inp_va = scaler_S.transform(inp_va)\n",
    "\n",
    "# COMMENT NEXT LINE IF RUNNING 75/25 SPLIT\n",
    "# inp_te = scaler_S.transform(inp_te) # Comment out for 75/25 split\n",
    "\n",
    "# printouts for double checking all the sets and amounts\n",
    "print('Sizes of Datasets : Inputs , Targets')\n",
    "print('------------------------------------')\n",
    "print(f'Training set: {inp_tr.shape} , {tar_tr.shape} \\nValidation set: {inp_va.shape} , {tar_va.shape} \\nTesting Set: {inp_te.shape}, {tar_te.shape}')\n",
    "print('------------------------------------')"
   ]
  },
  {
   "cell_type": "markdown",
   "metadata": {
    "id": "PiM4fxaVCQ2I"
   },
   "source": [
    "## Logistic Regression"
   ]
  },
  {
   "cell_type": "code",
   "execution_count": 106,
   "metadata": {
    "id": "Lr2hNedVCQ2I"
   },
   "outputs": [
    {
     "name": "stdout",
     "output_type": "stream",
     "text": [
      "Fitting 5 folds for each of 1 candidates, totalling 5 fits\n"
     ]
    },
    {
     "name": "stderr",
     "output_type": "stream",
     "text": [
      "/home/breanna/anaconda3/envs/StarFormation/lib/python3.10/site-packages/sklearn/linear_model/_sag.py:352: ConvergenceWarning: The max_iter was reached which means the coef_ did not converge\n",
      "  warnings.warn(\n",
      "/home/breanna/anaconda3/envs/StarFormation/lib/python3.10/site-packages/sklearn/linear_model/_sag.py:352: ConvergenceWarning: The max_iter was reached which means the coef_ did not converge\n",
      "  warnings.warn(\n",
      "/home/breanna/anaconda3/envs/StarFormation/lib/python3.10/site-packages/sklearn/linear_model/_sag.py:352: ConvergenceWarning: The max_iter was reached which means the coef_ did not converge\n",
      "  warnings.warn(\n",
      "/home/breanna/anaconda3/envs/StarFormation/lib/python3.10/site-packages/sklearn/linear_model/_sag.py:352: ConvergenceWarning: The max_iter was reached which means the coef_ did not converge\n",
      "  warnings.warn(\n",
      "/home/breanna/anaconda3/envs/StarFormation/lib/python3.10/site-packages/sklearn/linear_model/_sag.py:352: ConvergenceWarning: The max_iter was reached which means the coef_ did not converge\n",
      "  warnings.warn(\n"
     ]
    },
    {
     "name": "stdout",
     "output_type": "stream",
     "text": [
      "CPU times: user 2.59 s, sys: 6 µs, total: 2.59 s\n",
      "Wall time: 2.58 s\n"
     ]
    },
    {
     "name": "stderr",
     "output_type": "stream",
     "text": [
      "/home/breanna/anaconda3/envs/StarFormation/lib/python3.10/site-packages/sklearn/linear_model/_sag.py:352: ConvergenceWarning: The max_iter was reached which means the coef_ did not converge\n",
      "  warnings.warn(\n"
     ]
    }
   ],
   "source": [
    "%%time\n",
    "\n",
    "# Specifying logistic regression\n",
    "logreg = LogisticRegression()\n",
    "\n",
    "# hyperparameters tested over initially\n",
    "# param_grid = [{'penalty': ['l1'], 'max_iter': np.arange(300,1500,100),\n",
    "#         'solver': ['liblinear', 'saga'], 'tol': np.arange(0.0001,0.01,0.0005)},\n",
    "#         {'penalty': ['l2'], 'max_iter': np.arange(300,1500,100),\n",
    "#         'solver': ['newton-cg', 'lbfgs', 'liblinear', 'sag', 'saga'], 'tol': np.arange(0.0001,0.01,0.0005)},\n",
    "#         {'penalty': ['elasticnet'], 'max_iter': np.arange(100,2000,100), 'l1_ratio': np.arange(0.1,1.,0.1),\n",
    "#         'solver': ['saga'], 'tol': np.arange(0.0001,0.01,0.0005)}]\n",
    "\n",
    "# actual hyperparameters used\n",
    "75/25\n",
    "param_grid = [{ 'penalty': ['l1'],\n",
    "                'max_iter': [500],\n",
    "                'solver': ['saga'],\n",
    "                'tol': [0.0001]}]\n",
    "# 300s\n",
    "# param_grid = [{ 'penalty': ['l1'],\n",
    "#                 'max_iter': [300],\n",
    "#                 'solver': ['saga'],\n",
    "#                 'tol': [0.0016]}]\n",
    "# CM21\n",
    "# param_grid = [{ 'penalty': ['l1'],\n",
    "#                 'max_iter': [600],\n",
    "#                 'solver': ['saga'],\n",
    "#                 'tol': [0.0001]}]\n",
    "\n",
    "# Define the grid\n",
    "grid = GridSearchCV(logreg,param_grid=param_grid, verbose=1)\n",
    "\n",
    "# Run the data through the grid to find optimal results\n",
    "grid.fit(inp_tr, tar_tr.ravel())\n",
    "\n",
    "# Find the predicted values\n",
    "pred_tr = grid.predict(inp_tr)\n",
    "pred_va = grid.predict(inp_va)"
   ]
  },
  {
   "cell_type": "code",
   "execution_count": 107,
   "metadata": {
    "colab": {
     "base_uri": "https://localhost:8080/"
    },
    "id": "qfn1O-aMgPV3",
    "outputId": "238b195d-f060-4106-a175-6d635a534721"
   },
   "outputs": [
    {
     "data": {
      "text/plain": [
       "{'max_iter': 500, 'penalty': 'l1', 'solver': 'saga', 'tol': 0.0001}"
      ]
     },
     "execution_count": 107,
     "metadata": {},
     "output_type": "execute_result"
    }
   ],
   "source": [
    "grid.best_params_"
   ]
  },
  {
   "cell_type": "code",
   "execution_count": 108,
   "metadata": {
    "colab": {
     "base_uri": "https://localhost:8080/",
     "height": 300
    },
    "id": "IQxiv2L5CQ2J",
    "outputId": "0a6f864a-e882-4c47-cbb8-972443097aa2"
   },
   "outputs": [
    {
     "name": "stdout",
     "output_type": "stream",
     "text": [
      "              precision    recall  f1-score   support\n",
      "\n",
      "     Class 1       0.89      0.88      0.89       103\n",
      "     Class 2       0.96      0.97      0.96       665\n",
      "      Others       0.90      0.86      0.88       130\n",
      "\n",
      "    accuracy                           0.94       898\n",
      "   macro avg       0.92      0.90      0.91       898\n",
      "weighted avg       0.94      0.94      0.94       898\n",
      "\n"
     ]
    }
   ],
   "source": [
    "# Confusion Matrix plot\n",
    "# fig, ax = plt.subplots(1,2, figsize=(8,4))\n",
    "# ConfusionMatrixDisplay.from_predictions(tar_tr, pred_tr, ax = ax[0], normalize='true', cmap=cm_blues, display_labels=custom_labs, colorbar=False)\n",
    "# ConfusionMatrixDisplay.from_predictions(tar_va, pred_va, ax = ax[1], normalize='true', cmap=cm_blues, display_labels=custom_labs, colorbar=False)\n",
    "\n",
    "# ax[0].set_title('Training Set')\n",
    "# ax[1].set_title('Validation Set')\n",
    "# plt.suptitle('Logistic Regression Results')\n",
    "# plt.tight_layout()\n",
    "# plt.show()\n",
    "\n",
    "print(classification_report(tar_va, pred_va, target_names=custom_labs))"
   ]
  },
  {
   "cell_type": "markdown",
   "metadata": {
    "id": "56H3DN1ICQ2K"
   },
   "source": [
    "## SVM"
   ]
  },
  {
   "cell_type": "code",
   "execution_count": 109,
   "metadata": {
    "colab": {
     "base_uri": "https://localhost:8080/"
    },
    "id": "m1MOXdkACQ2K",
    "outputId": "d055072c-5552-4a57-e7ac-cf340a67e0ee"
   },
   "outputs": [
    {
     "name": "stdout",
     "output_type": "stream",
     "text": [
      "CPU times: user 861 ms, sys: 43 µs, total: 861 ms\n",
      "Wall time: 859 ms\n"
     ]
    }
   ],
   "source": [
    "%%time\n",
    "\n",
    "# Specifying svc\n",
    "svc = SVC()\n",
    "\n",
    "# Hyperparameters tested over initially\n",
    "# param_grid = [{'kernel':['rbf','sigmoid','linear','poly'], 'gamma':['auto','scale'], 'C':np.arange(0.1,1.,0.1)}]\n",
    "\n",
    "# Final hyperparameters\n",
    "# 75/25\n",
    "param_grid = [{'kernel':['rbf',],\n",
    "               'gamma':['auto'],\n",
    "               'C': [0.9]}]\n",
    "# 300s\n",
    "# param_grid = [{'C': [0.8], 'gamma': ['auto'], 'kernel': ['linear']}]\n",
    "# CM21\n",
    "# param_grid = [{'C': [0.9], 'gamma': ['auto'], 'kernel': ['rbf']}]\n",
    "\n",
    "# Define the grid\n",
    "grid = GridSearchCV(svc,param_grid=param_grid)\n",
    "\n",
    "# Run the data through the grid to find optimal results\n",
    "grid.fit(inp_tr, tar_tr.ravel())\n",
    "\n",
    "# Find the predicted values\n",
    "pred_tr = grid.predict(inp_tr)\n",
    "pred_va = grid.predict(inp_va)"
   ]
  },
  {
   "cell_type": "code",
   "execution_count": 110,
   "metadata": {
    "colab": {
     "base_uri": "https://localhost:8080/"
    },
    "id": "onNpzooWWLlX",
    "outputId": "1f817af8-35c4-4d65-d019-e2c97dfb9146"
   },
   "outputs": [
    {
     "data": {
      "text/plain": [
       "{'C': 0.9, 'gamma': 'auto', 'kernel': 'rbf'}"
      ]
     },
     "execution_count": 110,
     "metadata": {},
     "output_type": "execute_result"
    }
   ],
   "source": [
    "grid.best_params_"
   ]
  },
  {
   "cell_type": "code",
   "execution_count": 111,
   "metadata": {
    "colab": {
     "base_uri": "https://localhost:8080/",
     "height": 300
    },
    "id": "JKtXkjTyCQ2L",
    "outputId": "3c511844-26b4-4661-a5eb-b5cddc741f56"
   },
   "outputs": [
    {
     "name": "stdout",
     "output_type": "stream",
     "text": [
      "              precision    recall  f1-score   support\n",
      "\n",
      "     Class 1       0.89      0.82      0.85       103\n",
      "     Class 2       0.95      0.98      0.96       665\n",
      "      Others       0.94      0.88      0.91       130\n",
      "\n",
      "    accuracy                           0.94       898\n",
      "   macro avg       0.93      0.89      0.91       898\n",
      "weighted avg       0.94      0.94      0.94       898\n",
      "\n"
     ]
    }
   ],
   "source": [
    "# # Confusion Matrix plot\n",
    "# fig, ax = plt.subplots(1,2, figsize=(8,4))\n",
    "# ConfusionMatrixDisplay.from_predictions(tar_tr, pred_tr, ax = ax[0], normalize='true', cmap=cm_blues, display_labels=custom_labs, colorbar=False)\n",
    "# ConfusionMatrixDisplay.from_predictions(tar_va, pred_va, ax = ax[1], normalize='true', cmap=cm_blues, display_labels=custom_labs, colorbar=False)\n",
    "\n",
    "# ax[0].set_title('Training Set')\n",
    "# ax[1].set_title('Validation Set')\n",
    "# plt.suptitle('Support Vector Classification Results')\n",
    "# plt.tight_layout()\n",
    "# plt.show()\n",
    "\n",
    "print(classification_report(tar_va, pred_va, target_names=custom_labs))"
   ]
  },
  {
   "cell_type": "markdown",
   "metadata": {
    "id": "6Z4DZPwFTZEP"
   },
   "source": [
    "## SVM/LR Stacking Ensemble\n",
    "No GridSearch, uses best pars as defined previously. Adding multiple SVC's does not improve results. "
   ]
  },
  {
   "cell_type": "code",
   "execution_count": 112,
   "metadata": {
    "colab": {
     "base_uri": "https://localhost:8080/",
     "height": 96
    },
    "id": "wd6LgbdVTduX",
    "outputId": "8013ddeb-ef74-41c4-9494-13282be076ad"
   },
   "outputs": [
    {
     "name": "stdout",
     "output_type": "stream",
     "text": [
      "CPU times: user 1.01 s, sys: 7.94 ms, total: 1.02 s\n",
      "Wall time: 1.02 s\n"
     ]
    }
   ],
   "source": [
    "%%time\n",
    "\n",
    "# Specify Gradient Boost\n",
    "# 75/25\n",
    "estimators = [('svc', SVC(kernel='rbf',gamma='auto',C=0.9,random_state=42))]\n",
    "# 300s\n",
    "# estimators = [('svc', SVC(C=0.8, gamma='auto', kernel='linear',random_state=42))]\n",
    "# CM21 \n",
    "# estimators = [('svc', SVC(C=0.9, gamma='auto', kernel='rbf',random_state=42))]\n",
    "\n",
    "# As the parameters for the Logistic Regression didn't change much, we use the best pars from the first trial.\n",
    "stacl = StackingClassifier(estimators=estimators,\n",
    "                           final_estimator=LogisticRegression(penalty = 'l1', max_iter = 500, solver ='saga', tol =0.0001))\n",
    "\n",
    "# Run the data through the stacking classifier\n",
    "stacl.fit(inp_tr, tar_tr.ravel())\n",
    "\n",
    "# Find the predicted values\n",
    "pred_tr = stacl.predict(inp_tr)\n",
    "pred_va = stacl.predict(inp_va)"
   ]
  },
  {
   "cell_type": "code",
   "execution_count": 113,
   "metadata": {
    "colab": {
     "base_uri": "https://localhost:8080/",
     "height": 300
    },
    "id": "ynA7OC3hUlHg",
    "outputId": "fd2b0ccb-429b-46d2-e85b-5ad69ca93359"
   },
   "outputs": [
    {
     "name": "stdout",
     "output_type": "stream",
     "text": [
      "              precision    recall  f1-score   support\n",
      "\n",
      "     Class 1       0.89      0.82      0.85       103\n",
      "     Class 2       0.95      0.98      0.96       665\n",
      "      Others       0.94      0.88      0.91       130\n",
      "\n",
      "    accuracy                           0.94       898\n",
      "   macro avg       0.93      0.89      0.91       898\n",
      "weighted avg       0.94      0.94      0.94       898\n",
      "\n"
     ]
    }
   ],
   "source": [
    "# # Confusion Matrix plot\n",
    "# fig, ax = plt.subplots(1,2, figsize=(8,4))\n",
    "# ConfusionMatrixDisplay.from_predictions(tar_tr, pred_tr, ax = ax[0], normalize='true', cmap=cm_blues, display_labels=custom_labs, colorbar=False)\n",
    "# ConfusionMatrixDisplay.from_predictions(tar_va, pred_va, ax = ax[1], normalize='true', cmap=cm_blues, display_labels=custom_labs, colorbar=False)\n",
    "\n",
    "# ax[0].set_title('Training Set')\n",
    "# ax[1].set_title('Validation Set')\n",
    "# plt.suptitle('Stacking Results')\n",
    "# plt.tight_layout()\n",
    "# plt.show()\n",
    "\n",
    "print(classification_report(tar_va, pred_va, target_names=custom_labs))"
   ]
  },
  {
   "cell_type": "markdown",
   "metadata": {
    "id": "vzcB_s2NCQ2L"
   },
   "source": [
    "## Gradient Boosting"
   ]
  },
  {
   "cell_type": "code",
   "execution_count": 114,
   "metadata": {
    "colab": {
     "base_uri": "https://localhost:8080/",
     "height": 579
    },
    "id": "L6GloAZcCQ2M",
    "outputId": "bbe6b011-4640-4876-906f-e232a1fb5754"
   },
   "outputs": [
    {
     "name": "stdout",
     "output_type": "stream",
     "text": [
      "CPU times: user 6.25 s, sys: 2 µs, total: 6.25 s\n",
      "Wall time: 6.25 s\n"
     ]
    }
   ],
   "source": [
    "%%time\n",
    "\n",
    "# Specify Gradient Boost\n",
    "boostcl = GradientBoostingClassifier()\n",
    "\n",
    "# Hyperparameters tested over initially\n",
    "# param_grid = [{'n_estimators': np.arange(50,250,50),'subsample':[0.5,1.0],\n",
    "#               'criterion':['friedman_mse'],'n_iter_no_change':[5],'warm_start':[True,False],\n",
    "#               'max_depth':np.arange(1,11,2),'max_features': ['sqrt','log2']}]\n",
    "\n",
    "# Final hyperparameters\n",
    "# 75/25\n",
    "param_grid = [{'criterion': ['friedman_mse'],\n",
    "                'max_depth': [9],\n",
    "                'max_features': ['log2'],\n",
    "                'n_estimators': [50],\n",
    "                'n_iter_no_change': [5],\n",
    "                'subsample': [1.0],\n",
    "                'warm_start': [True]}]\n",
    "# 300s\n",
    "# param_grid = [{'criterion': ['friedman_mse'],\n",
    "#               'max_depth': [5],\n",
    "#               'max_features': ['log2'],\n",
    "#               'n_estimators': [150],\n",
    "#               'n_iter_no_change': [5],\n",
    "#               'subsample': [1.0],\n",
    "#               'warm_start': [False]}]\n",
    "# CM21\n",
    "# param_grid = [{'criterion': ['friedman_mse'],\n",
    "#               'max_depth': [7],\n",
    "#               'max_features': ['log2'],\n",
    "#               'n_estimators': [200],\n",
    "#               'n_iter_no_change': [5],\n",
    "#               'subsample': [1.0],\n",
    "#               'warm_start': [True]}]\n",
    "\n",
    "# Define the grid\n",
    "grid = GridSearchCV(boostcl, param_grid)\n",
    "\n",
    "# Run the data through the grid to find optimal results\n",
    "grid.fit(inp_tr, tar_tr.ravel())\n",
    "\n",
    "# Find the predicted values\n",
    "pred_tr = grid.predict(inp_tr)\n",
    "pred_va = grid.predict(inp_va)"
   ]
  },
  {
   "cell_type": "code",
   "execution_count": 115,
   "metadata": {
    "id": "eBUJoN2OWJcd",
    "outputId": "8b84b0ee-940b-48d5-c19b-899ebc088bfb"
   },
   "outputs": [
    {
     "data": {
      "text/plain": [
       "{'criterion': 'friedman_mse',\n",
       " 'max_depth': 9,\n",
       " 'max_features': 'log2',\n",
       " 'n_estimators': 50,\n",
       " 'n_iter_no_change': 5,\n",
       " 'subsample': 1.0,\n",
       " 'warm_start': True}"
      ]
     },
     "execution_count": 115,
     "metadata": {},
     "output_type": "execute_result"
    }
   ],
   "source": [
    "grid.best_params_"
   ]
  },
  {
   "cell_type": "code",
   "execution_count": 116,
   "metadata": {
    "id": "GId2kQ7_CQ2M",
    "outputId": "efb6aba3-eb49-4e4b-b0b0-a60629ddd6df"
   },
   "outputs": [
    {
     "name": "stdout",
     "output_type": "stream",
     "text": [
      "              precision    recall  f1-score   support\n",
      "\n",
      "     Class 1       0.89      0.75      0.81       103\n",
      "     Class 2       0.95      0.97      0.96       665\n",
      "      Others       0.94      0.91      0.92       130\n",
      "\n",
      "    accuracy                           0.94       898\n",
      "   macro avg       0.92      0.88      0.90       898\n",
      "weighted avg       0.94      0.94      0.94       898\n",
      "\n"
     ]
    }
   ],
   "source": [
    "# # Confusion Matrix plot\n",
    "# fig, ax = plt.subplots(1,2, figsize=(8,4))\n",
    "# ConfusionMatrixDisplay.from_predictions(tar_tr, pred_tr, ax = ax[0], normalize='true', cmap=cm_blues, display_labels=custom_labs, colorbar=False)\n",
    "# ConfusionMatrixDisplay.from_predictions(tar_va, pred_va, ax = ax[1], normalize='true', cmap=cm_blues, display_labels=custom_labs, colorbar=False)\n",
    "\n",
    "# ax[0].set_title('Training Set')\n",
    "# ax[1].set_title('Validation Set')\n",
    "# plt.suptitle('Gradient Boosting Results')\n",
    "# plt.tight_layout()\n",
    "# plt.show()\n",
    "\n",
    "print(classification_report(tar_va, pred_va, target_names=custom_labs))"
   ]
  },
  {
   "cell_type": "markdown",
   "metadata": {
    "id": "v379VtHtCQ2N"
   },
   "source": [
    "### XGBoost"
   ]
  },
  {
   "cell_type": "code",
   "execution_count": 117,
   "metadata": {
    "id": "bI4UnZIuCQ2N",
    "outputId": "d2456ea3-a4e4-4b4e-beb7-a4565c0de316"
   },
   "outputs": [
    {
     "name": "stderr",
     "output_type": "stream",
     "text": [
      "/home/breanna/anaconda3/envs/StarFormation/lib/python3.10/site-packages/xgboost/sklearn.py:1224: UserWarning: The use of label encoder in XGBClassifier is deprecated and will be removed in a future release. To remove this warning, do the following: 1) Pass option use_label_encoder=False when constructing XGBClassifier object; and 2) Encode your labels (y) as integers starting with 0, i.e. 0, 1, 2, ..., [num_class - 1].\n",
      "  warnings.warn(label_encoder_deprecation_msg, UserWarning)\n"
     ]
    },
    {
     "name": "stdout",
     "output_type": "stream",
     "text": [
      "[04:57:51] WARNING: ../src/learner.cc:1115: Starting in XGBoost 1.3.0, the default evaluation metric used with the objective 'multi:softprob' was changed from 'merror' to 'mlogloss'. Explicitly set eval_metric if you'd like to restore the old behavior.\n"
     ]
    },
    {
     "name": "stderr",
     "output_type": "stream",
     "text": [
      "/home/breanna/anaconda3/envs/StarFormation/lib/python3.10/site-packages/xgboost/sklearn.py:1224: UserWarning: The use of label encoder in XGBClassifier is deprecated and will be removed in a future release. To remove this warning, do the following: 1) Pass option use_label_encoder=False when constructing XGBClassifier object; and 2) Encode your labels (y) as integers starting with 0, i.e. 0, 1, 2, ..., [num_class - 1].\n",
      "  warnings.warn(label_encoder_deprecation_msg, UserWarning)\n"
     ]
    },
    {
     "name": "stdout",
     "output_type": "stream",
     "text": [
      "[04:57:52] WARNING: ../src/learner.cc:1115: Starting in XGBoost 1.3.0, the default evaluation metric used with the objective 'multi:softprob' was changed from 'merror' to 'mlogloss'. Explicitly set eval_metric if you'd like to restore the old behavior.\n"
     ]
    },
    {
     "name": "stderr",
     "output_type": "stream",
     "text": [
      "/home/breanna/anaconda3/envs/StarFormation/lib/python3.10/site-packages/xgboost/sklearn.py:1224: UserWarning: The use of label encoder in XGBClassifier is deprecated and will be removed in a future release. To remove this warning, do the following: 1) Pass option use_label_encoder=False when constructing XGBClassifier object; and 2) Encode your labels (y) as integers starting with 0, i.e. 0, 1, 2, ..., [num_class - 1].\n",
      "  warnings.warn(label_encoder_deprecation_msg, UserWarning)\n"
     ]
    },
    {
     "name": "stdout",
     "output_type": "stream",
     "text": [
      "[04:57:52] WARNING: ../src/learner.cc:1115: Starting in XGBoost 1.3.0, the default evaluation metric used with the objective 'multi:softprob' was changed from 'merror' to 'mlogloss'. Explicitly set eval_metric if you'd like to restore the old behavior.\n"
     ]
    },
    {
     "name": "stderr",
     "output_type": "stream",
     "text": [
      "/home/breanna/anaconda3/envs/StarFormation/lib/python3.10/site-packages/xgboost/sklearn.py:1224: UserWarning: The use of label encoder in XGBClassifier is deprecated and will be removed in a future release. To remove this warning, do the following: 1) Pass option use_label_encoder=False when constructing XGBClassifier object; and 2) Encode your labels (y) as integers starting with 0, i.e. 0, 1, 2, ..., [num_class - 1].\n",
      "  warnings.warn(label_encoder_deprecation_msg, UserWarning)\n"
     ]
    },
    {
     "name": "stdout",
     "output_type": "stream",
     "text": [
      "[04:57:53] WARNING: ../src/learner.cc:1115: Starting in XGBoost 1.3.0, the default evaluation metric used with the objective 'multi:softprob' was changed from 'merror' to 'mlogloss'. Explicitly set eval_metric if you'd like to restore the old behavior.\n"
     ]
    },
    {
     "name": "stderr",
     "output_type": "stream",
     "text": [
      "/home/breanna/anaconda3/envs/StarFormation/lib/python3.10/site-packages/xgboost/sklearn.py:1224: UserWarning: The use of label encoder in XGBClassifier is deprecated and will be removed in a future release. To remove this warning, do the following: 1) Pass option use_label_encoder=False when constructing XGBClassifier object; and 2) Encode your labels (y) as integers starting with 0, i.e. 0, 1, 2, ..., [num_class - 1].\n",
      "  warnings.warn(label_encoder_deprecation_msg, UserWarning)\n"
     ]
    },
    {
     "name": "stdout",
     "output_type": "stream",
     "text": [
      "[04:57:53] WARNING: ../src/learner.cc:1115: Starting in XGBoost 1.3.0, the default evaluation metric used with the objective 'multi:softprob' was changed from 'merror' to 'mlogloss'. Explicitly set eval_metric if you'd like to restore the old behavior.\n"
     ]
    },
    {
     "name": "stderr",
     "output_type": "stream",
     "text": [
      "/home/breanna/anaconda3/envs/StarFormation/lib/python3.10/site-packages/xgboost/sklearn.py:1224: UserWarning: The use of label encoder in XGBClassifier is deprecated and will be removed in a future release. To remove this warning, do the following: 1) Pass option use_label_encoder=False when constructing XGBClassifier object; and 2) Encode your labels (y) as integers starting with 0, i.e. 0, 1, 2, ..., [num_class - 1].\n",
      "  warnings.warn(label_encoder_deprecation_msg, UserWarning)\n"
     ]
    },
    {
     "name": "stdout",
     "output_type": "stream",
     "text": [
      "[04:57:53] WARNING: ../src/learner.cc:1115: Starting in XGBoost 1.3.0, the default evaluation metric used with the objective 'multi:softprob' was changed from 'merror' to 'mlogloss'. Explicitly set eval_metric if you'd like to restore the old behavior.\n"
     ]
    }
   ],
   "source": [
    "# Specify XGBoost\n",
    "xgbcl = xgb.XGBClassifier()\n",
    "\n",
    "# Hyperparameters tested over initially\n",
    "# param_grid = [{'subsample':[0.5,1.0],'max_depth':np.arange(1,11,2),'sampling_method':['uniform']}]\n",
    "\n",
    "# Final hyperparameters\n",
    "# 75/25\n",
    "param_grid = [{'max_depth': [9], 'sampling_method': ['uniform'], 'subsample': [0.5]}]\n",
    "# 300s\n",
    "# param_grid = [{'max_depth': [7], 'sampling_method': ['uniform'], 'subsample': [0.5]}]\n",
    "# CM21\n",
    "# param_grid = [{'max_depth': [9], 'sampling_method': ['uniform'], 'subsample': [1.0]}]\n",
    "\n",
    "# Define the grid\n",
    "grid = GridSearchCV(xgbcl, param_grid)\n",
    "\n",
    "# Run the data through the grid to find optimal results\n",
    "grid.fit(inp_tr, tar_tr.ravel())\n",
    "\n",
    "# Find the predicted values\n",
    "pred_tr = grid.predict(inp_tr)\n",
    "pred_va = grid.predict(inp_va)"
   ]
  },
  {
   "cell_type": "code",
   "execution_count": 118,
   "metadata": {
    "id": "Bg4bNnNbWIGQ",
    "outputId": "366c5ba0-09d9-49dc-b071-efaa1b30869a"
   },
   "outputs": [
    {
     "data": {
      "text/plain": [
       "{'max_depth': 9, 'sampling_method': 'uniform', 'subsample': 0.5}"
      ]
     },
     "execution_count": 118,
     "metadata": {},
     "output_type": "execute_result"
    }
   ],
   "source": [
    "grid.best_params_"
   ]
  },
  {
   "cell_type": "code",
   "execution_count": 119,
   "metadata": {
    "id": "NjT1jfOuS-c7",
    "outputId": "1c76e70a-d7c7-4e67-e646-7adecbc107b7"
   },
   "outputs": [
    {
     "name": "stdout",
     "output_type": "stream",
     "text": [
      "              precision    recall  f1-score   support\n",
      "\n",
      "     Class 1       0.87      0.80      0.83       103\n",
      "     Class 2       0.96      0.97      0.96       665\n",
      "      Others       0.93      0.92      0.93       130\n",
      "\n",
      "    accuracy                           0.94       898\n",
      "   macro avg       0.92      0.90      0.91       898\n",
      "weighted avg       0.94      0.94      0.94       898\n",
      "\n"
     ]
    }
   ],
   "source": [
    "# # Confusion Matrix plot\n",
    "# fig, ax = plt.subplots(1,2, figsize=(8,4))\n",
    "# ConfusionMatrixDisplay.from_predictions(tar_tr, pred_tr, ax = ax[0], normalize='true', cmap=cm_blues, display_labels=custom_labs, colorbar=False)\n",
    "# ConfusionMatrixDisplay.from_predictions(tar_va, pred_va, ax = ax[1], normalize='true', cmap=cm_blues, display_labels=custom_labs, colorbar=False)\n",
    "\n",
    "# ax[0].set_title('Training Set')\n",
    "# ax[1].set_title('Validation Set')\n",
    "# plt.suptitle('XGBoost Results')\n",
    "# plt.tight_layout()\n",
    "# plt.show()\n",
    "\n",
    "print(classification_report(tar_va, pred_va, target_names=custom_labs))"
   ]
  },
  {
   "cell_type": "markdown",
   "metadata": {
    "id": "-6A0mcoACQ2N"
   },
   "source": [
    "## Random Forest"
   ]
  },
  {
   "cell_type": "code",
   "execution_count": 120,
   "metadata": {
    "id": "n4qZO8L_CQ2O"
   },
   "outputs": [],
   "source": [
    "# Specify RF\n",
    "rfcl = RandomForestClassifier()\n",
    "\n",
    "# Hyperparameters tested over initially\n",
    "# param_grid = [{'class_weight': ['balanced_subsample','balanced'], 'n_estimators': np.arange(50,250,50),\n",
    "#         'criterion': ['gini', 'entropy'], 'max_features': ['sqrt','log2'], 'oob_score':[True,False]}]\n",
    "\n",
    "# Final hyperparameters\n",
    "# 75/25\n",
    "param_grid = [{'class_weight': ['balanced_subsample'],\n",
    "              'criterion': ['entropy'],\n",
    "              'max_features': ['log2'],\n",
    "              'n_estimators': [150],\n",
    "              'oob_score': [False]}]\n",
    "# 300s\n",
    "# param_grid = [{'class_weight': ['balanced'],\n",
    "#               'criterion': ['entropy'],\n",
    "#               'max_features': ['log2'],\n",
    "#               'n_estimators': [50],\n",
    "#               'oob_score': [False]}]\n",
    "# CM21\n",
    "# param_grid = [{'class_weight': ['balanced'],\n",
    "#               'criterion': ['entropy'],\n",
    "#               'max_features': ['log2'],\n",
    "#               'n_estimators': [100],\n",
    "#               'oob_score': [True]}]\n",
    "\n",
    "# Define the grid\n",
    "grid = GridSearchCV(rfcl,param_grid=param_grid)\n",
    "\n",
    "# Run the data through the grid to find optimal results\n",
    "grid.fit(inp_tr, tar_tr.ravel())\n",
    "\n",
    "# Find the predicted values\n",
    "pred_tr = grid.predict(inp_tr)\n",
    "pred_va = grid.predict(inp_va)"
   ]
  },
  {
   "cell_type": "code",
   "execution_count": 121,
   "metadata": {
    "id": "18QXfLIPRRjN",
    "outputId": "172d56ff-a123-44e4-bbc3-ab8b050f9f93"
   },
   "outputs": [
    {
     "data": {
      "text/plain": [
       "{'class_weight': 'balanced_subsample',\n",
       " 'criterion': 'entropy',\n",
       " 'max_features': 'log2',\n",
       " 'n_estimators': 150,\n",
       " 'oob_score': False}"
      ]
     },
     "execution_count": 121,
     "metadata": {},
     "output_type": "execute_result"
    }
   ],
   "source": [
    "grid.best_params_"
   ]
  },
  {
   "cell_type": "code",
   "execution_count": 122,
   "metadata": {
    "id": "KHU1_UQ2CQ2O",
    "outputId": "a1a4039b-c207-41ea-cc8c-b6e2b2d09feb"
   },
   "outputs": [
    {
     "name": "stdout",
     "output_type": "stream",
     "text": [
      "              precision    recall  f1-score   support\n",
      "\n",
      "     Class 1       0.89      0.75      0.81       103\n",
      "     Class 2       0.95      0.97      0.96       665\n",
      "      Others       0.92      0.92      0.92       130\n",
      "\n",
      "    accuracy                           0.94       898\n",
      "   macro avg       0.92      0.88      0.90       898\n",
      "weighted avg       0.94      0.94      0.94       898\n",
      "\n"
     ]
    }
   ],
   "source": [
    "# # Confusion Matrix plot\n",
    "# fig, ax = plt.subplots(1,2, figsize=(8,4))\n",
    "# ConfusionMatrixDisplay.from_predictions(tar_tr, pred_tr, ax = ax[0], normalize='true', cmap=cm_blues, display_labels=custom_labs, colorbar=False)\n",
    "# ConfusionMatrixDisplay.from_predictions(tar_va, pred_va, ax = ax[1], normalize='true', cmap=cm_blues, display_labels=custom_labs, colorbar=False)\n",
    "\n",
    "# ax[0].set_title('Training Set')\n",
    "# ax[1].set_title('Validation Set')\n",
    "# plt.suptitle('Random Forest Results')\n",
    "# plt.tight_layout()\n",
    "# plt.show()\n",
    "\n",
    "print(classification_report(tar_va, pred_va, target_names=custom_labs))"
   ]
  },
  {
   "cell_type": "code",
   "execution_count": 68,
   "metadata": {
    "id": "hxFSJaxIhcvZ",
    "outputId": "a34455c2-ef18-4c6e-f3c8-00821f87bdf5"
   },
   "outputs": [
    {
     "name": "stderr",
     "output_type": "stream",
     "text": [
      "sh: 1: say: not found\n"
     ]
    },
    {
     "data": {
      "text/plain": [
       "32512"
      ]
     },
     "execution_count": 68,
     "metadata": {},
     "output_type": "execute_result"
    }
   ],
   "source": [
    "import os\n",
    "os.system('say \"your program has finished\"')"
   ]
  },
  {
   "cell_type": "markdown",
   "metadata": {
    "id": "DLJGW1U6CQ2O"
   },
   "source": [
    "# Neural Network"
   ]
  },
  {
   "cell_type": "markdown",
   "metadata": {
    "id": "3Qp5HGBdhcvZ"
   },
   "source": [
    "In this section, we describe in which ways we replicated the CM21 paper, and the choices we made along the way to derive the best results we were able to achieve. This section was performed by S. Fielder.\n",
    "\n",
    "All the training has been performed prior to this notebook, and the state of the network saved at the appropriate time. Below we will just import the state of the system described, and run the testing set through for evaluation, and metrics along with Confusion Matrixes will be outputted for each subsection.\n",
    "\n",
    "Many of the functions called below are semi-custom made, and are found in the appropriate `.py` files in this directory. The majority come from `NN_Defs.py` where the model construction along with the training and validation functions are located. Additionally, our custom data split maker is found in `custom_dataloader.py`, in which we can build reproducable sets of training, validation and testing sets depending on the number of subclasses wanted in each set. In this example, we focus on the results achieved by using the CM21 data-split as performed using this loader.\n",
    "\n",
    "Finally `network_runner.py` was the script used in order to train all of the networks, and appropriately print out the metrics, along with saving plots for both confusion matrixes and loss values. Some of these outputs are shown in the `Saved_Final_Data/` directory. The settings found therein will be imported below to load the state of the networks as mentioned above."
   ]
  },
  {
   "cell_type": "markdown",
   "metadata": {
    "id": "SdxoY6vtCQ2P"
   },
   "source": [
    "## Importing"
   ]
  },
  {
   "cell_type": "code",
   "execution_count": 45,
   "metadata": {
    "id": "nfkaxzihCQ2P",
    "outputId": "d861bc81-c67d-4342-fec0-282577a69705"
   },
   "outputs": [
    {
     "name": "stdout",
     "output_type": "stream",
     "text": [
      "Running on : cpu\n"
     ]
    }
   ],
   "source": [
    "# library imports\n",
    "import torch\n",
    "import torch.nn as nn\n",
    "import torch.nn.functional as F\n",
    "import torch.optim as optim\n",
    "import torch.utils.data as data_utils\n",
    "\n",
    "# custom script inputs\n",
    "from NN_Defs import get_n_params, train, validate, BaseMLP\n",
    "\n",
    "device = torch.device(\"cuda:0\" if torch.cuda.is_available() else \"cpu\")\n",
    "print(f'Running on : {device}')\n",
    "\n",
    "datadir = 'Saved_Final_Data/'"
   ]
  },
  {
   "cell_type": "markdown",
   "metadata": {
    "id": "QWSjzREdhcva"
   },
   "source": [
    "## Data Loading"
   ]
  },
  {
   "cell_type": "code",
   "execution_count": 128,
   "metadata": {
    "id": "1AKc4LsLhcva",
    "outputId": "9edb5e69-3f92-414c-c400-0c23cde99fcc"
   },
   "outputs": [
    {
     "name": "stdout",
     "output_type": "stream",
     "text": [
      "Sizes of Datasets : Inputs , Targets\n",
      "------------------------------------\n",
      "Training set: (1597, 8) , (1597,) \n",
      "Validation set: (5377, 8) , (5377,) \n",
      "Testing Set: (19929, 8), (19929,)\n",
      "------------------------------------\n"
     ]
    }
   ],
   "source": [
    "# data load\n",
    "X = np.load(\"Input_Class_AllClasses_Sep.npy\")\n",
    "Y = np.load(\"Target_Class_AllClasses_Sep.npy\")\n",
    "\n",
    "# custom data loader to pull in custom sized data set\n",
    "# use seed to get replicable results for now\n",
    "seed_val = 1111\n",
    "\n",
    "# the amounts below are how many of each class of object you want in the training set and validation set - leftover amounts given to testing set\n",
    "\n",
    "\n",
    "# CM21 Split\n",
    "# amounts_train = [331,1141,231,529,27,70,1257]\n",
    "# amounts_val = [82, 531, 104, 278, 6, 17, 4359]\n",
    "\n",
    "# 300s Split\n",
    "amounts_train = [300,300,300,300,27,70,300]\n",
    "amounts_val = [82, 531, 104, 278, 6, 17, 4359]\n",
    "\n",
    "# # 75/25 Split\n",
    "# amounts_train = [311,1994,391,1043,25,66,21796] #75/25 train\n",
    "# amounts_val = [103,665,130,348,9,22,5449] #75/25 val\n",
    "\n",
    "\n",
    "# calling custom datagrabber here\n",
    "inp_tr, tar_tr, inp_va, tar_va, inp_te, tar_te = replicate_data(X, Y, 'three', amounts_train, amounts_val, seed_val)\n",
    "\n",
    "# scaling data according to training inputs\n",
    "scaler_S = StandardScaler().fit(inp_tr)\n",
    "inp_tr = scaler_S.transform(inp_tr)\n",
    "inp_va = scaler_S.transform(inp_va)\n",
    "inp_te = scaler_S.transform(inp_te) # Comment out for 75/25 split\n",
    "\n",
    "# printouts for double checking all the sets and amounts\n",
    "print('Sizes of Datasets : Inputs , Targets')\n",
    "print('------------------------------------')\n",
    "print(f'Training set: {inp_tr.shape} , {tar_tr.shape} \\nValidation set: {inp_va.shape} , {tar_va.shape} \\nTesting Set: {inp_te.shape}, {tar_te.shape}')\n",
    "print('------------------------------------')"
   ]
  },
  {
   "cell_type": "markdown",
   "metadata": {
    "id": "yXQgSJnOCQ2P"
   },
   "source": [
    "## Scaling, Conversions to Tensors, and DataLoader Creation"
   ]
  },
  {
   "cell_type": "code",
   "execution_count": 130,
   "metadata": {
    "id": "y3xYPWWpCQ2Q"
   },
   "outputs": [
    {
     "name": "stderr",
     "output_type": "stream",
     "text": [
      "/tmp/ipykernel_749/3258206545.py:2: UserWarning: To copy construct from a tensor, it is recommended to use sourceTensor.clone().detach() or sourceTensor.clone().detach().requires_grad_(True), rather than torch.tensor(sourceTensor).\n",
      "  inp_tr = torch.tensor(inp_tr)\n",
      "/tmp/ipykernel_749/3258206545.py:3: UserWarning: To copy construct from a tensor, it is recommended to use sourceTensor.clone().detach() or sourceTensor.clone().detach().requires_grad_(True), rather than torch.tensor(sourceTensor).\n",
      "  tar_tr = torch.tensor(tar_tr)\n",
      "/tmp/ipykernel_749/3258206545.py:4: UserWarning: To copy construct from a tensor, it is recommended to use sourceTensor.clone().detach() or sourceTensor.clone().detach().requires_grad_(True), rather than torch.tensor(sourceTensor).\n",
      "  inp_va = torch.tensor(inp_va)\n",
      "/tmp/ipykernel_749/3258206545.py:5: UserWarning: To copy construct from a tensor, it is recommended to use sourceTensor.clone().detach() or sourceTensor.clone().detach().requires_grad_(True), rather than torch.tensor(sourceTensor).\n",
      "  tar_va = torch.tensor(tar_va)\n",
      "/tmp/ipykernel_749/3258206545.py:6: UserWarning: To copy construct from a tensor, it is recommended to use sourceTensor.clone().detach() or sourceTensor.clone().detach().requires_grad_(True), rather than torch.tensor(sourceTensor).\n",
      "  inp_te = torch.tensor(inp_te)\n",
      "/tmp/ipykernel_749/3258206545.py:7: UserWarning: To copy construct from a tensor, it is recommended to use sourceTensor.clone().detach() or sourceTensor.clone().detach().requires_grad_(True), rather than torch.tensor(sourceTensor).\n",
      "  tar_te = torch.tensor(tar_te)\n"
     ]
    }
   ],
   "source": [
    "# creation of tensor instances\n",
    "inp_tr = torch.tensor(inp_tr)\n",
    "tar_tr = torch.tensor(tar_tr)\n",
    "inp_va = torch.tensor(inp_va)\n",
    "tar_va = torch.tensor(tar_va)\n",
    "inp_te = torch.tensor(inp_te)\n",
    "tar_te = torch.tensor(tar_te)\n",
    "\n",
    "# pass tensors into TensorDataset instances\n",
    "train_data = data_utils.TensorDataset(inp_tr, tar_tr)\n",
    "val_data = data_utils.TensorDataset(inp_va, tar_va)\n",
    "test_data = data_utils.TensorDataset(inp_te, tar_te)\n",
    "\n",
    "# constructing data loaders\n",
    "train_loader = torch.utils.data.DataLoader(train_data, batch_size=25, shuffle=True)\n",
    "val_loader = torch.utils.data.DataLoader(val_data, batch_size=25, shuffle=True)\n",
    "test_loader = torch.utils.data.DataLoader(test_data, batch_size=25, shuffle=True)"
   ]
  },
  {
   "cell_type": "markdown",
   "metadata": {
    "id": "qtqRXkQgCQ2Q"
   },
   "source": [
    "## Create Network Instance and Set Hyperparameters"
   ]
  },
  {
   "cell_type": "markdown",
   "metadata": {
    "id": "BhmkZEJUhcva"
   },
   "source": [
    "The CM21 paper provided a good amount of detail about how the network was set up, including number of layers, number of neurons, how the data set was split for training and validation, etc. CM21 did mention that at every 3000 and 5000 epochs in training, they would check their metric to see if a reduction in learning rate would be useful, however they do not say conclusively if they implemented any learning rate scheduling.\n",
    "\n",
    "We decided, as a starting point to implement the quoted learning rate of $4 \\times10^{-5}$ statically throughout training, to see if decent results would emerge from a few thousand epochs of training.\n",
    "\n",
    "Additionally, we would like to mention that after a stable network that produced decent results was built, going back and changing the batch size did not significantly affect the results, hence these will be kept at the constant size of 25 throughout the results presented here."
   ]
  },
  {
   "cell_type": "markdown",
   "metadata": {
    "id": "HIpOuw-Thcvb"
   },
   "source": [
    "## Initial Results"
   ]
  },
  {
   "cell_type": "code",
   "execution_count": null,
   "metadata": {
    "id": "nTlfjThhCQ2Q"
   },
   "outputs": [],
   "source": [
    "# create nn instance\n",
    "BaseNN = BaseMLP(8, 20, 3)\n",
    "# load in saved state of network\n",
    "loadpath = datadir+'CSplit_LR4e-5_B25_E20k_M06_Settings'\n",
    "BaseNN.load_state_dict(torch.load(loadpath, map_location=device))\n",
    "\n",
    "# compute validation results\n",
    "val_loss, val_accuracy, val_predictions, val_truth_values = validate(BaseNN, val_loader, device)"
   ]
  },
  {
   "cell_type": "markdown",
   "metadata": {
    "id": "ZDuWAiiAhcvb"
   },
   "source": [
    "At the time of training, training and validation losses were also stored and plotted. This is loaded in manually here from `/Saved_Final_Data`.\n",
    "\n",
    "<img src=\"Saved_Final_Data/CSplit_LR4e-5_B25_E20k_M06_loss.png\" alt=\"Loss with 4e-5 Learning Rate\" width=\"750\"/>"
   ]
  },
  {
   "cell_type": "markdown",
   "metadata": {
    "id": "nhWNXDtEhcvb"
   },
   "source": [
    "As we can see from the above plot, the training and validation sets are still decreasing in value after 20000 epochs. We can additionally display our metrics as well as a Confusion Matrix."
   ]
  },
  {
   "cell_type": "code",
   "execution_count": null,
   "metadata": {
    "id": "PrwStm6Mhcvb",
    "outputId": "2cb25618-403b-4b10-f574-945e8695e2c7"
   },
   "outputs": [
    {
     "name": "stdout",
     "output_type": "stream",
     "text": [
      "              precision    recall  f1-score   support\n",
      "\n",
      "     Class 1       0.00      0.00      0.00        82\n",
      "     Class 2       0.33      0.75      0.45       531\n",
      "      Others       0.96      0.84      0.90      4764\n",
      "\n",
      "    accuracy                           0.82      5377\n",
      "   macro avg       0.43      0.53      0.45      5377\n",
      "weighted avg       0.89      0.82      0.84      5377\n",
      "\n"
     ]
    },
    {
     "name": "stderr",
     "output_type": "stream",
     "text": [
      "/opt/anaconda3/envs/PHYS555_PY37/lib/python3.7/site-packages/sklearn/metrics/_classification.py:1318: UndefinedMetricWarning: Precision and F-score are ill-defined and being set to 0.0 in labels with no predicted samples. Use `zero_division` parameter to control this behavior.\n",
      "  _warn_prf(average, modifier, msg_start, len(result))\n",
      "/opt/anaconda3/envs/PHYS555_PY37/lib/python3.7/site-packages/sklearn/metrics/_classification.py:1318: UndefinedMetricWarning: Precision and F-score are ill-defined and being set to 0.0 in labels with no predicted samples. Use `zero_division` parameter to control this behavior.\n",
      "  _warn_prf(average, modifier, msg_start, len(result))\n",
      "/opt/anaconda3/envs/PHYS555_PY37/lib/python3.7/site-packages/sklearn/metrics/_classification.py:1318: UndefinedMetricWarning: Precision and F-score are ill-defined and being set to 0.0 in labels with no predicted samples. Use `zero_division` parameter to control this behavior.\n",
      "  _warn_prf(average, modifier, msg_start, len(result))\n"
     ]
    },
    {
     "data": {
      "image/png": "[encoded data removed]",
      "text/plain": [
       "<Figure size 360x360 with 1 Axes>"
      ]
     },
     "metadata": {
      "needs_background": "light"
     },
     "output_type": "display_data"
    }
   ],
   "source": [
    "# print classification report\n",
    "print(classification_report(val_truth_values, val_predictions, target_names=custom_labs))\n",
    "\n",
    "# plotting Confusion Matrix and saving\n",
    "fig, ax = plt.subplots(figsize=(5,5))\n",
    "ConfusionMatrixDisplay.from_predictions(val_truth_values, val_predictions, ax = ax, normalize='true', cmap=cm_blues, display_labels=custom_labs, colorbar=False)\n",
    "ax.set_title('Validation Set')\n",
    "plt.tight_layout()\n",
    "plt.show()"
   ]
  },
  {
   "cell_type": "markdown",
   "metadata": {
    "id": "OOK7teQSCQ2R"
   },
   "source": [
    "## A more aggressive approach"
   ]
  },
  {
   "cell_type": "markdown",
   "metadata": {
    "id": "xgO9pmsfhcvb"
   },
   "source": [
    "We found from above, that taking a static learning rate of very low value, yielded learning that was very slow. Of course when the learning rate is low, the step size for the SGD is so small that it will need quite a bit of time to yield necessary results that are comparable to the paper. From the confusion matrix above, we know that the model at it's early stages does a great job at classifying the \"Others\" class as well as the Class II objects, but the network is not yet picking up the differences between Class I and Class II objects.\n",
    "\n",
    "What is needed, are larger learning rate steps by the optimizer, to speed up the process of finding a suitable minimum which produces the results closer to CM21's results. This **time to converge** is what we ended up tuning our network to produce.\n",
    "\n",
    "Below, we will load in the network that was trained with a learning rate of $4 \\times 10^{-2}$ for 10,000 epochs."
   ]
  },
  {
   "cell_type": "code",
   "execution_count": 131,
   "metadata": {
    "id": "PkuLOdYaCQ2S"
   },
   "outputs": [],
   "source": [
    "# create nn instance\n",
    "BaseNN = BaseMLP(8, 20, 3)\n",
    "# load in saved state of network\n",
    "# loadpath = datadir+'Final_CSplit_4e-2_Settings' #CM21 Split\n",
    "loadpath = datadir+'Final_300s_Settings'\n",
    "# loadpath = datadir+'Final_7525Split_Settings' # 75/25 Split\n",
    "\n",
    "BaseNN.load_state_dict(torch.load(loadpath, map_location=device))\n",
    "\n",
    "# compute validation results\n",
    "val_loss, val_accuracy, val_predictions, val_truth_values = validate(BaseNN, val_loader, device)"
   ]
  },
  {
   "cell_type": "markdown",
   "metadata": {
    "id": "AcD3yCvfhcvc"
   },
   "source": [
    "Again, the loss plot below was constructed at our last epoch in this specific model loaded. This is loaded in manually here from `/Saved_Final_Data`.\n",
    "\n",
    "<img src=\"Saved_Final_Data/Final_CSplit_4e-2_loss.png\" alt=\"Loss with 4e-5 Learning Rate\" width=\"750\"/>"
   ]
  },
  {
   "cell_type": "markdown",
   "metadata": {
    "id": "3cWI16yxhcvc"
   },
   "source": [
    "Surpringsly, we had not yet implemented any amount of learning rate scheduler, so to see the characteristic dip of a learning rate scheduler at around Epoch 1800 was surprising. This simply means that at that point in the model, the model fell into a minimum and plateaued from then on out."
   ]
  },
  {
   "cell_type": "code",
   "execution_count": 132,
   "metadata": {
    "id": "pwtkzmPZhcvc",
    "outputId": "7cce74b3-0114-40ab-caf2-dd4532ffdcfc"
   },
   "outputs": [
    {
     "name": "stdout",
     "output_type": "stream",
     "text": [
      "              precision    recall  f1-score   support\n",
      "\n",
      "     Class 1       0.68      0.87      0.76        82\n",
      "     Class 2       0.87      0.89      0.88       531\n",
      "      Others       0.99      0.98      0.99      4764\n",
      "\n",
      "    accuracy                           0.97      5377\n",
      "   macro avg       0.85      0.91      0.88      5377\n",
      "weighted avg       0.97      0.97      0.97      5377\n",
      "\n"
     ]
    },
    {
     "data": {
      "image/png": "[encoded data removed]",
      "text/plain": [
       "<Figure size 360x360 with 1 Axes>"
      ]
     },
     "metadata": {
      "needs_background": "light"
     },
     "output_type": "display_data"
    }
   ],
   "source": [
    "# print classification report\n",
    "print(classification_report(val_truth_values, val_predictions, target_names=custom_labs))\n",
    "\n",
    "# plotting Confusion Matrix and saving\n",
    "fig, ax = plt.subplots(figsize=(5,5))\n",
    "ConfusionMatrixDisplay.from_predictions(val_truth_values, val_predictions, ax = ax, normalize='true', cmap=cm_blues, display_labels=custom_labs, colorbar=False)\n",
    "ax.set_title('Validation Set')\n",
    "plt.tight_layout()\n",
    "plt.show()"
   ]
  },
  {
   "cell_type": "markdown",
   "metadata": {
    "id": "r6unX03aCQ2U"
   },
   "source": [
    "With only 10,000 epochs, and a learning rate that is much more aggressive, we already see the network perform quite well compared to the small learning rate model shown previously. It seems we do not only converge faster, but we also converge to a lower loss value, yielding high recall for our classes.\n",
    "\n",
    "The largest change with the more aggressive learning rate, is that the network is now able to distinguish between Class I and Class II objects more effectively. Whereas prior our recall was 0% for Class I objects, that is now 87% recall, while training for only half the time."
   ]
  },
  {
   "cell_type": "markdown",
   "metadata": {
    "id": "pzs76Wi2hcvc"
   },
   "source": [
    "## Can we be even more aggressive?\n",
    "\n",
    "We then decided to run an even more aggressive learning rate, to see if we could find a deeper minimum, increasing our values for the metrics we focus on, mainly recall."
   ]
  },
  {
   "cell_type": "code",
   "execution_count": null,
   "metadata": {
    "id": "9pk-8gPfhcvc"
   },
   "outputs": [],
   "source": [
    "# create nn instance\n",
    "BaseNN = BaseMLP(8, 20, 3)\n",
    "# load in saved state of network\n",
    "loadpath = datadir+'Final_CSplit_4e-1_Settings'\n",
    "BaseNN.load_state_dict(torch.load(loadpath, map_location=device))\n",
    "\n",
    "# compute validation results\n",
    "val_loss, val_accuracy, val_predictions, val_truth_values = validate(BaseNN, val_loader, device)"
   ]
  },
  {
   "cell_type": "markdown",
   "metadata": {
    "id": "5K_nrp7Xhcvc"
   },
   "source": [
    "Again, the loss plot below was constructed at our last epoch in this specific model loaded. This is loaded in manually here from `/Saved_Final_Data`.\n",
    "\n",
    "<img src=\"Saved_Final_Data/Final_CSplit_4e-1_loss.png\" alt=\"Loss with 4e-5 Learning Rate\" width=\"750\"/>"
   ]
  },
  {
   "cell_type": "code",
   "execution_count": null,
   "metadata": {
    "id": "FOtmphfBhcvc",
    "outputId": "155efbad-d712-4649-e217-629c15d340d4"
   },
   "outputs": [
    {
     "name": "stdout",
     "output_type": "stream",
     "text": [
      "              precision    recall  f1-score   support\n",
      "\n",
      "     Class 1       0.76      0.83      0.80        82\n",
      "     Class 2       0.91      0.92      0.91       531\n",
      "      Others       0.99      0.99      0.99      4764\n",
      "\n",
      "    accuracy                           0.98      5377\n",
      "   macro avg       0.89      0.91      0.90      5377\n",
      "weighted avg       0.98      0.98      0.98      5377\n",
      "\n"
     ]
    },
    {
     "data": {
      "image/png": "[encoded data removed]",
      "text/plain": [
       "<Figure size 360x360 with 1 Axes>"
      ]
     },
     "metadata": {
      "needs_background": "light"
     },
     "output_type": "display_data"
    }
   ],
   "source": [
    "# print classification report\n",
    "print(classification_report(val_truth_values, val_predictions, target_names=custom_labs))\n",
    "\n",
    "# plotting Confusion Matrix and saving\n",
    "fig, ax = plt.subplots(figsize=(5,5))\n",
    "ConfusionMatrixDisplay.from_predictions(val_truth_values, val_predictions, ax = ax, normalize='true', cmap=cm_blues, display_labels=custom_labs, colorbar=False)\n",
    "ax.set_title('Validation Set')\n",
    "plt.tight_layout()\n",
    "plt.show()"
   ]
  },
  {
   "cell_type": "markdown",
   "metadata": {
    "id": "mKx6N_4lhcvd"
   },
   "source": [
    "From the above results, we can see that implementing a learning rate that is too aggressive leads to convergence that is perhaps too quick, as we see the validation loss start to increase just past 3000 epochs. Overall, this network loses out to our previous value of learning rate, with a decrease in both recall for Class I and Class II objects."
   ]
  },
  {
   "cell_type": "markdown",
   "metadata": {
    "id": "kb5AjdPQhcvd"
   },
   "source": [
    "## Final Implementation\n",
    "\n",
    "To compare evenly between runs that have different learning rates, we of course have to run the networks with learning rates for much much longer. This was one of the feedbacks we were given following the presentation. We decided that we would run that initial network with the quoted learning rate in the paper, for a total of 500,000 epochs, to try and give the network a little more time to get it's metrics up."
   ]
  },
  {
   "cell_type": "code",
   "execution_count": 6,
   "metadata": {},
   "outputs": [],
   "source": [
    "# create nn instance\n",
    "BaseNN = BaseMLP(8, 20, 3)\n",
    "# load in saved state of network\n",
    "loadpath = datadir+'BIG_CSplit_LR4e-5_E500k_M06_Settings'\n",
    "BaseNN.load_state_dict(torch.load(loadpath, map_location=device))\n",
    "\n",
    "# compute validation results\n",
    "val_loss, val_accuracy, val_predictions, val_truth_values = validate(BaseNN, val_loader, device)"
   ]
  },
  {
   "cell_type": "markdown",
   "metadata": {},
   "source": [
    "<img src=\"Saved_Final_Data/BIG_CSplit_LR4e-5_E500k_M06_loss.png\" alt=\"Loss with 4e-5 Learning Rate for 500k epochs\" width=\"750\"/>"
   ]
  },
  {
   "cell_type": "markdown",
   "metadata": {},
   "source": [
    "Without much doubt, the network is still progressing towards lower loss values, even after 500,000 epochs. We do see an aggressive plateau after around 300,000 epochs, which could suggest that no amount of more training can help the network. Shown below in the metrics is the overall reasoning behind abandoning this approach altogether."
   ]
  },
  {
   "cell_type": "code",
   "execution_count": 7,
   "metadata": {},
   "outputs": [
    {
     "name": "stdout",
     "output_type": "stream",
     "text": [
      "              precision    recall  f1-score   support\n",
      "\n",
      "     Class 1       0.00      0.00      0.00        82\n",
      "     Class 2       0.78      0.94      0.85       531\n",
      "      Others       0.99      0.98      0.99      4764\n",
      "\n",
      "    accuracy                           0.96      5377\n",
      "   macro avg       0.59      0.64      0.61      5377\n",
      "weighted avg       0.95      0.96      0.96      5377\n",
      "\n"
     ]
    },
    {
     "name": "stderr",
     "output_type": "stream",
     "text": [
      "/opt/anaconda3/envs/PHYS555_PY37/lib/python3.7/site-packages/sklearn/metrics/_classification.py:1318: UndefinedMetricWarning: Precision and F-score are ill-defined and being set to 0.0 in labels with no predicted samples. Use `zero_division` parameter to control this behavior.\n",
      "  _warn_prf(average, modifier, msg_start, len(result))\n",
      "/opt/anaconda3/envs/PHYS555_PY37/lib/python3.7/site-packages/sklearn/metrics/_classification.py:1318: UndefinedMetricWarning: Precision and F-score are ill-defined and being set to 0.0 in labels with no predicted samples. Use `zero_division` parameter to control this behavior.\n",
      "  _warn_prf(average, modifier, msg_start, len(result))\n",
      "/opt/anaconda3/envs/PHYS555_PY37/lib/python3.7/site-packages/sklearn/metrics/_classification.py:1318: UndefinedMetricWarning: Precision and F-score are ill-defined and being set to 0.0 in labels with no predicted samples. Use `zero_division` parameter to control this behavior.\n",
      "  _warn_prf(average, modifier, msg_start, len(result))\n"
     ]
    },
    {
     "data": {
      "image/png": "[encoded data removed]",
      "text/plain": [
       "<Figure size 360x360 with 1 Axes>"
      ]
     },
     "metadata": {
      "needs_background": "light"
     },
     "output_type": "display_data"
    }
   ],
   "source": [
    "# print classification report\n",
    "print(classification_report(val_truth_values, val_predictions, target_names=custom_labs))\n",
    "\n",
    "# plotting Confusion Matrix and saving\n",
    "fig, ax = plt.subplots(figsize=(5,5))\n",
    "ConfusionMatrixDisplay.from_predictions(val_truth_values, val_predictions, ax = ax, normalize='true', cmap=cm_blues, display_labels=custom_labs, colorbar=False)\n",
    "ax.set_title('Validation Set')\n",
    "plt.tight_layout()\n",
    "plt.show()"
   ]
  },
  {
   "cell_type": "markdown",
   "metadata": {},
   "source": [
    "As seen above, our recall metric has negligibly increased for our similar learning run with only 20,000 epochs. The network did improve significantly for recall in Class 2 objects, increasing from around 75% to 94%. This increase in recall was a direct result of lowering the amount of false negatives for Class 2 objects.\n",
    "\n",
    "It may very well be that the network proposed by CM21 indeed used this technique, and we do note that results could be achieved with this method, granted enough time for the network to properly classify Class 1 objects from the Others class of objects."
   ]
  },
  {
   "cell_type": "markdown",
   "metadata": {
    "id": "cHe6quK3jTL6"
   },
   "source": [
    "# Results and Discussion\n",
    "\n",
    "In the three images below we summarize the results of recall for each algorithm and our best performing MLP with each different data-split. We see that, if we are focused purely on achieving the best recall for Class I, then the SVM (with the \"300's\" split) is our best algorithm. However if we look across multiple classes, we find that the MLP (with CM21 split) does perform best, followed closely by XGBoost (also with CM21 split). \n",
    "\n",
    "These results indicate that classical ML methods are worth considering, as they give good performance given their simplicity in coding, and also in their implementation time for training (comparably negligible to the neural network). Overall, the justification to use the neural network approach for this problem is it's generalizability. At any point the network can be continued to train on newer data, and perhaps even make predictions on a dataset that is outside of the scope of the original dataset. The simplicity of the model itself, only having one hidden layer with a total of around 240 parameters, means that the network can easily be adapted to train further on an unrelated dataset, and perhaps yield to better predictions overall. We believe that if time is no constraint (which is rarely the case), we would choose the MLP for the overall great accuracy achieved, arriving the closest to the published results given by the CM21 Paper.\n",
    "\n",
    "It is worth noting that CM21 used a simplified, observer-biased, labelling scheme in order to originally label the target data. This scheme and it's associated errors means there is non-negligible probability for falsely labelled data. It is quite likely that the errors in some of our methods are direct results of the incorrectly labelled targets. \n",
    "\n",
    "Furthermore, our network and algorithms only made use of eight data columns, not ten as CM21 did. These last two columns are important for separating Class I from reddenned Class II and would hence further aid in the training if they were available. As the data in these columns is sparse, we chose not to use them. To be specific, we would have to choose fill values for the missing entries in the dataset, and we were not confident that we could come up with a perscription that would justify filling in so many values.\n",
    "\n",
    "Additionally, one approach that was not taken, would be artificial data augmentation. Since the data set is represented as wavelength measurements with their associated error, there could have been a case made for using some distribution and using small perturbations to create new data that would resemble the prior. This could have helped eleviate the large unbalanced dataset, allowing for the simply approach of splitting the dataset 75/25 to perhaps derive results that were \"on par\" with the other splitting techniques used.\n",
    "\n",
    "Finally, CM21 do suggest that future work with this dataset could utilize their predicted results as the truth labels. This follows from a statement they made, that their network is more accurately predicting the target labels than the simplified labelling scheme originally did."
   ]
  },
  {
   "cell_type": "markdown",
   "metadata": {},
   "source": [
    "Recall Class I:\n",
    "\n",
    "<img src=\"Saved_Final_Data/Recall_ClassI.png\" alt=\"Recall Class I Results\" width=\"1000\"/>"
   ]
  },
  {
   "cell_type": "markdown",
   "metadata": {},
   "source": [
    "Recall Class II:\n",
    "\n",
    "<img src=\"Saved_Final_Data/Recall_Class2.png\" alt=\"Recall Class II Results\" width=\"1000\"/>"
   ]
  },
  {
   "cell_type": "markdown",
   "metadata": {
    "id": "T727BOH5ollc"
   },
   "source": [
    "Recall Class II:\n",
    "\n",
    "<img src=\"Saved_Final_Data/Recall_Contaminants.png\" alt=\"Recall Class Others Results\" width=\"1000\"/>"
   ]
  },
  {
   "cell_type": "markdown",
   "metadata": {},
   "source": []
  }
 ],
 "metadata": {
  "accelerator": "GPU",
  "colab": {
   "include_colab_link": true,
   "name": "Final_Project.ipynb",
   "provenance": []
  },
  "interpreter": {
   "hash": "2bc373eb9924f1eec97d7a15274cdae8484277ec408c67c247974831754df4b1"
  },
  "kernelspec": {
   "display_name": "Python 3 (ipykernel)",
   "language": "python",
   "name": "python3"
  },
  "language_info": {
   "codemirror_mode": {
    "name": "ipython",
    "version": 3
   },
   "file_extension": ".py",
   "mimetype": "text/x-python",
   "name": "python",
   "nbconvert_exporter": "python",
   "pygments_lexer": "ipython3",
   "version": "3.9.12"
  }
 },
 "nbformat": 4,
 "nbformat_minor": 4
}
