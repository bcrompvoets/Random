{
 "cells": [
  {
   "cell_type": "markdown",
   "metadata": {
    "id": "2GLopVOsCQ2A",
    "tags": []
   },
   "source": [
    "# Testing ML techniques to identify YSOs in Spitzer IRAC data\n",
    "\n",
    "## Breanna Crompvoets "
   ]
  },
  {
   "cell_type": "markdown",
   "metadata": {
    "id": "tq3kOX1MH-wS",
    "jp-MarkdownHeadingCollapsed": true,
    "tags": []
   },
   "source": [
    "## Import Libraries and set global variables"
   ]
  },
  {
   "cell_type": "code",
   "execution_count": 1,
   "metadata": {
    "id": "oNZdspOvCQ2C"
   },
   "outputs": [
    {
     "name": "stderr",
     "output_type": "stream",
     "text": [
      "/Users/breannacrompvoets/miniforge3/envs/SF/lib/python3.10/site-packages/xgboost/compat.py:36: FutureWarning: pandas.Int64Index is deprecated and will be removed from pandas in a future version. Use pandas.Index with the appropriate dtype instead.\n",
      "  from pandas import MultiIndex, Int64Index\n"
     ]
    }
   ],
   "source": [
    "# import statements\n",
    "import numpy as np\n",
    "import matplotlib.pyplot as plt\n",
    "import pandas as pd\n",
    "\n",
    "# classic ML libraries\n",
    "from sklearn.metrics import ConfusionMatrixDisplay, classification_report, recall_score, precision_score, accuracy_score\n",
    "from sklearn.preprocessing import StandardScaler\n",
    "from sklearn.model_selection import train_test_split,  GridSearchCV\n",
    "from sklearn.pipeline import Pipeline\n",
    "from sklearn.linear_model import LogisticRegression\n",
    "from sklearn.ensemble import GradientBoostingClassifier, RandomForestClassifier, StackingClassifier\n",
    "from sklearn.svm import SVC\n",
    "import xgboost as xgb\n",
    "\n",
    "# custom made libraries\n",
    "from custom_dataloader import replicate_data\n",
    "custom_labs = ['Class 1', 'Class 2', 'Others']\n"
   ]
  },
  {
   "cell_type": "markdown",
   "metadata": {
    "id": "9RJ3awIPCQ2D",
    "jp-MarkdownHeadingCollapsed": true,
    "tags": []
   },
   "source": [
    "# Classical ML Techniques"
   ]
  },
  {
   "cell_type": "markdown",
   "metadata": {
    "id": "1-unH4thCQ2F"
   },
   "source": [
    "## Loading Data Set"
   ]
  },
  {
   "cell_type": "code",
   "execution_count": 2,
   "metadata": {
    "colab": {
     "base_uri": "https://localhost:8080/"
    },
    "id": "5uaJUpxFCQ2G",
    "outputId": "e9df8de9-9b57-477a-d9c0-9fe62741f2d4"
   },
   "outputs": [],
   "source": [
    "# data load\n",
    "X = np.load(\"../inp.npy\")\n",
    "Y = np.load(\"../tar.npy\")\n",
    "input_te = np.load(\"../inp_test.npy\")\n",
    "target_te = np.load(\"../tar_test.npy\") \n"
   ]
  },
  {
   "cell_type": "code",
   "execution_count": 21,
   "metadata": {},
   "outputs": [
    {
     "data": {
      "text/plain": [
       "(array([[0.000e+00, 7.000e+00, 4.900e+01, 1.510e+02, 4.170e+02, 1.019e+03,\n",
       "         2.008e+03, 1.472e+03, 2.150e+02, 4.300e+01],\n",
       "        [0.000e+00, 1.100e+01, 7.200e+01, 1.790e+02, 4.460e+02, 1.048e+03,\n",
       "         2.066e+03, 1.421e+03, 1.370e+02, 1.000e+00],\n",
       "        [2.000e+00, 2.600e+01, 7.900e+01, 2.140e+02, 4.700e+02, 1.068e+03,\n",
       "         2.171e+03, 1.340e+03, 1.100e+01, 0.000e+00],\n",
       "        [1.800e+01, 3.400e+01, 1.140e+02, 2.420e+02, 4.880e+02, 1.124e+03,\n",
       "         2.299e+03, 1.061e+03, 1.000e+00, 0.000e+00]]),\n",
       " array([ 3.419 ,  4.8702,  6.3214,  7.7726,  9.2238, 10.675 , 12.1262,\n",
       "        13.5774, 15.0286, 16.4798, 17.931 ]),\n",
       " <a list of 4 BarContainer objects>)"
      ]
     },
     "execution_count": 21,
     "metadata": {},
     "output_type": "execute_result"
    },
    {
     "data": {
      "image/png": "[encoded data removed]",
      "text/plain": [
       "<Figure size 432x288 with 1 Axes>"
      ]
     },
     "metadata": {
      "needs_background": "light"
     },
     "output_type": "display_data"
    }
   ],
   "source": [
    "plt.hist(input_te)"
   ]
  },
  {
   "cell_type": "code",
   "execution_count": 22,
   "metadata": {},
   "outputs": [
    {
     "data": {
      "text/plain": [
       "(array([[0.000e+00, 5.000e+00, 3.160e+02, 1.344e+03, 3.262e+03, 6.268e+03,\n",
       "         8.494e+03, 8.564e+03, 1.511e+03, 2.360e+02],\n",
       "        [0.000e+00, 1.390e+02, 7.740e+02, 1.801e+03, 4.458e+03, 6.953e+03,\n",
       "         8.431e+03, 6.865e+03, 5.640e+02, 1.500e+01],\n",
       "        [5.000e+01, 3.630e+02, 1.294e+03, 2.615e+03, 5.188e+03, 6.718e+03,\n",
       "         8.250e+03, 5.351e+03, 1.710e+02, 0.000e+00],\n",
       "        [1.950e+02, 8.980e+02, 1.684e+03, 3.981e+03, 5.755e+03, 6.787e+03,\n",
       "         6.326e+03, 4.295e+03, 7.900e+01, 0.000e+00]]),\n",
       " array([ 2.03662362,  3.61030621,  5.1839888 ,  6.75767139,  8.33135398,\n",
       "         9.90503657, 11.47871916, 13.05240174, 14.62608433, 16.19976692,\n",
       "        17.77344951]),\n",
       " <a list of 4 BarContainer objects>)"
      ]
     },
     "execution_count": 22,
     "metadata": {},
     "output_type": "execute_result"
    },
    {
     "data": {
      "image/png": "[encoded data removed]",
      "text/plain": [
       "<Figure size 432x288 with 1 Axes>"
      ]
     },
     "metadata": {
      "needs_background": "light"
     },
     "output_type": "display_data"
    }
   ],
   "source": [
    "plt.hist(X)"
   ]
  },
  {
   "cell_type": "code",
   "execution_count": 23,
   "metadata": {},
   "outputs": [],
   "source": [
    "def bootstrap_estimate(estimator, X, Y, inp_te, tar_te, n_splits=200):\n",
    "                          \n",
    "    scoresA = []\n",
    "    scoresP = []\n",
    "    scoresR = []\n",
    "    \n",
    "    for n in range(0,n_splits):\n",
    "        inp_tr, inp_va, tar_tr, tar_va = train_test_split(X,Y) \n",
    "        scaler_S = StandardScaler().fit(inp_tr)\n",
    "        inp_tr = scaler_S.transform(inp_tr)\n",
    "        inp_va = scaler_S.transform(inp_va)\n",
    "        inp_te = scaler_S.transform(inp_te)\n",
    "        estimator.fit(inp_tr, tar_tr.ravel())  \n",
    "        pred_te = estimator.predict(inp_te)\n",
    "        scoresA.append(accuracy_score(tar_te,pred_te))\n",
    "        scoresR.append(recall_score(tar_te,pred_te,average=None,zero_division=1))  \n",
    "        scoresP.append(precision_score(tar_te,pred_te,average=None,zero_division=1)) \n",
    "        \n",
    "    scoresR = list(map(list, zip(*scoresR)))\n",
    "    scoresP = list(map(list, zip(*scoresP)))\n",
    "\n",
    "    estimateA = np.mean(scoresA)*100.\n",
    "    stderrA = np.std(scoresA)*100.\n",
    "    \n",
    "    estimateR = [np.mean(scoresR[0])*100.,np.mean(scoresR[1])*100.,np.mean(scoresR[2])*100.]\n",
    "    stderrR = [np.std(scoresR[0])*100.,np.std(scoresR[1])*100.,np.std(scoresR[2])*100.]\n",
    "    \n",
    "    estimateP = [np.mean(scoresP[0])*100.,np.mean(scoresP[1])*100.,np.mean(scoresP[2])*100.]\n",
    "    stderrP = [np.std(scoresP[0])*100.,np.std(scoresP[1])*100.,np.std(scoresP[2])*100.]\n",
    "    \n",
    "    return estimateR, stderrR, estimateP, stderrP, estimateA, stderrA\n",
    "\n",
    "def bootstrap_to_file(file, estimator, X, Y, input_te, target_te, n_splits=200):\n",
    "    estR, stderrR, estP, stderrP, estA, stderrA = bootstrap_estimate(estimator, X, Y, input_te, target_te, n_splits=n_splits)\n",
    "    classes = [\"Class I\", \"Class II\", \"Contaminants\"]\n",
    "    for i, cl in enumerate(classes):\n",
    "        if i==1:\n",
    "            file.write(cl+\"& $\"+\"{:.1f}\".format(estR[i])+\"\\pm\"+\"{:.1f}\".format(stderrR[i])+\"$ & $\"+\n",
    "                \"{:.1f}\".format(estP[i])+\"\\pm\"+\"{:.1f}\".format(stderrP[i])+\"$ & $\"+\"{:.1f}\".format(estA)+\"\\pm\"+\"{:.1f}\".format(stderrA)+\"$ // \\n\")\n",
    "        else:\n",
    "            file.write(cl+\"& $\"+\"{:.1f}\".format(estR[i])+\"\\pm\"+\"{:.1f}\".format(stderrR[i])+\"$ & $\"+\n",
    "                \"{:.1f}\".format(estP[i])+\"\\pm\"+\"{:.1f}\".format(stderrP[i])+\"$&// \\n\")\n"
   ]
  },
  {
   "cell_type": "code",
   "execution_count": 24,
   "metadata": {},
   "outputs": [
    {
     "data": {
      "text/plain": [
       "62"
      ]
     },
     "execution_count": 24,
     "metadata": {},
     "output_type": "execute_result"
    }
   ],
   "source": [
    "f = open(\"PRAScores_ArtificialBalance_TestSet.txt\",\"w\")\n",
    "f.write(\"Artificially balanced dataset provided by Hossen Teimoorinia \\n\")"
   ]
  },
  {
   "cell_type": "markdown",
   "metadata": {
    "id": "PiM4fxaVCQ2I"
   },
   "source": [
    "## Logistic Regression"
   ]
  },
  {
   "cell_type": "code",
   "execution_count": 25,
   "metadata": {
    "id": "Lr2hNedVCQ2I"
   },
   "outputs": [
    {
     "name": "stdout",
     "output_type": "stream",
     "text": [
      "CPU times: user 62 µs, sys: 30 µs, total: 92 µs\n",
      "Wall time: 102 µs\n"
     ]
    }
   ],
   "source": [
    "%%time\n",
    "\n",
    "logreg = LogisticRegression('l1',max_iter=500,solver='saga',tol=0.0001)"
   ]
  },
  {
   "cell_type": "code",
   "execution_count": 26,
   "metadata": {},
   "outputs": [],
   "source": [
    "classes = [\"Class I\", \"Class II\", \"Contaminants\"]\n",
    "f.write(\"LR Recall & Precision & Accuracy\\n\")\n",
    "bootstrap_to_file(f, logreg, X, Y, input_te, target_te, n_splits=200)\n"
   ]
  },
  {
   "cell_type": "markdown",
   "metadata": {
    "id": "56H3DN1ICQ2K"
   },
   "source": [
    "## SVM"
   ]
  },
  {
   "cell_type": "code",
   "execution_count": 27,
   "metadata": {
    "colab": {
     "base_uri": "https://localhost:8080/"
    },
    "id": "m1MOXdkACQ2K",
    "outputId": "d055072c-5552-4a57-e7ac-cf340a67e0ee"
   },
   "outputs": [],
   "source": [
    "svc = SVC(kernel='rbf',gamma='auto',C=0.9)"
   ]
  },
  {
   "cell_type": "code",
   "execution_count": 28,
   "metadata": {
    "colab": {
     "base_uri": "https://localhost:8080/"
    },
    "id": "onNpzooWWLlX",
    "outputId": "1f817af8-35c4-4d65-d019-e2c97dfb9146"
   },
   "outputs": [],
   "source": [
    "f.write(\"SVC Recall & Precision & Accuracy\\n\")\n",
    "bootstrap_to_file(f, svc, X, Y, input_te, target_te, n_splits=200)"
   ]
  },
  {
   "cell_type": "markdown",
   "metadata": {
    "id": "6Z4DZPwFTZEP"
   },
   "source": [
    "## SVM/LR Stacking Ensemble "
   ]
  },
  {
   "cell_type": "code",
   "execution_count": 29,
   "metadata": {
    "colab": {
     "base_uri": "https://localhost:8080/",
     "height": 96
    },
    "id": "wd6LgbdVTduX",
    "outputId": "8013ddeb-ef74-41c4-9494-13282be076ad"
   },
   "outputs": [],
   "source": [
    "estimators = [('svc', SVC(kernel='rbf',gamma='auto',C=0.9,random_state=42))]\n",
    "stacl = StackingClassifier(estimators=estimators,\n",
    "                           final_estimator=LogisticRegression(penalty = 'l1', max_iter = 500, solver ='saga', tol =0.0001))"
   ]
  },
  {
   "cell_type": "code",
   "execution_count": 30,
   "metadata": {
    "colab": {
     "base_uri": "https://localhost:8080/",
     "height": 300
    },
    "id": "ynA7OC3hUlHg",
    "outputId": "fd2b0ccb-429b-46d2-e85b-5ad69ca93359"
   },
   "outputs": [],
   "source": [
    "f.write(\"Stack Recall & Precision & Accuracy\\n\")\n",
    "bootstrap_to_file(f, stacl, X, Y, input_te, target_te, n_splits=200)"
   ]
  },
  {
   "cell_type": "markdown",
   "metadata": {
    "id": "-6A0mcoACQ2N"
   },
   "source": [
    "## Random Forest\n"
   ]
  },
  {
   "cell_type": "code",
   "execution_count": 31,
   "metadata": {
    "id": "n4qZO8L_CQ2O"
   },
   "outputs": [],
   "source": [
    "# Final hyperparameters\n",
    "rfcl = RandomForestClassifier(class_weight='balanced',criterion='entropy',max_features='log2',n_estimators=100,oob_score=False)"
   ]
  },
  {
   "cell_type": "code",
   "execution_count": 32,
   "metadata": {
    "id": "KHU1_UQ2CQ2O",
    "outputId": "a1a4039b-c207-41ea-cc8c-b6e2b2d09feb"
   },
   "outputs": [],
   "source": [
    "f.write(\"RF Recall & Precision & Accuracy\\n\")\n",
    "bootstrap_to_file(f, rfcl, X, Y, input_te, target_te, n_splits=200)"
   ]
  },
  {
   "cell_type": "markdown",
   "metadata": {
    "id": "vzcB_s2NCQ2L"
   },
   "source": [
    "## Gradient Boosting"
   ]
  },
  {
   "cell_type": "code",
   "execution_count": 33,
   "metadata": {
    "colab": {
     "base_uri": "https://localhost:8080/",
     "height": 579
    },
    "id": "L6GloAZcCQ2M",
    "outputId": "bbe6b011-4640-4876-906f-e232a1fb5754"
   },
   "outputs": [],
   "source": [
    "boostcl = GradientBoostingClassifier(criterion='friedman_mse',max_depth=7,max_features='log2',\n",
    "                n_estimators=100,n_iter_no_change=5,subsample=1.0,warm_start=True)"
   ]
  },
  {
   "cell_type": "code",
   "execution_count": 34,
   "metadata": {
    "id": "GId2kQ7_CQ2M",
    "outputId": "efb6aba3-eb49-4e4b-b0b0-a60629ddd6df"
   },
   "outputs": [],
   "source": [
    "f.write(\"GB Recall & Precision & Accuracy\\n\")\n",
    "bootstrap_to_file(f, boostcl, X, Y, input_te, target_te, n_splits=200)"
   ]
  },
  {
   "cell_type": "markdown",
   "metadata": {
    "id": "v379VtHtCQ2N"
   },
   "source": [
    "## XGBoost\n"
   ]
  },
  {
   "cell_type": "code",
   "execution_count": 35,
   "metadata": {
    "id": "bI4UnZIuCQ2N",
    "outputId": "d2456ea3-a4e4-4b4e-beb7-a4565c0de316"
   },
   "outputs": [],
   "source": [
    "xgbcl = xgb.XGBClassifier(max_depth=9,sampling_method='uniform',subsample=0.5,use_label_encoder=False,eval_metric='mlogloss')"
   ]
  },
  {
   "cell_type": "code",
   "execution_count": 36,
   "metadata": {
    "id": "NjT1jfOuS-c7",
    "outputId": "1c76e70a-d7c7-4e67-e646-7adecbc107b7"
   },
   "outputs": [],
   "source": [
    "f.write(\"XGB Recall & Precision & Accuracy\\n\")\n",
    "bootstrap_to_file(f, xgbcl, X, Y, input_te, target_te, n_splits=200)"
   ]
  },
  {
   "cell_type": "code",
   "execution_count": 37,
   "metadata": {},
   "outputs": [],
   "source": [
    "f.close()"
   ]
  },
  {
   "cell_type": "markdown",
   "metadata": {
    "id": "DLJGW1U6CQ2O",
    "tags": []
   },
   "source": [
    "# Neural Network"
   ]
  },
  {
   "cell_type": "markdown",
   "metadata": {
    "id": "SdxoY6vtCQ2P"
   },
   "source": [
    "## Importing"
   ]
  },
  {
   "cell_type": "code",
   "execution_count": 19,
   "metadata": {
    "id": "nfkaxzihCQ2P",
    "outputId": "d861bc81-c67d-4342-fec0-282577a69705"
   },
   "outputs": [
    {
     "name": "stdout",
     "output_type": "stream",
     "text": [
      "Running on : cpu\n"
     ]
    }
   ],
   "source": [
    "# library imports\n",
    "import torch\n",
    "import torch.nn as nn\n",
    "import torch.nn.functional as F\n",
    "import torch.optim as optim\n",
    "import torch.utils.data as data_utils\n",
    "\n",
    "from sklearn.metrics import ConfusionMatrixDisplay, classification_report, recall_score, precision_score, accuracy_score\n",
    "from sklearn.preprocessing import StandardScaler\n",
    "from sklearn.model_selection import train_test_split,  GridSearchCV\n",
    "\n",
    "# custom script inputs\n",
    "from NN_Defs import get_n_params, train, validate, BaseMLP\n",
    "\n",
    "device = torch.device(\"cuda:0\" if torch.cuda.is_available() else \"cpu\")\n",
    "print(f'Running on : {device}')\n"
   ]
  },
  {
   "cell_type": "code",
   "execution_count": 20,
   "metadata": {},
   "outputs": [
    {
     "name": "stdout",
     "output_type": "stream",
     "text": [
      "0.9488\n",
      "[0.97685555 0.90451664 0.96558704]\n",
      "[0.95104895 0.95562997 0.94008672]\n"
     ]
    }
   ],
   "source": [
    "import random\n",
    "\n",
    "def bootstrap(NN,epochs):\n",
    "    train_loader, val_loader = MLP_data_setup(X, Y)\n",
    "    pred_va, tar_va = main(epochs,NN,optimizer,train_loader,val_loader)\n",
    "    ScoresA = accuracy_score(tar_va,pred_va)\n",
    "    ScoresR = recall_score(tar_va,pred_va,average=None,zero_division=1)\n",
    "    ScoresP = precision_score(tar_va,pred_va,average=None,zero_division=1)\n",
    "\n",
    "    return ScoresR, ScoresP, ScoresA\n",
    "\n",
    "\n",
    "\n",
    "def main(epochs, NetInstance, OptInstance, train_loader, val_loader, ScheduleInstance=None):\n",
    "\n",
    "    for epoch in range(0, epochs):\n",
    "        train_loss, train_predictions, train_truth_values = train(epoch, NetInstance, OptInstance, train_loader, device)\n",
    "        val_loss, val_accuracy, val_predictions, val_truth_values = validate(NetInstance, val_loader, device)\n",
    "        \n",
    "        if ScheduleInstance is not None:\n",
    "            ScheduleInstance.step()\n",
    "\n",
    "    return val_predictions, val_truth_values\n",
    "    \n",
    "\n",
    "\n",
    "\n",
    "\n",
    "def MLP_data_setup(X,Y):\n",
    "    inp_tr, inp_va, tar_tr, tar_va = train_test_split(X,Y)\n",
    "    \n",
    "    # scaling data according to training inputs\n",
    "    scaler_S = StandardScaler().fit(inp_tr)\n",
    "    inp_tr = scaler_S.transform(inp_tr)\n",
    "    inp_va = scaler_S.transform(inp_va)\n",
    "\n",
    "    # creation of tensor instances\n",
    "\n",
    "    inp_tr = torch.as_tensor(inp_tr)\n",
    "    tar_tr = torch.as_tensor(tar_tr)\n",
    "    inp_va = torch.as_tensor(inp_va)\n",
    "    tar_va = torch.as_tensor(tar_va)\n",
    "\n",
    "    # pass tensors into TensorDataset instances\n",
    "    train_data = data_utils.TensorDataset(inp_tr, tar_tr)\n",
    "    val_data = data_utils.TensorDataset(inp_va, tar_va)\n",
    "\n",
    "    # constructing data loaders\n",
    "    train_loader = torch.utils.data.DataLoader(train_data, batch_size=25, shuffle=True)\n",
    "    val_loader = torch.utils.data.DataLoader(val_data, batch_size=25, shuffle=True)\n",
    "    return train_loader, val_loader\n",
    "\n",
    "X = np.load(\"../inp.npy\")\n",
    "Y = np.load(\"../tar.npy\") \n",
    "\n",
    "\n",
    "BaseNN = BaseMLP(4, 20, 3, weight_initialize=True)\n",
    "## load settings in\n",
    "optimizer = optim.SGD(BaseNN.parameters(), lr=4e-2, momentum=0.9)\n",
    "train_loader, val_loader = MLP_data_setup(X, Y)\n",
    "pred_va, tar_va = main(1000,BaseNN,optimizer,train_loader,val_loader)\n",
    "print(accuracy_score(tar_va,pred_va))\n",
    "print(recall_score(tar_va,pred_va,average=None,zero_division=1))\n",
    "print(precision_score(tar_va,pred_va,average=None,zero_division=1))\n",
    "\n",
    "\n",
    "# estR, stderrR, estP, stderrP, estA, stderrA  = bootstrap_estimate_MLP(BaseNN, X, Y, n_splits=200, epochs =50000)\n",
    "# iters = [(BaseNN,50000)] * 50\n",
    "# ans = []\n",
    "# for n in [0,1,2,3]:\n",
    "\n",
    "#     with mp.Pool(12) as pool:\n",
    "#         ans.append(pool.starmap(bootstrap, iters))\n",
    "#     np.save(f\"intermediatesave_onelayerMLP_{n}.npy\",ans)\n",
    "    \n",
    "\n",
    "\n"
   ]
  }
 ],
 "metadata": {
  "accelerator": "GPU",
  "colab": {
   "include_colab_link": true,
   "name": "Final_Project.ipynb",
   "provenance": []
  },
  "interpreter": {
   "hash": "a7a87715bbc43d8b5f73b6200b6ef66f163e7bfd9f5c97aea1eada326c99da2f"
  },
  "kernelspec": {
   "display_name": "Python 3.10.4",
   "language": "python",
   "name": "python3"
  },
  "language_info": {
   "codemirror_mode": {
    "name": "ipython",
    "version": 3
   },
   "file_extension": ".py",
   "mimetype": "text/x-python",
   "name": "python",
   "nbconvert_exporter": "python",
   "pygments_lexer": "ipython3",
   "version": "3.10.4"
  }
 },
 "nbformat": 4,
 "nbformat_minor": 4
}
