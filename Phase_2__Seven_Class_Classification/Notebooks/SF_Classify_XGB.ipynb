{
 "cells": [
  {
   "cell_type": "markdown",
   "metadata": {
    "id": "TrNFkZNWhbUB"
   },
   "source": [
    "# Classifying Class I, II, and others using XGBoost\n",
    "\n",
    "Using data from the four IRAC bands (3.6, 4.5, 5.8, and 8  μm), we classify each object as \"other\", Class I or Class II protostars. We use a XGBoost Classifier with values determined via a previosu GridSearch.\n",
    "\n",
    "This data comes from Cornu and Montillaud (2021) (https://cdsarc.cds.unistra.fr/viz-bin/cat/J/A+A/647/A116) and includes Spitzer data of the Orion and NGC 2264 star forming regions."
   ]
  },
  {
   "cell_type": "code",
   "execution_count": 25,
   "metadata": {
    "id": "1NjBTq--6x14"
   },
   "outputs": [],
   "source": [
    "# import statements\n",
    "import numpy as np\n",
    "import matplotlib.pyplot as plt\n",
    "import pandas as pd\n",
    "\n",
    "# classic ML libraries\n",
    "from sklearn.metrics import ConfusionMatrixDisplay, classification_report, recall_score, precision_score, accuracy_score, f1_score\n",
    "from sklearn.preprocessing import StandardScaler\n",
    "from sklearn.model_selection import GridSearchCV\n",
    "import xgboost as xgb\n",
    "\n",
    "# custom made libraries\n",
    "from custom_dataloader import replicate_data"
   ]
  },
  {
   "cell_type": "code",
   "execution_count": 26,
   "metadata": {
    "id": "c71_3Uj_8hhy"
   },
   "outputs": [],
   "source": [
    "# xgb_1 = xgb.XGBClassifier(use_label_encoder=False,eval_metric='mlogloss',gamma=1)\n",
    "\n",
    "# parameters = {'subsample':[0.5,1.0],'max_depth':np.arange(1,11,2),'sampling_method':['uniform']}\n",
    "# xgbcl = GridSearchCV(xgb_1, parameters)\n",
    "# xgbcl.fit(inp_tr,tar_tr.ravel())\n",
    "# print(xgbcl.best_params_)\n",
    "# print(xgbcl.best_estimator_)\n",
    "\n",
    "xgbcl = xgb.XGBClassifier(max_depth=7,sampling_method='uniform',subsample=1.0,gamma=2,use_label_encoder=False,eval_metric='mlogloss')\n"
   ]
  },
  {
   "cell_type": "markdown",
   "metadata": {},
   "source": [
    "## Bootstrapping for Errors"
   ]
  },
  {
   "cell_type": "code",
   "execution_count": 27,
   "metadata": {},
   "outputs": [],
   "source": [
    "def bootstrap(estimator):\n",
    "    inp_tr, tar_tr, inp_va, tar_va, inp_te, tar_te = replicate_data(X, Y, 'seven', amounts_train, amounts_val,random.randint(0,1000))\n",
    "    # scaling data according to training inputs\n",
    "    scaler_S = StandardScaler().fit(inp_tr)\n",
    "    inp_tr = scaler_S.transform(inp_tr)\n",
    "    inp_va = scaler_S.transform(inp_va)\n",
    "    estimator.fit(inp_tr, tar_tr.ravel())  \n",
    "    pred_va = estimator.predict(inp_va)\n",
    "    ScoresA = accuracy_score(tar_va,pred_va)\n",
    "    ScoresR = recall_score(tar_va,pred_va,average=None,zero_division=1)\n",
    "    ScoresP = precision_score(tar_va,pred_va,average=None,zero_division=1)\n",
    "\n",
    "    return ScoresR, ScoresP, ScoresA\n",
    "\n"
   ]
  },
  {
   "cell_type": "code",
   "execution_count": 29,
   "metadata": {},
   "outputs": [],
   "source": [
    "X = np.load(\"Input_Class_AllClasses_Sep.npy\")\n",
    "Y = np.load(\"Target_Class_AllClasses_Sep.npy\") # For original targets via Gutermuth 2009 Method\n",
    "\n",
    "amounts_train = [331,331,331,331,27,70,331]\n",
    "amounts_val = [82, 531, 104, 278, 6, 17, 4359]\n",
    "\n",
    "\n",
    "xgbcl = xgb.XGBClassifier(max_depth=7,sampling_method='uniform',subsample=1.0,gamma=2,use_label_encoder=False,eval_metric='mlogloss')\n",
    "iters = [xgbcl] * 10\n",
    "\n",
    "num_cores = 2\n",
    "\n",
    "with mp.Pool(num_cores) as pool:\n",
    "    ans = pool.map(bootstrap, iters)\n"
   ]
  },
  {
   "cell_type": "code",
   "execution_count": 30,
   "metadata": {},
   "outputs": [],
   "source": [
    "# print(list(map(list, zip(*ans))))\n",
    "\n",
    "scoresR = list(map(list, zip(*ans)))[0]\n",
    "scoresP = list(map(list, zip(*ans)))[1]\n",
    "scoresA = list(map(list, zip(*ans)))[2]\n",
    "\n",
    "\n",
    "scoresR = list(map(list, zip(*scoresR)))\n",
    "scoresP = list(map(list, zip(*scoresP)))\n",
    "\n",
    "\n",
    "\n",
    "estA = np.mean(scoresA)*100.\n",
    "stderrA = np.std(scoresA)*100.\n",
    "\n",
    "estR = [np.mean(scoresR[0])*100.,np.mean(scoresR[1])*100.,np.mean(scoresR[2])*100.,np.mean(scoresR[3])*100.,np.mean(scoresR[4])*100.,np.mean(scoresR[5])*100.,np.mean(scoresR[6])*100.]\n",
    "stderrR = [np.std(scoresR[0])*100.,np.std(scoresR[1])*100.,np.std(scoresR[2])*100.,np.std(scoresR[3])*100.,np.std(scoresR[4])*100.,np.std(scoresR[5])*100.,np.std(scoresR[6])*100.]\n",
    "\n",
    "estP = [np.mean(scoresP[0])*100.,np.mean(scoresP[1])*100.,np.mean(scoresP[2])*100.,np.mean(scoresP[3])*100.,np.mean(scoresP[4])*100.,np.mean(scoresP[5])*100.,np.mean(scoresP[6])*100.]\n",
    "stderrP = [np.std(scoresP[0])*100.,np.std(scoresP[1])*100.,np.std(scoresP[2])*100.,np.std(scoresP[3])*100.,np.std(scoresP[4])*100.,np.std(scoresP[5])*100.,np.std(scoresP[6])*100.]\n"
   ]
  },
  {
   "cell_type": "code",
   "execution_count": 32,
   "metadata": {},
   "outputs": [],
   "source": [
    "classes = [\"Class I\", \"Class II\", \"Galaxies\", \"AGNs\", \"Shocks\", \"PAHs\", \"Stars\"]\n",
    "f = open(\"PRAScores_XGB_7Classes.txt\", \"w\")\n",
    "f.write(\"XGB Recall & Precision & Accuracy\\n\")\n",
    "for i, cl in enumerate(classes):\n",
    "    if i==3:\n",
    "        f.write(cl+\"& $\"+\"{:.1f}\".format(estR[i])+\"\\pm\"+\"{:.1f}\".format(stderrR[i])+\"$ & $\"+\n",
    "            \"{:.1f}\".format(estP[i])+\"\\pm\"+\"{:.1f}\".format(stderrP[i])+\"$ & $\"+\"{:.1f}\".format(estA)+\"\\pm\"+\"{:.1f}\".format(stderrA)+\"$ // \\n\")\n",
    "    else:\n",
    "        f.write(cl+\"& $\"+\"{:.1f}\".format(estR[i])+\"\\pm\"+\"{:.1f}\".format(stderrR[i])+\"$ & $\"+\n",
    "            \"{:.1f}\".format(estP[i])+\"\\pm\"+\"{:.1f}\".format(stderrP[i])+\"$&// \\n\")\n",
    "\n",
    "\n",
    "f.close()"
   ]
  },
  {
   "cell_type": "code",
   "execution_count": null,
   "metadata": {},
   "outputs": [],
   "source": []
  }
 ],
 "metadata": {
  "accelerator": "TPU",
  "colab": {
   "collapsed_sections": [],
   "include_colab_link": true,
   "name": "SF-Classify-XGB",
   "provenance": []
  },
  "interpreter": {
   "hash": "a7a87715bbc43d8b5f73b6200b6ef66f163e7bfd9f5c97aea1eada326c99da2f"
  },
  "kernelspec": {
   "display_name": "Python 3.10.4",
   "language": "python",
   "name": "python3"
  },
  "language_info": {
   "codemirror_mode": {
    "name": "ipython",
    "version": 3
   },
   "file_extension": ".py",
   "mimetype": "text/x-python",
   "name": "python",
   "nbconvert_exporter": "python",
   "pygments_lexer": "ipython3",
   "version": "3.10.4"
  }
 },
 "nbformat": 4,
 "nbformat_minor": 4
}
