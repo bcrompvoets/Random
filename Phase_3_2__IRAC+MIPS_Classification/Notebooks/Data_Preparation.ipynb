{
 "cells": [
  {
   "cell_type": "code",
   "execution_count": 1,
   "metadata": {},
   "outputs": [],
   "source": [
    "import pandas as pd\n",
    "import numpy as np\n",
    "import warnings\n",
    "warnings.filterwarnings('ignore')\n",
    "\n",
    "from copulas.multivariate import GaussianMultivariate\n",
    "\n",
    "def alpha(f1,f2):\n",
    "    y = 0.55*(f1-f2)-2.94\n",
    "    return y\n",
    "\n",
    "\n",
    "def alpha_IR(f1,f2):\n",
    "    y = 1.64*(f1-f2)-2.82\n",
    "    return y\n",
    "\n",
    "\n",
    "def mJy_to_mag(F, F0):\n",
    "    m = -2.5*np.log10(F*0.001/F0)\n",
    "    return m\n",
    "\n",
    "\n",
    "def e_mJy_to_mag(e_F, F):\n",
    "    m = (2.5/np.log(10))*(e_F/F)\n",
    "    return m"
   ]
  },
  {
   "cell_type": "markdown",
   "metadata": {},
   "source": [
    "# c2d CLOUDS/CORES"
   ]
  },
  {
   "cell_type": "code",
   "execution_count": 59,
   "metadata": {},
   "outputs": [
    {
     "data": {
      "text/plain": [
       "Index(['region', 'c2d_id', 'ra', 'dec', 'alpha', 'object_type', 'j_flux_c',\n",
       "       'j_d_flux_c', 'h_flux_c', 'h_d_flux_c', 'ks_flux_c', 'ks_d_flux_c',\n",
       "       'ir1_flux_c', 'ir1_d_flux_c', 'ir2_flux_c', 'ir2_d_flux_c',\n",
       "       'ir3_flux_c', 'ir3_d_flux_c', 'ir4_flux_c', 'ir4_d_flux_c',\n",
       "       'mp1_flux_c', 'mp1_d_flux_c', 'mp2_flux_c', 'mp2_d_flux_c'],\n",
       "      dtype='object')"
      ]
     },
     "execution_count": 59,
     "metadata": {},
     "output_type": "execute_result"
    }
   ],
   "source": [
    "c2d_CL = pd.read_csv(\"../Data/c2d_CLOUDS_HREL.csv\")\n",
    "c2d_CO = pd.read_csv(\"../Data/c2d_CORES_HREL.csv\")\n",
    "c2d_ST = pd.read_csv(\"../../Phase_3_1__IRAC_Only_Classification/Data_and_Results/c2d_STARS_HREL.csv\")\n",
    "c2d_ALL_1 = pd.merge_ordered(c2d_CL,c2d_CO)\n",
    "c2d = pd.merge_ordered(c2d_ST,c2d_ALL_1)\n",
    "c2d.columns"
   ]
  },
  {
   "cell_type": "markdown",
   "metadata": {},
   "source": [
    "### Determine Targets for dataframe"
   ]
  },
  {
   "cell_type": "code",
   "execution_count": 60,
   "metadata": {},
   "outputs": [
    {
     "name": "stdout",
     "output_type": "stream",
     "text": [
      "YSO shape: (1463, 25)\n",
      "EG shape: (3621, 25)\n",
      "Star shape: (409437, 25)\n"
     ]
    }
   ],
   "source": [
    "c2d_YSO_1 = pd.merge_ordered(c2d[c2d[\"object_type\"]=='YSOc_star+dust(MP1)'],c2d[c2d[\"object_type\"]=='YSOc_star+dust(IR4)'])\n",
    "c2d_YSO_2 = pd.merge_ordered(c2d[c2d[\"object_type\"]=='YSOc_star+dust(IR2)'],c2d[c2d[\"object_type\"]=='YSOc_star+dust(IR3)'])\n",
    "c2d_YSO_3 = pd.merge_ordered(c2d[c2d[\"object_type\"]=='YSOc_star+dust(IR1)'],c2d[c2d[\"object_type\"]=='YSOc_red'])\n",
    "c2d_YSO_4 = pd.merge_ordered(c2d[c2d[\"object_type\"]=='YSOc_PAH-em'],c2d[c2d[\"object_type\"]=='YSOc'])\n",
    "c2d_YSO_12 = pd.merge_ordered(c2d_YSO_1,c2d_YSO_2)\n",
    "c2d_YSO_34 = pd.merge_ordered(c2d_YSO_3,c2d_YSO_4)\n",
    "c2d_YSO = pd.merge_ordered(c2d_YSO_12,c2d_YSO_34)\n",
    "c2d_YSO[\"Target\"] = 0\n",
    "\n",
    "\n",
    "c2d_EG_1 = pd.merge_ordered(c2d[c2d[\"object_type\"]=='Galc_star+dust(MP1)'],c2d[c2d[\"object_type\"]=='Galc_star+dust(IR4)'])\n",
    "c2d_EG_2 = pd.merge_ordered(c2d[c2d[\"object_type\"]=='Galc_star+dust(IR2)'],c2d[c2d[\"object_type\"]=='Galc_star+dust(IR3)'])\n",
    "c2d_EG_3 = pd.merge_ordered(c2d[c2d[\"object_type\"]=='Galc_star+dust(IR1)'],c2d[c2d[\"object_type\"]=='Galc_red'])\n",
    "c2d_EG_4 = pd.merge_ordered(c2d[c2d[\"object_type\"]=='Galc_PAH-em'],c2d[c2d[\"object_type\"]=='Galc'])\n",
    "c2d_EG_12 = pd.merge_ordered(c2d_EG_1,c2d_EG_2)\n",
    "c2d_EG_34 = pd.merge_ordered(c2d_EG_3,c2d_EG_4)\n",
    "c2d_EG = pd.merge_ordered(c2d_EG_12,c2d_EG_34)\n",
    "c2d_EG[\"Target\"] = 1\n",
    "\n",
    "\n",
    "c2d_ST_1 = pd.merge_ordered(c2d[c2d[\"object_type\"]=='star+dust(MP1)'],c2d[c2d[\"object_type\"]=='star+dust(IR4)'])\n",
    "c2d_ST_2 = pd.merge_ordered(c2d[c2d[\"object_type\"]=='star+dust(IR2)'],c2d[c2d[\"object_type\"]=='star+dust(IR3)'])\n",
    "c2d_ST_3 = pd.merge_ordered(c2d[c2d[\"object_type\"]=='Galc_star+dust(IR1)'],c2d[c2d[\"object_type\"]=='star'])\n",
    "c2d_ST_12 = pd.merge_ordered(c2d_ST_1,c2d_ST_2)\n",
    "c2d_ST = pd.merge_ordered(c2d_ST_3,c2d_ST_12)\n",
    "c2d_ST[\"Target\"] = 2\n",
    "\n",
    "c2d_1 = pd.merge_ordered(c2d_YSO,c2d_EG)\n",
    "c2d_NEW = pd.merge_ordered(c2d_1,c2d_ST)\n",
    "\n",
    "print(f\"YSO shape: {c2d_YSO.shape}\")\n",
    "print(f\"EG shape: {c2d_EG.shape}\")\n",
    "print(f\"Star shape: {c2d_ST.shape}\")"
   ]
  },
  {
   "cell_type": "markdown",
   "metadata": {},
   "source": [
    "## Clean data"
   ]
  },
  {
   "cell_type": "markdown",
   "metadata": {},
   "source": [
    "### Fill nan MIPS with -99"
   ]
  },
  {
   "cell_type": "code",
   "execution_count": 61,
   "metadata": {},
   "outputs": [
    {
     "name": "stdout",
     "output_type": "stream",
     "text": [
      "YSO shape: (1463, 14)\n",
      "EG shape: (3621, 14)\n",
      "Star shape: (338498, 14)\n"
     ]
    }
   ],
   "source": [
    "c2d_IRAC = c2d_NEW[[\"object_type\",\"region\",\"ir1_flux_c\",\"ir1_d_flux_c\",\"ir2_flux_c\",\"ir2_d_flux_c\",\"ir3_flux_c\",\"ir3_d_flux_c\",\"ir4_flux_c\",\"ir4_d_flux_c\",'mp1_flux_c', 'mp1_d_flux_c', \"Target\"]]\n",
    "c2d_IRAC.dropna(subset=[\"ir1_flux_c\",\"ir1_d_flux_c\",\"ir2_flux_c\",\"ir2_d_flux_c\",\"ir3_flux_c\",\"ir3_d_flux_c\",\"ir4_flux_c\",\"ir4_d_flux_c\"],inplace=True)\n",
    "\n",
    "# Load in magnitude data\n",
    "# Access data by band instead of object\n",
    "band_names = [\"ir1_flux_c\",\"ir1_d_flux_c\",\"ir2_flux_c\",\"ir2_d_flux_c\",\"ir3_flux_c\",\"ir3_d_flux_c\",\"ir4_flux_c\",\"ir4_d_flux_c\",'mp1_flux_c', 'mp1_d_flux_c']\n",
    "c2d_IRAC_fluxes = c2d_IRAC[band_names].values.astype(float).transpose() \n",
    "# Convert magnitudes to flux\n",
    "for i, F_0 in enumerate([277.500, 277.500, 179.500, 179.500, 116.600, 116.600, 63.100, 63.100]):\n",
    "    if i%2==0:\n",
    "        c2d_IRAC[band_names[i]] = mJy_to_mag(c2d_IRAC_fluxes[i],F_0) # Convert fluxes in a column to mags\n",
    "    else:\n",
    "        c2d_IRAC[band_names[i]] = e_mJy_to_mag(c2d_IRAC_fluxes[i],c2d_IRAC_fluxes[i-1]) # Convert errors in a column to mag\n",
    "\n",
    "# Add in alpha measurements\n",
    "c2d_IRAC.dropna(subset=[\"ir1_flux_c\",\"ir1_d_flux_c\",\"ir2_flux_c\",\"ir2_d_flux_c\",\"ir3_flux_c\",\"ir3_d_flux_c\",\"ir4_flux_c\",\"ir4_d_flux_c\"],inplace=True)\n",
    "c2d_IRAC.fillna(-99,inplace=True)\n",
    "c2d_IRAC[\"alpha\"] = alpha_IR(c2d_IRAC[\"ir2_flux_c\"],c2d_IRAC[\"ir4_flux_c\"])\n",
    "\n",
    "# Print shapes\n",
    "shape_YSO = c2d_IRAC[c2d_IRAC[\"Target\"]==0].shape\n",
    "shape_EG = c2d_IRAC[c2d_IRAC[\"Target\"]==1].shape\n",
    "shape_ST = c2d_IRAC[c2d_IRAC[\"Target\"]==2].shape\n",
    "print(f\"YSO shape: {shape_YSO}\")\n",
    "print(f\"EG shape: {shape_EG}\")\n",
    "print(f\"Star shape: {shape_ST}\")"
   ]
  },
  {
   "cell_type": "markdown",
   "metadata": {},
   "source": [
    "### Keep only data with MIPS"
   ]
  },
  {
   "cell_type": "code",
   "execution_count": 22,
   "metadata": {},
   "outputs": [
    {
     "name": "stdout",
     "output_type": "stream",
     "text": [
      "None\n"
     ]
    },
    {
     "ename": "TypeError",
     "evalue": "'NoneType' object is not subscriptable",
     "output_type": "error",
     "traceback": [
      "\u001b[0;31m---------------------------------------------------------------------------\u001b[0m",
      "\u001b[0;31mTypeError\u001b[0m                                 Traceback (most recent call last)",
      "\u001b[1;32m/Users/breannacrompvoets/Documents/Star_Formation/YSO+Classification/Phase_3_2__IRAC+MIPS_Classification/Notebooks/Data_Preparation.ipynb Cell 10'\u001b[0m in \u001b[0;36m<cell line: 7>\u001b[0;34m()\u001b[0m\n\u001b[1;32m      <a href='vscode-notebook-cell:/Users/breannacrompvoets/Documents/Star_Formation/YSO%2BClassification/Phase_3_2__IRAC%2BMIPS_Classification/Notebooks/Data_Preparation.ipynb#ch0000037?line=3'>4</a>\u001b[0m \u001b[39m# Load in magnitude data\u001b[39;00m\n\u001b[1;32m      <a href='vscode-notebook-cell:/Users/breannacrompvoets/Documents/Star_Formation/YSO%2BClassification/Phase_3_2__IRAC%2BMIPS_Classification/Notebooks/Data_Preparation.ipynb#ch0000037?line=4'>5</a>\u001b[0m \u001b[39m# Access data by band instead of object\u001b[39;00m\n\u001b[1;32m      <a href='vscode-notebook-cell:/Users/breannacrompvoets/Documents/Star_Formation/YSO%2BClassification/Phase_3_2__IRAC%2BMIPS_Classification/Notebooks/Data_Preparation.ipynb#ch0000037?line=5'>6</a>\u001b[0m band_names \u001b[39m=\u001b[39m [\u001b[39m\"\u001b[39m\u001b[39mir1_flux_c\u001b[39m\u001b[39m\"\u001b[39m,\u001b[39m\"\u001b[39m\u001b[39mir1_d_flux_c\u001b[39m\u001b[39m\"\u001b[39m,\u001b[39m\"\u001b[39m\u001b[39mir2_flux_c\u001b[39m\u001b[39m\"\u001b[39m,\u001b[39m\"\u001b[39m\u001b[39mir2_d_flux_c\u001b[39m\u001b[39m\"\u001b[39m,\u001b[39m\"\u001b[39m\u001b[39mir3_flux_c\u001b[39m\u001b[39m\"\u001b[39m,\u001b[39m\"\u001b[39m\u001b[39mir3_d_flux_c\u001b[39m\u001b[39m\"\u001b[39m,\u001b[39m\"\u001b[39m\u001b[39mir4_flux_c\u001b[39m\u001b[39m\"\u001b[39m,\u001b[39m\"\u001b[39m\u001b[39mir4_d_flux_c\u001b[39m\u001b[39m\"\u001b[39m,\u001b[39m'\u001b[39m\u001b[39mmp1_flux_c\u001b[39m\u001b[39m'\u001b[39m, \u001b[39m'\u001b[39m\u001b[39mmp1_d_flux_c\u001b[39m\u001b[39m'\u001b[39m]\n\u001b[0;32m----> <a href='vscode-notebook-cell:/Users/breannacrompvoets/Documents/Star_Formation/YSO%2BClassification/Phase_3_2__IRAC%2BMIPS_Classification/Notebooks/Data_Preparation.ipynb#ch0000037?line=6'>7</a>\u001b[0m c2d_IRAC_fluxes \u001b[39m=\u001b[39m c2d_IRAC[band_names]\u001b[39m.\u001b[39mvalues\u001b[39m.\u001b[39mastype(\u001b[39mfloat\u001b[39m)\u001b[39m.\u001b[39mtranspose() \n\u001b[1;32m      <a href='vscode-notebook-cell:/Users/breannacrompvoets/Documents/Star_Formation/YSO%2BClassification/Phase_3_2__IRAC%2BMIPS_Classification/Notebooks/Data_Preparation.ipynb#ch0000037?line=7'>8</a>\u001b[0m \u001b[39m# Convert magnitudes to flux\u001b[39;00m\n\u001b[1;32m      <a href='vscode-notebook-cell:/Users/breannacrompvoets/Documents/Star_Formation/YSO%2BClassification/Phase_3_2__IRAC%2BMIPS_Classification/Notebooks/Data_Preparation.ipynb#ch0000037?line=8'>9</a>\u001b[0m \u001b[39mfor\u001b[39;00m i, F_0 \u001b[39min\u001b[39;00m \u001b[39menumerate\u001b[39m([\u001b[39m277.500\u001b[39m, \u001b[39m277.500\u001b[39m, \u001b[39m179.500\u001b[39m, \u001b[39m179.500\u001b[39m, \u001b[39m116.600\u001b[39m, \u001b[39m116.600\u001b[39m, \u001b[39m63.100\u001b[39m, \u001b[39m63.100\u001b[39m]):\n",
      "\u001b[0;31mTypeError\u001b[0m: 'NoneType' object is not subscriptable"
     ]
    }
   ],
   "source": [
    "c2d_IRAC = c2d_NEW[[\"object_type\",\"region\",\"ir1_flux_c\",\"ir1_d_flux_c\",\"ir2_flux_c\",\"ir2_d_flux_c\",\"ir3_flux_c\",\"ir3_d_flux_c\",\"ir4_flux_c\",\"ir4_d_flux_c\",'mp1_flux_c', 'mp1_d_flux_c', \"Target\"]]\n",
    "c2d_IRAC.dropna(inplace=True)\n",
    "\n",
    "# Load in magnitude data\n",
    "# Access data by band instead of object\n",
    "band_names = [\"ir1_flux_c\",\"ir1_d_flux_c\",\"ir2_flux_c\",\"ir2_d_flux_c\",\"ir3_flux_c\",\"ir3_d_flux_c\",\"ir4_flux_c\",\"ir4_d_flux_c\",'mp1_flux_c', 'mp1_d_flux_c']\n",
    "c2d_IRAC_fluxes = c2d_IRAC[band_names].values.astype(float).transpose() \n",
    "# Convert magnitudes to flux\n",
    "for i, F_0 in enumerate([277.500, 277.500, 179.500, 179.500, 116.600, 116.600, 63.100, 63.100]):\n",
    "    if i%2==0:\n",
    "        c2d_IRAC[band_names[i]] = mJy_to_mag(c2d_IRAC_fluxes[i],F_0) # Convert fluxes in a column to mags\n",
    "    else:\n",
    "        c2d_IRAC[band_names[i]] = e_mJy_to_mag(c2d_IRAC_fluxes[i],c2d_IRAC_fluxes[i-1]) # Convert errors in a column to mag\n",
    "\n",
    "# Add in alpha measurements\n",
    "c2d_IRAC[\"alpha\"] = alpha(c2d_IRAC[\"ir2_flux_c\"],c2d_IRAC[\"mp1_flux_c\"])\n",
    "\n",
    "c2d_IRAC.dropna(inplace=True)\n",
    "\n",
    "shape_YSO = c2d_IRAC[c2d_IRAC[\"Target\"]==0].shape\n",
    "shape_EG = c2d_IRAC[c2d_IRAC[\"Target\"]==1].shape\n",
    "shape_ST = c2d_IRAC[c2d_IRAC[\"Target\"]==2].shape\n",
    "print(f\"YSO shape: {shape_YSO}\")\n",
    "print(f\"EG shape: {shape_EG}\")\n",
    "print(f\"Star shape: {shape_ST}\")"
   ]
  },
  {
   "cell_type": "markdown",
   "metadata": {},
   "source": [
    "### Use copulas to fill missing data -- Only stars have missing data in c2d CLOUDS so will not utilize."
   ]
  },
  {
   "cell_type": "code",
   "execution_count": 62,
   "metadata": {},
   "outputs": [],
   "source": [
    "NUM = 10000 # number of objects in each class to obtain (synthetic data + real data = NUM)\n",
    "#Create synthetic data\n",
    "c2d_IRAC_NEW = c2d_IRAC[[\"ir1_flux_c\",\"ir1_d_flux_c\",\"ir2_flux_c\",\"ir2_d_flux_c\",\"ir3_flux_c\",\"ir3_d_flux_c\",\"ir4_flux_c\",\"ir4_d_flux_c\",'mp1_flux_c', 'mp1_d_flux_c', \"Target\"]]\n",
    "\n",
    "# Load a dataset with the real not-independent data\n",
    "real_data_YS = c2d_IRAC_NEW[c2d_IRAC_NEW[\"Target\"]==0]\n",
    "real_data_EG = c2d_IRAC_NEW[c2d_IRAC_NEW[\"Target\"]==1]\n",
    "\n",
    "# Fit a gaussian copula to the data\n",
    "copulaYS = GaussianMultivariate()\n",
    "copulaYS.fit(real_data_YS)\n",
    "\n",
    "# Sample synthetic data\n",
    "N_YS = NUM - real_data_YS.shape[0]\n",
    "synthetic_data_YS = copulaYS.sample(N_YS)\n",
    "\n",
    "# Fit a gaussian copula to the data\n",
    "copulaEG = GaussianMultivariate()\n",
    "copulaEG.fit(real_data_EG)\n",
    "\n",
    "# Sample synthetic data\n",
    "N_EG = NUM - real_data_EG.shape[0]\n",
    "synthetic_data_EG = copulaEG.sample(N_EG)"
   ]
  },
  {
   "cell_type": "code",
   "execution_count": 63,
   "metadata": {},
   "outputs": [
    {
     "name": "stdout",
     "output_type": "stream",
     "text": [
      "(0, 11)\n",
      "(0, 11)\n",
      "(0, 11)\n",
      "(0, 11)\n"
     ]
    },
    {
     "data": {
      "text/html": [
       "<div>\n",
       "<style scoped>\n",
       "    .dataframe tbody tr th:only-of-type {\n",
       "        vertical-align: middle;\n",
       "    }\n",
       "\n",
       "    .dataframe tbody tr th {\n",
       "        vertical-align: top;\n",
       "    }\n",
       "\n",
       "    .dataframe thead th {\n",
       "        text-align: right;\n",
       "    }\n",
       "</style>\n",
       "<table border=\"1\" class=\"dataframe\">\n",
       "  <thead>\n",
       "    <tr style=\"text-align: right;\">\n",
       "      <th></th>\n",
       "      <th>ir1_flux_c</th>\n",
       "      <th>ir1_d_flux_c</th>\n",
       "      <th>ir2_flux_c</th>\n",
       "      <th>ir2_d_flux_c</th>\n",
       "      <th>ir3_flux_c</th>\n",
       "      <th>ir3_d_flux_c</th>\n",
       "      <th>ir4_flux_c</th>\n",
       "      <th>ir4_d_flux_c</th>\n",
       "      <th>mp1_flux_c</th>\n",
       "      <th>mp1_d_flux_c</th>\n",
       "      <th>Target</th>\n",
       "    </tr>\n",
       "  </thead>\n",
       "  <tbody>\n",
       "  </tbody>\n",
       "</table>\n",
       "</div>"
      ],
      "text/plain": [
       "Empty DataFrame\n",
       "Columns: [ir1_flux_c, ir1_d_flux_c, ir2_flux_c, ir2_d_flux_c, ir3_flux_c, ir3_d_flux_c, ir4_flux_c, ir4_d_flux_c, mp1_flux_c, mp1_d_flux_c, Target]\n",
       "Index: []"
      ]
     },
     "execution_count": 63,
     "metadata": {},
     "output_type": "execute_result"
    }
   ],
   "source": [
    "c2d_missing = c2d_IRAC[[\"ir1_flux_c\",\"ir1_d_flux_c\",\"ir2_flux_c\",\"ir2_d_flux_c\",\"ir3_flux_c\",\"ir3_d_flux_c\",\"ir4_flux_c\",\"ir4_d_flux_c\",'mp1_flux_c', 'mp1_d_flux_c', \"Target\"]]\n",
    "c2d_missing = c2d_missing[np.isnan(c2d_missing).any(1)]\n",
    "print(c2d_missing.shape)\n",
    "c2d_missing_YSO = c2d_missing[c2d_missing[\"Target\"]==0]\n",
    "c2d_missing_EG = c2d_missing[c2d_missing[\"Target\"]==1]\n",
    "c2d_missing_ST = c2d_missing[c2d_missing[\"Target\"]==2]\n",
    "\n",
    "print(c2d_missing_YSO.shape)\n",
    "print(c2d_missing_EG.shape)\n",
    "print(c2d_missing_ST.shape)\n",
    "\n",
    "c2d_missing.head()"
   ]
  },
  {
   "cell_type": "markdown",
   "metadata": {},
   "source": [
    "### Add synthetic data from copulas"
   ]
  },
  {
   "cell_type": "code",
   "execution_count": 64,
   "metadata": {},
   "outputs": [
    {
     "name": "stdout",
     "output_type": "stream",
     "text": [
      "YSO shape: (10000, 12)\n",
      "EG shape: (10000, 12)\n",
      "Star shape: (338498, 12)\n"
     ]
    }
   ],
   "source": [
    "c2d_IRAC_SYNTH = pd.merge_ordered(synthetic_data_YS,synthetic_data_EG)\n",
    "c2d_IRAC_SYNTH.columns = [\"ir1_flux_c\",\"ir1_d_flux_c\",\"ir2_flux_c\",\"ir2_d_flux_c\",\"ir3_flux_c\",\"ir3_d_flux_c\",\"ir4_flux_c\",\"ir4_d_flux_c\",'mp1_flux_c', 'mp1_d_flux_c',\"Target\"]\n",
    "c2d_IRAC_NEW_w_SYNTH = pd.merge_ordered(c2d_IRAC_NEW,c2d_IRAC_SYNTH)\n",
    "\n",
    "c2d_IRAC_NEW_w_SYNTH[\"alpha\"] = alpha_IR(c2d_IRAC_NEW_w_SYNTH[\"ir2_flux_c\"],c2d_IRAC_NEW_w_SYNTH[\"ir4_flux_c\"])\n",
    "\n",
    "shape_YSO = c2d_IRAC_NEW_w_SYNTH[c2d_IRAC_NEW_w_SYNTH[\"Target\"]==0].shape\n",
    "shape_EG = c2d_IRAC_NEW_w_SYNTH[c2d_IRAC_NEW_w_SYNTH[\"Target\"]==1].shape\n",
    "shape_ST = c2d_IRAC_NEW_w_SYNTH[c2d_IRAC_NEW_w_SYNTH[\"Target\"]==2].shape\n",
    "print(f\"YSO shape: {shape_YSO}\")\n",
    "print(f\"EG shape: {shape_EG}\")\n",
    "print(f\"Star shape: {shape_ST}\")\n",
    "# c2d_IRAC_NEW_w_SYNTH.shape"
   ]
  },
  {
   "cell_type": "markdown",
   "metadata": {},
   "source": [
    "### Save"
   ]
  },
  {
   "cell_type": "code",
   "execution_count": 65,
   "metadata": {},
   "outputs": [],
   "source": [
    "np.save(\"../Data/c2d_Inputs_ALL_SYNTH_10k.npy\",c2d_IRAC_NEW_w_SYNTH[[\"ir1_flux_c\",\"ir1_d_flux_c\",\"ir2_flux_c\",\"ir2_d_flux_c\",\"ir3_flux_c\",\"ir3_d_flux_c\",\"ir4_flux_c\",\"ir4_d_flux_c\",'mp1_flux_c', 'mp1_d_flux_c', \"alpha\"]].values.astype(float))\n",
    "np.save(\"../Data/c2d_Targets_ALL_SYNTH_10k.npy\",c2d_IRAC_NEW_w_SYNTH[[\"Target\"]].values.astype(int))\n",
    "\n",
    "# np.save(\"../Data_and_Results/c2d_Inputs_CORES_Valid.npy\",c2d_IRAC_NEW[[\"ir1_flux_c\",\"ir1_d_flux_c\",\"ir2_flux_c\",\"ir2_d_flux_c\",\"ir3_flux_c\",\"ir3_d_flux_c\",\"ir4_flux_c\",\"ir4_d_flux_c\",\"alpha\"]].values.astype(float))\n",
    "# np.save(\"../Data_and_Results/c2d_Targets_CORES_Valid.npy\",c2d_IRAC_NEW[[\"Target\"]].values.astype(int))"
   ]
  },
  {
   "cell_type": "markdown",
   "metadata": {},
   "source": [
    "### View data histograms"
   ]
  },
  {
   "cell_type": "code",
   "execution_count": 66,
   "metadata": {},
   "outputs": [
    {
     "data": {
      "image/png": "[encoded data removed]",
      "text/plain": [
       "<Figure size 432x288 with 1 Axes>"
      ]
     },
     "metadata": {
      "needs_background": "light"
     },
     "output_type": "display_data"
    }
   ],
   "source": [
    "import matplotlib.pyplot as plt\n",
    "bins= np.linspace(-5,5,20)\n",
    "\n",
    "c2d_tar = c2d_IRAC_NEW_w_SYNTH[[\"Target\"]].values.astype(int)\n",
    "c2d_inp = c2d_IRAC_NEW_w_SYNTH[[\"ir1_flux_c\",\"ir1_d_flux_c\",\"ir2_flux_c\",\"ir2_d_flux_c\",\"ir3_flux_c\",\"ir3_d_flux_c\",\"ir4_flux_c\",\"ir4_d_flux_c\",'mp1_flux_c', 'mp1_d_flux_c',\"alpha\"]].values.astype(float)\n",
    "\n",
    "YSO = np.where(c2d_tar==0)[0]\n",
    "alphasYS = c2d_inp[YSO][:,10]\n",
    "\n",
    "EG = np.where(c2d_tar==1)[0]\n",
    "alphasEG = c2d_inp[EG][:,10]\n",
    "\n",
    "ST = np.where(c2d_tar==2)[0]\n",
    "alphasST = c2d_inp[ST][:,10]\n",
    "\n",
    "bins= np.linspace(-5,5,50)\n",
    "plt.hist(alphasYS,bins,histtype='step',label='YSO',density=True)\n",
    "plt.hist(alphasEG,bins,histtype='step',label='EG',density=True)\n",
    "plt.hist(alphasST,bins,histtype='step',label='Stars',density=True)\n",
    "plt.legend()\n",
    "plt.show()"
   ]
  },
  {
   "cell_type": "code",
   "execution_count": 46,
   "metadata": {},
   "outputs": [
    {
     "data": {
      "text/plain": [
       "(array([1.3260e+03, 1.6060e+03, 1.9980e+03, 2.5420e+03, 3.3870e+03,\n",
       "        4.5590e+03, 6.0490e+03, 8.7390e+03, 1.2413e+04, 1.8257e+04,\n",
       "        2.5561e+04, 3.9942e+04, 4.6961e+04, 2.2376e+04, 1.2838e+04,\n",
       "        8.9760e+03, 6.3830e+03, 4.6490e+03, 3.3650e+03, 2.3900e+03,\n",
       "        1.7940e+03, 1.2950e+03, 9.0500e+02, 7.9800e+02, 6.1900e+02,\n",
       "        5.4300e+02, 5.1900e+02, 4.1200e+02, 3.2500e+02, 2.6200e+02,\n",
       "        2.0600e+02, 1.7300e+02, 1.3400e+02, 1.1200e+02, 1.0200e+02,\n",
       "        1.0100e+02, 8.2000e+01, 8.8000e+01, 6.5000e+01, 4.9000e+01,\n",
       "        3.0000e+01, 2.3000e+01, 1.1000e+01, 1.2000e+01, 6.0000e+00,\n",
       "        4.0000e+00, 4.0000e+00, 2.0000e+00, 0.0000e+00]),\n",
       " array([-5.        , -4.79591837, -4.59183673, -4.3877551 , -4.18367347,\n",
       "        -3.97959184, -3.7755102 , -3.57142857, -3.36734694, -3.16326531,\n",
       "        -2.95918367, -2.75510204, -2.55102041, -2.34693878, -2.14285714,\n",
       "        -1.93877551, -1.73469388, -1.53061224, -1.32653061, -1.12244898,\n",
       "        -0.91836735, -0.71428571, -0.51020408, -0.30612245, -0.10204082,\n",
       "         0.10204082,  0.30612245,  0.51020408,  0.71428571,  0.91836735,\n",
       "         1.12244898,  1.32653061,  1.53061224,  1.73469388,  1.93877551,\n",
       "         2.14285714,  2.34693878,  2.55102041,  2.75510204,  2.95918367,\n",
       "         3.16326531,  3.36734694,  3.57142857,  3.7755102 ,  3.97959184,\n",
       "         4.18367347,  4.3877551 ,  4.59183673,  4.79591837,  5.        ]),\n",
       " <BarContainer object of 49 artists>)"
      ]
     },
     "execution_count": 46,
     "metadata": {},
     "output_type": "execute_result"
    },
    {
     "data": {
      "image/png": "[encoded data removed]",
      "text/plain": [
       "<Figure size 432x288 with 1 Axes>"
      ]
     },
     "metadata": {
      "needs_background": "light"
     },
     "output_type": "display_data"
    }
   ],
   "source": [
    "plt.hist(c2d_IRAC[[\"alpha\"]],bins)"
   ]
  },
  {
   "cell_type": "code",
   "execution_count": 47,
   "metadata": {},
   "outputs": [
    {
     "data": {
      "image/png": "[encoded data removed]",
      "text/plain": [
       "<Figure size 432x288 with 4 Axes>"
      ]
     },
     "metadata": {
      "needs_background": "light"
     },
     "output_type": "display_data"
    }
   ],
   "source": [
    "fig, axs = plt.subplots(2,2)\n",
    "bins= np.linspace(1,21,40)\n",
    "axs[0][0].hist(c2d_inp[YSO].transpose()[0],bins,histtype='step',label='YSO',density=True)\n",
    "axs[0][0].hist(c2d_inp[EG].transpose()[0],bins,histtype='step',label='EG',density=True)\n",
    "axs[0][0].hist(c2d_inp[ST].transpose()[0],bins,histtype='step',label='Stars',density=True)\n",
    "axs[0][0].legend()\n",
    "\n",
    "axs[0][1].hist(c2d_inp[YSO].transpose()[2],bins,histtype='step',label='YSO',density=True)\n",
    "axs[0][1].hist(c2d_inp[EG].transpose()[2],bins,histtype='step',label='EG',density=True)\n",
    "axs[0][1].hist(c2d_inp[ST].transpose()[2],bins,histtype='step',label='Stars',density=True)\n",
    "\n",
    "axs[1][0].hist(c2d_inp[YSO].transpose()[4],bins,histtype='step',label='YSO',density=True)\n",
    "axs[1][0].hist(c2d_inp[EG].transpose()[4],bins,histtype='step',label='EG',density=True)\n",
    "axs[1][0].hist(c2d_inp[ST].transpose()[4],bins,histtype='step',label='Stars',density=True)\n",
    "\n",
    "axs[1][1].hist(c2d_inp[YSO].transpose()[6],bins,histtype='step',label='YSO',density=True)\n",
    "axs[1][1].hist(c2d_inp[EG].transpose()[6],bins,histtype='step',label='EG',density=True)\n",
    "axs[1][1].hist(c2d_inp[ST].transpose()[6],bins,histtype='step',label='Stars',density=True)\n",
    "\n",
    "plt.show()"
   ]
  },
  {
   "cell_type": "markdown",
   "metadata": {},
   "source": [
    "# Rapson Data"
   ]
  },
  {
   "cell_type": "code",
   "execution_count": 69,
   "metadata": {},
   "outputs": [
    {
     "name": "stdout",
     "output_type": "stream",
     "text": [
      "<class 'pandas.core.frame.DataFrame'>\n",
      "RangeIndex: 10454 entries, 0 to 10453\n",
      "Data columns (total 14 columns):\n",
      " #   Column    Non-Null Count  Dtype  \n",
      "---  ------    --------------  -----  \n",
      " 0   ID        10454 non-null  int64  \n",
      " 1   RAJ2000   10454 non-null  object \n",
      " 2   DEJ2000   10454 non-null  object \n",
      " 3   3.6mag    10445 non-null  float64\n",
      " 4   e_3.6mag  10445 non-null  float64\n",
      " 5   4.5mag    10450 non-null  float64\n",
      " 6   e_4.5mag  10450 non-null  float64\n",
      " 7   5.8mag    10249 non-null  float64\n",
      " 8   e_5.8mag  10249 non-null  float64\n",
      " 9   8mag      8484 non-null   float64\n",
      " 10  e_8mag    8484 non-null   float64\n",
      " 11  24mag     809 non-null    float64\n",
      " 12  e_24mag   809 non-null    float64\n",
      " 13  Class     10454 non-null  object \n",
      "dtypes: float64(10), int64(1), object(3)\n",
      "memory usage: 1.1+ MB\n"
     ]
    }
   ],
   "source": [
    "df_Rap = pd.read_csv(\"../Data/Rapson_YSO_EG_ST.tsv\",sep=';',comment='#')\n",
    "\n",
    "df_Rap = df_Rap.replace(r'^\\s+$', np.nan, regex=True)\n",
    "for name in ['3.6mag', 'e_3.6mag', '4.5mag', 'e_4.5mag','5.8mag', 'e_5.8mag', '8mag', 'e_8mag',\"24mag\",\"e_24mag\"]:\n",
    "    df_Rap[name] = df_Rap[name].astype(float)\n",
    "\n",
    "    \n",
    "df_Rap.info()\n",
    "# pd.unique(df_Rap[\"4.5mag\"])"
   ]
  },
  {
   "cell_type": "code",
   "execution_count": 70,
   "metadata": {},
   "outputs": [
    {
     "name": "stdout",
     "output_type": "stream",
     "text": [
      "YSO shape: (584, 15)\n",
      "EG shape: (373, 15)\n",
      "Stars shape: (9497, 15)\n"
     ]
    }
   ],
   "source": [
    "Rap_YSO_1 = pd.merge_ordered(df_Rap[df_Rap[\"Class\"]=='0/I'],df_Rap[df_Rap[\"Class\"]=='II'])\n",
    "Rap_YSO = pd.merge_ordered(Rap_YSO_1,df_Rap[df_Rap[\"Class\"]=='TD'])\n",
    "Rap_YSO[\"Target\"] = 0\n",
    "\n",
    "Rap_EG_1 = pd.merge_ordered(df_Rap[df_Rap[\"Class\"]=='AGN'],df_Rap[df_Rap[\"Class\"]=='PAH'])\n",
    "Rap_EG = pd.merge_ordered(Rap_EG_1,df_Rap[df_Rap[\"Class\"]=='SHOCK'])\n",
    "Rap_EG[\"Target\"] = 1\n",
    "\n",
    "Rap_ST = df_Rap[df_Rap[\"Class\"]==\"III/F\"]\n",
    "Rap_ST[\"Target\"] = 2\n",
    "\n",
    "Rap_NEW_1 = pd.merge_ordered(Rap_YSO,Rap_EG)\n",
    "Rap_NEW = pd.merge_ordered(Rap_NEW_1, Rap_ST)\n",
    "\n",
    "print(f\"YSO shape: {Rap_YSO.shape}\")\n",
    "print(f\"EG shape: {Rap_EG.shape}\")\n",
    "print(f\"Stars shape: {Rap_ST.shape}\")\n",
    "\n",
    "\n",
    "\n",
    "# Calculate alphas and add to be consisitent with available bands ([4.5]-[8])\n",
    "# df_Rap_clean[\"alpha\"] = alpha(df_Rap_clean[\"4.5mag\"].values.astype(float),df_Rap_clean[\"8mag\"].values.astype(float))\n"
   ]
  },
  {
   "cell_type": "code",
   "execution_count": 71,
   "metadata": {},
   "outputs": [
    {
     "data": {
      "text/html": [
       "<div>\n",
       "<style scoped>\n",
       "    .dataframe tbody tr th:only-of-type {\n",
       "        vertical-align: middle;\n",
       "    }\n",
       "\n",
       "    .dataframe tbody tr th {\n",
       "        vertical-align: top;\n",
       "    }\n",
       "\n",
       "    .dataframe thead th {\n",
       "        text-align: right;\n",
       "    }\n",
       "</style>\n",
       "<table border=\"1\" class=\"dataframe\">\n",
       "  <thead>\n",
       "    <tr style=\"text-align: right;\">\n",
       "      <th></th>\n",
       "      <th>ID</th>\n",
       "      <th>RAJ2000</th>\n",
       "      <th>DEJ2000</th>\n",
       "      <th>3.6mag</th>\n",
       "      <th>e_3.6mag</th>\n",
       "      <th>4.5mag</th>\n",
       "      <th>e_4.5mag</th>\n",
       "      <th>5.8mag</th>\n",
       "      <th>e_5.8mag</th>\n",
       "      <th>8mag</th>\n",
       "      <th>e_8mag</th>\n",
       "      <th>24mag</th>\n",
       "      <th>e_24mag</th>\n",
       "      <th>Class</th>\n",
       "      <th>Target</th>\n",
       "      <th>alpha</th>\n",
       "    </tr>\n",
       "  </thead>\n",
       "  <tbody>\n",
       "    <tr>\n",
       "      <th>4</th>\n",
       "      <td>34</td>\n",
       "      <td>06 43 10.32</td>\n",
       "      <td>+08 45 11.33</td>\n",
       "      <td>10.32</td>\n",
       "      <td>0.003</td>\n",
       "      <td>10.17</td>\n",
       "      <td>0.003</td>\n",
       "      <td>10.07</td>\n",
       "      <td>0.005</td>\n",
       "      <td>10.03</td>\n",
       "      <td>0.008</td>\n",
       "      <td>-99.0</td>\n",
       "      <td>-99.0</td>\n",
       "      <td>III/F</td>\n",
       "      <td>2</td>\n",
       "      <td>-2.5904</td>\n",
       "    </tr>\n",
       "    <tr>\n",
       "      <th>7</th>\n",
       "      <td>45</td>\n",
       "      <td>06 42 42.63</td>\n",
       "      <td>+08 45 20.25</td>\n",
       "      <td>11.62</td>\n",
       "      <td>0.003</td>\n",
       "      <td>11.60</td>\n",
       "      <td>0.004</td>\n",
       "      <td>11.55</td>\n",
       "      <td>0.016</td>\n",
       "      <td>11.56</td>\n",
       "      <td>0.035</td>\n",
       "      <td>-99.0</td>\n",
       "      <td>-99.0</td>\n",
       "      <td>III/F</td>\n",
       "      <td>2</td>\n",
       "      <td>-2.7544</td>\n",
       "    </tr>\n",
       "    <tr>\n",
       "      <th>9</th>\n",
       "      <td>54</td>\n",
       "      <td>06 43 02.63</td>\n",
       "      <td>+08 45 23.95</td>\n",
       "      <td>13.38</td>\n",
       "      <td>0.007</td>\n",
       "      <td>13.28</td>\n",
       "      <td>0.011</td>\n",
       "      <td>13.27</td>\n",
       "      <td>0.050</td>\n",
       "      <td>13.78</td>\n",
       "      <td>0.155</td>\n",
       "      <td>-99.0</td>\n",
       "      <td>-99.0</td>\n",
       "      <td>III/F</td>\n",
       "      <td>2</td>\n",
       "      <td>-3.6400</td>\n",
       "    </tr>\n",
       "    <tr>\n",
       "      <th>11</th>\n",
       "      <td>65</td>\n",
       "      <td>06 43 01.89</td>\n",
       "      <td>+08 45 32.18</td>\n",
       "      <td>12.52</td>\n",
       "      <td>0.005</td>\n",
       "      <td>12.52</td>\n",
       "      <td>0.006</td>\n",
       "      <td>12.40</td>\n",
       "      <td>0.030</td>\n",
       "      <td>12.41</td>\n",
       "      <td>0.053</td>\n",
       "      <td>-99.0</td>\n",
       "      <td>-99.0</td>\n",
       "      <td>III/F</td>\n",
       "      <td>2</td>\n",
       "      <td>-2.6396</td>\n",
       "    </tr>\n",
       "    <tr>\n",
       "      <th>15</th>\n",
       "      <td>84</td>\n",
       "      <td>06 42 53.88</td>\n",
       "      <td>+08 45 38.50</td>\n",
       "      <td>13.71</td>\n",
       "      <td>0.009</td>\n",
       "      <td>13.66</td>\n",
       "      <td>0.013</td>\n",
       "      <td>13.60</td>\n",
       "      <td>0.069</td>\n",
       "      <td>13.67</td>\n",
       "      <td>0.148</td>\n",
       "      <td>-99.0</td>\n",
       "      <td>-99.0</td>\n",
       "      <td>III/F</td>\n",
       "      <td>2</td>\n",
       "      <td>-2.8364</td>\n",
       "    </tr>\n",
       "  </tbody>\n",
       "</table>\n",
       "</div>"
      ],
      "text/plain": [
       "    ID      RAJ2000       DEJ2000  3.6mag  e_3.6mag  4.5mag  e_4.5mag  5.8mag  \\\n",
       "4   34  06 43 10.32  +08 45 11.33   10.32     0.003   10.17     0.003   10.07   \n",
       "7   45  06 42 42.63  +08 45 20.25   11.62     0.003   11.60     0.004   11.55   \n",
       "9   54  06 43 02.63  +08 45 23.95   13.38     0.007   13.28     0.011   13.27   \n",
       "11  65  06 43 01.89  +08 45 32.18   12.52     0.005   12.52     0.006   12.40   \n",
       "15  84  06 42 53.88  +08 45 38.50   13.71     0.009   13.66     0.013   13.60   \n",
       "\n",
       "    e_5.8mag   8mag  e_8mag  24mag  e_24mag  Class  Target   alpha  \n",
       "4      0.005  10.03   0.008  -99.0    -99.0  III/F       2 -2.5904  \n",
       "7      0.016  11.56   0.035  -99.0    -99.0  III/F       2 -2.7544  \n",
       "9      0.050  13.78   0.155  -99.0    -99.0  III/F       2 -3.6400  \n",
       "11     0.030  12.41   0.053  -99.0    -99.0  III/F       2 -2.6396  \n",
       "15     0.069  13.67   0.148  -99.0    -99.0  III/F       2 -2.8364  "
      ]
     },
     "execution_count": 71,
     "metadata": {},
     "output_type": "execute_result"
    }
   ],
   "source": [
    "Rap_NEW.dropna(subset=['3.6mag', 'e_3.6mag', '4.5mag', 'e_4.5mag','5.8mag', 'e_5.8mag', '8mag', 'e_8mag'],inplace=True)\n",
    "Rap_NEW.fillna(-99,inplace=True)\n",
    "Rap_NEW[\"alpha\"] = alpha_IR(Rap_NEW[\"4.5mag\"],Rap_NEW[\"8mag\"])\n",
    "Rap_NEW.head()"
   ]
  },
  {
   "cell_type": "code",
   "execution_count": 72,
   "metadata": {},
   "outputs": [],
   "source": [
    "# #Create synthetic data\n",
    "# df_Rap_Synth_NEW = df_Rap_clean[['3.6mag', 'e_3.6mag', '4.5mag', 'e_4.5mag','5.8mag', 'e_5.8mag', '8mag', 'e_8mag',\"Target\"]]\n",
    "\n",
    "# # Load a dataset with 3 columns that are not independent\n",
    "# real_data_YS = df_Rap_Synth_NEW[df_Rap_Synth_NEW[\"Target\"]==0].values.astype(float)\n",
    "# real_data_EG = df_Rap_Synth_NEW[df_Rap_Synth_NEW[\"Target\"]==1].values.astype(float)\n",
    "\n",
    "# # Fit a gaussian copula to the data\n",
    "# copulaYS = GaussianMultivariate()\n",
    "# copulaYS.fit(real_data_YS)\n",
    "\n",
    "# # Sample synthetic data\n",
    "# N_YS = 1000 - real_data_YS.shape[0]\n",
    "# synthetic_data_YS = copulaYS.sample(N_YS)\n",
    "\n",
    "# # Fit a gaussian copula to the data\n",
    "# copulaEG = GaussianMultivariate()\n",
    "# copulaEG.fit(real_data_EG)\n",
    "\n",
    "# # Sample synthetic data\n",
    "# N_EG = 1000 - real_data_EG.shape[0]\n",
    "# synthetic_data_EG = copulaEG.sample(N_EG)"
   ]
  },
  {
   "cell_type": "code",
   "execution_count": 73,
   "metadata": {},
   "outputs": [
    {
     "name": "stdout",
     "output_type": "stream",
     "text": [
      "(0, 9)\n",
      "(0, 11)\n",
      "(0, 11)\n",
      "(0, 11)\n"
     ]
    }
   ],
   "source": [
    "Rap_missing = Rap_NEW[['3.6mag', 'e_3.6mag', '4.5mag', 'e_4.5mag','5.8mag', 'e_5.8mag', '8mag', 'e_8mag',\"Target\"]]\n",
    "Rap_missing = Rap_missing[np.isnan(Rap_missing).any(1)]\n",
    "print(Rap_missing.shape)\n",
    "Rap_missing_YSO = Rap_missing[Rap_missing[\"Target\"]==0]\n",
    "Rap_missing_EG = Rap_missing[Rap_missing[\"Target\"]==1]\n",
    "Rap_missing_ST = Rap_missing[Rap_missing[\"Target\"]==2]\n",
    "\n",
    "print(c2d_missing_YSO.shape)\n",
    "print(c2d_missing_EG.shape)\n",
    "print(c2d_missing_ST.shape)"
   ]
  },
  {
   "cell_type": "code",
   "execution_count": 74,
   "metadata": {},
   "outputs": [
    {
     "data": {
      "image/png": "[encoded data removed]",
      "text/plain": [
       "<Figure size 432x288 with 1 Axes>"
      ]
     },
     "metadata": {
      "needs_background": "light"
     },
     "output_type": "display_data"
    }
   ],
   "source": [
    "Rap_tar = Rap_NEW[[\"Target\"]].values.astype(int)\n",
    "Rap_inp = Rap_NEW[[\"3.6mag\",\"e_3.6mag\",\"4.5mag\",\"e_4.5mag\",\"5.8mag\",\"e_5.8mag\",\"8mag\",\"e_8mag\",\"24mag\",\"e_24mag\",\"alpha\"]].values.astype(float)\n",
    "EG = np.where(Rap_tar==1)[0]\n",
    "alphasEG = Rap_inp[EG].transpose()[-1]\n",
    "\n",
    "YSO = np.where(Rap_tar==0)[0]\n",
    "alphasYS = Rap_inp[YSO].transpose()[-1]\n",
    "\n",
    "ST = np.where(Rap_tar==2)[0]\n",
    "alphasST = Rap_inp[ST].transpose()[-1]\n",
    "\n",
    "bins= np.linspace(-5,5,50)\n",
    "plt.hist(alphasYS,bins,histtype='step',label='YSO',density=True)\n",
    "plt.hist(alphasEG,bins,histtype='step',label='EG',density=True)\n",
    "plt.hist(alphasST,bins,histtype='step',label='Stars',density=True)\n",
    "\n",
    "plt.show()"
   ]
  },
  {
   "cell_type": "code",
   "execution_count": 75,
   "metadata": {},
   "outputs": [],
   "source": [
    "np.save(\"../Data/Rap_Inputs_Test.npy\",Rap_NEW[[\"3.6mag\",\"e_3.6mag\",\"4.5mag\",\"e_4.5mag\",\"5.8mag\",\"e_5.8mag\",\"8mag\",\"e_8mag\",\"24mag\",\"e_24mag\",\"alpha\"]].values.astype(float))\n",
    "np.save(\"../Data/Rap_Targets_Test.npy\",Rap_NEW[[\"Target\"]].values.astype(int))"
   ]
  },
  {
   "cell_type": "markdown",
   "metadata": {},
   "source": [
    "# Data from CM21\n"
   ]
  },
  {
   "cell_type": "markdown",
   "metadata": {},
   "source": [
    "If we follow the values CM21 used for each class, we should be using:\n",
    "* Training\n",
    "    * 1472 YSOs (331 CI and 1141 CII)\n",
    "    * 857 EG (231 Gals, 529 AGN, 27 PAHs 70 Shocks)\n",
    "    * 1257 Stars\n",
    "* Validation\n",
    "    * 613 YSOs (82 CI and 531 CII)\n",
    "    * 405 EG (104 Gals, 278 AGNs, 6 PAHs, 17 Shocks)\n",
    "    * 4359 Stars\n",
    "\n",
    "We will use the above input and compare to using 1000 of each class. There are a total of:\n",
    "* 3073 YSOs\n",
    "* 2034 EG\n",
    "* 21 796 Stars\n"
   ]
  },
  {
   "cell_type": "markdown",
   "metadata": {},
   "source": [
    "# SPICY YSO Classification"
   ]
  },
  {
   "cell_type": "code",
   "execution_count": 5,
   "metadata": {},
   "outputs": [
    {
     "data": {
      "text/html": [
       "<div>\n",
       "<style scoped>\n",
       "    .dataframe tbody tr th:only-of-type {\n",
       "        vertical-align: middle;\n",
       "    }\n",
       "\n",
       "    .dataframe tbody tr th {\n",
       "        vertical-align: top;\n",
       "    }\n",
       "\n",
       "    .dataframe thead th {\n",
       "        text-align: right;\n",
       "    }\n",
       "</style>\n",
       "<table border=\"1\" class=\"dataframe\">\n",
       "  <thead>\n",
       "    <tr style=\"text-align: right;\">\n",
       "      <th></th>\n",
       "      <th>SPICY</th>\n",
       "      <th>RAdeg      DEdeg</th>\n",
       "      <th>GLON      GLAT</th>\n",
       "      <th>p1</th>\n",
       "      <th>p2</th>\n",
       "      <th>p3</th>\n",
       "      <th>class</th>\n",
       "      <th>Si</th>\n",
       "      <th>PAH</th>\n",
       "      <th>alpha</th>\n",
       "      <th>...</th>\n",
       "      <th>ag.1</th>\n",
       "      <th>ag.2</th>\n",
       "      <th>ag.3</th>\n",
       "      <th>2MASS</th>\n",
       "      <th>UKIDSS</th>\n",
       "      <th>VIRAC</th>\n",
       "      <th>GaiaDR2</th>\n",
       "      <th>MIPS</th>\n",
       "      <th>WISEA</th>\n",
       "      <th>ZTFDR3</th>\n",
       "    </tr>\n",
       "  </thead>\n",
       "  <tbody>\n",
       "    <tr>\n",
       "      <th>0</th>\n",
       "      <td>1</td>\n",
       "      <td>125.664811 -37.551349</td>\n",
       "      <td>255.975183 -0.253369</td>\n",
       "      <td>0.710000</td>\n",
       "      <td></td>\n",
       "      <td></td>\n",
       "      <td>ClassII</td>\n",
       "      <td>0</td>\n",
       "      <td>0</td>\n",
       "      <td>-1.51695368300395E+00</td>\n",
       "      <td>...</td>\n",
       "      <td>2</td>\n",
       "      <td>2</td>\n",
       "      <td>2</td>\n",
       "      <td>08223956-3733048</td>\n",
       "      <td></td>\n",
       "      <td></td>\n",
       "      <td>5541983493883598976</td>\n",
       "      <td></td>\n",
       "      <td>J082239.55-373304.5</td>\n",
       "      <td>NaN</td>\n",
       "    </tr>\n",
       "    <tr>\n",
       "      <th>1</th>\n",
       "      <td>2</td>\n",
       "      <td>125.795513 -37.585000</td>\n",
       "      <td>256.062070 -0.187675</td>\n",
       "      <td>0.690000</td>\n",
       "      <td></td>\n",
       "      <td></td>\n",
       "      <td>ClassII</td>\n",
       "      <td>0</td>\n",
       "      <td>0</td>\n",
       "      <td>-6.43206342197073E-01</td>\n",
       "      <td>...</td>\n",
       "      <td>2</td>\n",
       "      <td>2</td>\n",
       "      <td>2</td>\n",
       "      <td>08231092-3735060</td>\n",
       "      <td></td>\n",
       "      <td></td>\n",
       "      <td>5541980848188474496</td>\n",
       "      <td></td>\n",
       "      <td>J082310.90-373505.9</td>\n",
       "      <td>NaN</td>\n",
       "    </tr>\n",
       "    <tr>\n",
       "      <th>2</th>\n",
       "      <td>3</td>\n",
       "      <td>125.860244 -37.577463</td>\n",
       "      <td>256.085297 -0.141319</td>\n",
       "      <td>0.870000</td>\n",
       "      <td></td>\n",
       "      <td></td>\n",
       "      <td>FS</td>\n",
       "      <td>0</td>\n",
       "      <td>0</td>\n",
       "      <td>-2.14090416881411E-03</td>\n",
       "      <td>...</td>\n",
       "      <td>2</td>\n",
       "      <td>2</td>\n",
       "      <td>2</td>\n",
       "      <td>08232646-3734388</td>\n",
       "      <td></td>\n",
       "      <td></td>\n",
       "      <td>5541969475116705664</td>\n",
       "      <td></td>\n",
       "      <td>J082326.45-373438.8</td>\n",
       "      <td>NaN</td>\n",
       "    </tr>\n",
       "    <tr>\n",
       "      <th>3</th>\n",
       "      <td>4</td>\n",
       "      <td>125.946863 -37.770809</td>\n",
       "      <td>256.282985 -0.196119</td>\n",
       "      <td>0.530000</td>\n",
       "      <td></td>\n",
       "      <td></td>\n",
       "      <td>ClassI</td>\n",
       "      <td>0</td>\n",
       "      <td>0</td>\n",
       "      <td>3.37295842881326E-01</td>\n",
       "      <td>...</td>\n",
       "      <td>4</td>\n",
       "      <td>2</td>\n",
       "      <td>4</td>\n",
       "      <td></td>\n",
       "      <td></td>\n",
       "      <td></td>\n",
       "      <td></td>\n",
       "      <td></td>\n",
       "      <td>J082347.25-374615.0</td>\n",
       "      <td>NaN</td>\n",
       "    </tr>\n",
       "    <tr>\n",
       "      <th>4</th>\n",
       "      <td>5</td>\n",
       "      <td>126.003155 -37.126075</td>\n",
       "      <td>255.780917  0.210831</td>\n",
       "      <td>0.540000</td>\n",
       "      <td></td>\n",
       "      <td></td>\n",
       "      <td>FS</td>\n",
       "      <td>0</td>\n",
       "      <td>0</td>\n",
       "      <td>-2.78597489454348E-01</td>\n",
       "      <td>...</td>\n",
       "      <td>2</td>\n",
       "      <td>2</td>\n",
       "      <td>2</td>\n",
       "      <td>08240071-3707341</td>\n",
       "      <td></td>\n",
       "      <td></td>\n",
       "      <td>5542020537982099840</td>\n",
       "      <td></td>\n",
       "      <td>J082400.75-370733.7</td>\n",
       "      <td>NaN</td>\n",
       "    </tr>\n",
       "  </tbody>\n",
       "</table>\n",
       "<p>5 rows × 41 columns</p>\n",
       "</div>"
      ],
      "text/plain": [
       "    SPICY       RAdeg      DEdeg        GLON      GLAT        p1        p2  \\\n",
       "0       1  125.664811 -37.551349  255.975183 -0.253369  0.710000             \n",
       "1       2  125.795513 -37.585000  256.062070 -0.187675  0.690000             \n",
       "2       3  125.860244 -37.577463  256.085297 -0.141319  0.870000             \n",
       "3       4  125.946863 -37.770809  256.282985 -0.196119  0.530000             \n",
       "4       5  126.003155 -37.126075  255.780917  0.210831  0.540000             \n",
       "\n",
       "         p3  class      Si  PAH                  alpha  ... ag.1 ag.2 ag.3  \\\n",
       "0            ClassII     0    0  -1.51695368300395E+00  ...    2    2    2   \n",
       "1            ClassII     0    0  -6.43206342197073E-01  ...    2    2    2   \n",
       "2            FS          0    0  -2.14090416881411E-03  ...    2    2    2   \n",
       "3            ClassI      0    0   3.37295842881326E-01  ...    4    2    4   \n",
       "4            FS          0    0  -2.78597489454348E-01  ...    2    2    2   \n",
       "\n",
       "              2MASS  UKIDSS                   VIRAC              GaiaDR2  \\\n",
       "0  08223956-3733048                                  5541983493883598976   \n",
       "1  08231092-3735060                                  5541980848188474496   \n",
       "2  08232646-3734388                                  5541969475116705664   \n",
       "3                                                                          \n",
       "4  08240071-3707341                                  5542020537982099840   \n",
       "\n",
       "   MIPS                WISEA               ZTFDR3  \n",
       "0                      J082239.55-373304.5    NaN  \n",
       "1                      J082310.90-373505.9    NaN  \n",
       "2                      J082326.45-373438.8    NaN  \n",
       "3                      J082347.25-374615.0    NaN  \n",
       "4                      J082400.75-370733.7    NaN  \n",
       "\n",
       "[5 rows x 41 columns]"
      ]
     },
     "execution_count": 5,
     "metadata": {},
     "output_type": "execute_result"
    }
   ],
   "source": [
    "df_SPICY = pd.read_csv(\"../Data_and_Results/SPICY_YSO_Subclasses.csv\",comment='#')\n",
    "\n",
    "df_SPICY.head()"
   ]
  },
  {
   "cell_type": "code",
   "execution_count": 6,
   "metadata": {},
   "outputs": [
    {
     "data": {
      "text/html": [
       "<div>\n",
       "<style scoped>\n",
       "    .dataframe tbody tr th:only-of-type {\n",
       "        vertical-align: middle;\n",
       "    }\n",
       "\n",
       "    .dataframe tbody tr th {\n",
       "        vertical-align: top;\n",
       "    }\n",
       "\n",
       "    .dataframe thead th {\n",
       "        text-align: right;\n",
       "    }\n",
       "</style>\n",
       "<table border=\"1\" class=\"dataframe\">\n",
       "  <thead>\n",
       "    <tr style=\"text-align: right;\">\n",
       "      <th></th>\n",
       "      <th>SPICY</th>\n",
       "      <th>3.6mag</th>\n",
       "      <th>e_3.6mag</th>\n",
       "      <th>4.5mag</th>\n",
       "      <th>e_4.5mag</th>\n",
       "      <th>5.8mag</th>\n",
       "      <th>e_5.8mag</th>\n",
       "      <th>8.0mag</th>\n",
       "      <th>e_8.0mag</th>\n",
       "      <th>class</th>\n",
       "    </tr>\n",
       "  </thead>\n",
       "  <tbody>\n",
       "    <tr>\n",
       "      <th>0</th>\n",
       "      <td>1</td>\n",
       "      <td>13.158</td>\n",
       "      <td>0.063</td>\n",
       "      <td>12.800</td>\n",
       "      <td>0.104</td>\n",
       "      <td>12.470</td>\n",
       "      <td>0.153</td>\n",
       "      <td>12.009</td>\n",
       "      <td>0.083</td>\n",
       "      <td>ClassII</td>\n",
       "    </tr>\n",
       "    <tr>\n",
       "      <th>1</th>\n",
       "      <td>2</td>\n",
       "      <td>13.180</td>\n",
       "      <td>0.059</td>\n",
       "      <td>12.727</td>\n",
       "      <td>0.097</td>\n",
       "      <td>12.241</td>\n",
       "      <td>0.120</td>\n",
       "      <td>11.404</td>\n",
       "      <td>0.059</td>\n",
       "      <td>ClassII</td>\n",
       "    </tr>\n",
       "    <tr>\n",
       "      <th>2</th>\n",
       "      <td>3</td>\n",
       "      <td>11.703</td>\n",
       "      <td>0.052</td>\n",
       "      <td>11.197</td>\n",
       "      <td>0.061</td>\n",
       "      <td>10.674</td>\n",
       "      <td>0.059</td>\n",
       "      <td>9.576</td>\n",
       "      <td>0.034</td>\n",
       "      <td>FS</td>\n",
       "    </tr>\n",
       "    <tr>\n",
       "      <th>3</th>\n",
       "      <td>4</td>\n",
       "      <td>14.271</td>\n",
       "      <td>0.096</td>\n",
       "      <td>13.398</td>\n",
       "      <td>0.084</td>\n",
       "      <td>12.462</td>\n",
       "      <td>0.142</td>\n",
       "      <td>11.478</td>\n",
       "      <td>0.045</td>\n",
       "      <td>ClassI</td>\n",
       "    </tr>\n",
       "    <tr>\n",
       "      <th>4</th>\n",
       "      <td>5</td>\n",
       "      <td>13.198</td>\n",
       "      <td>0.065</td>\n",
       "      <td>12.393</td>\n",
       "      <td>0.084</td>\n",
       "      <td>11.726</td>\n",
       "      <td>0.077</td>\n",
       "      <td>10.848</td>\n",
       "      <td>0.048</td>\n",
       "      <td>FS</td>\n",
       "    </tr>\n",
       "  </tbody>\n",
       "</table>\n",
       "</div>"
      ],
      "text/plain": [
       "    SPICY  3.6mag  e_3.6mag  4.5mag  e_4.5mag  5.8mag e_5.8mag  8.0mag  \\\n",
       "0       1  13.158     0.063  12.800     0.104  12.470    0.153  12.009   \n",
       "1       2  13.180     0.059  12.727     0.097  12.241    0.120  11.404   \n",
       "2       3  11.703     0.052  11.197     0.061  10.674    0.059   9.576   \n",
       "3       4  14.271     0.096  13.398     0.084  12.462    0.142  11.478   \n",
       "4       5  13.198     0.065  12.393     0.084  11.726    0.077  10.848   \n",
       "\n",
       "  e_8.0mag  class      \n",
       "0    0.083  ClassII    \n",
       "1    0.059  ClassII    \n",
       "2    0.034  FS         \n",
       "3    0.045  ClassI     \n",
       "4    0.048  FS         "
      ]
     },
     "execution_count": 6,
     "metadata": {},
     "output_type": "execute_result"
    }
   ],
   "source": [
    "df_SPICY_IRAC = df_SPICY[[\" SPICY\",\"3.6mag\",\"e_3.6mag\",\"4.5mag\",\"e_4.5mag\",\"5.8mag\",\"e_5.8mag\",\"8.0mag\",\"e_8.0mag\",\"class    \"]]\n",
    "df_SPICY_IRAC = df_SPICY_IRAC[df_SPICY_IRAC[\"8.0mag\"]!='      ']\n",
    "df_SPICY_IRAC = df_SPICY_IRAC[df_SPICY_IRAC[\"5.8mag\"]!='      ']\n",
    "\n",
    "df_SPICY_IRAC.head()"
   ]
  },
  {
   "cell_type": "code",
   "execution_count": 11,
   "metadata": {},
   "outputs": [
    {
     "name": "stderr",
     "output_type": "stream",
     "text": [
      "/var/folders/qy/7yz8bmv96hx8rndql_rfdz_80000gn/T/ipykernel_9120/443959090.py:2: SettingWithCopyWarning: \n",
      "A value is trying to be set on a copy of a slice from a DataFrame.\n",
      "Try using .loc[row_indexer,col_indexer] = value instead\n",
      "\n",
      "See the caveats in the documentation: https://pandas.pydata.org/pandas-docs/stable/user_guide/indexing.html#returning-a-view-versus-a-copy\n",
      "  df_SPICY_CI[\"Target\"] = 0\n",
      "/var/folders/qy/7yz8bmv96hx8rndql_rfdz_80000gn/T/ipykernel_9120/443959090.py:5: SettingWithCopyWarning: \n",
      "A value is trying to be set on a copy of a slice from a DataFrame.\n",
      "Try using .loc[row_indexer,col_indexer] = value instead\n",
      "\n",
      "See the caveats in the documentation: https://pandas.pydata.org/pandas-docs/stable/user_guide/indexing.html#returning-a-view-versus-a-copy\n",
      "  df_SPICY_CFS[\"Target\"] = 1\n",
      "/var/folders/qy/7yz8bmv96hx8rndql_rfdz_80000gn/T/ipykernel_9120/443959090.py:8: SettingWithCopyWarning: \n",
      "A value is trying to be set on a copy of a slice from a DataFrame.\n",
      "Try using .loc[row_indexer,col_indexer] = value instead\n",
      "\n",
      "See the caveats in the documentation: https://pandas.pydata.org/pandas-docs/stable/user_guide/indexing.html#returning-a-view-versus-a-copy\n",
      "  df_SPICY_CII[\"Target\"] = 2\n",
      "/var/folders/qy/7yz8bmv96hx8rndql_rfdz_80000gn/T/ipykernel_9120/443959090.py:11: SettingWithCopyWarning: \n",
      "A value is trying to be set on a copy of a slice from a DataFrame.\n",
      "Try using .loc[row_indexer,col_indexer] = value instead\n",
      "\n",
      "See the caveats in the documentation: https://pandas.pydata.org/pandas-docs/stable/user_guide/indexing.html#returning-a-view-versus-a-copy\n",
      "  df_SPICY_CIII[\"Target\"] = 3\n"
     ]
    },
    {
     "data": {
      "text/html": [
       "<div>\n",
       "<style scoped>\n",
       "    .dataframe tbody tr th:only-of-type {\n",
       "        vertical-align: middle;\n",
       "    }\n",
       "\n",
       "    .dataframe tbody tr th {\n",
       "        vertical-align: top;\n",
       "    }\n",
       "\n",
       "    .dataframe thead th {\n",
       "        text-align: right;\n",
       "    }\n",
       "</style>\n",
       "<table border=\"1\" class=\"dataframe\">\n",
       "  <thead>\n",
       "    <tr style=\"text-align: right;\">\n",
       "      <th></th>\n",
       "      <th>SPICY</th>\n",
       "      <th>3.6mag</th>\n",
       "      <th>e_3.6mag</th>\n",
       "      <th>4.5mag</th>\n",
       "      <th>e_4.5mag</th>\n",
       "      <th>5.8mag</th>\n",
       "      <th>e_5.8mag</th>\n",
       "      <th>8.0mag</th>\n",
       "      <th>e_8.0mag</th>\n",
       "      <th>class</th>\n",
       "      <th>Target</th>\n",
       "      <th>alphas</th>\n",
       "    </tr>\n",
       "  </thead>\n",
       "  <tbody>\n",
       "    <tr>\n",
       "      <th>0</th>\n",
       "      <td>1</td>\n",
       "      <td>13.158</td>\n",
       "      <td>0.063</td>\n",
       "      <td>12.800</td>\n",
       "      <td>0.104</td>\n",
       "      <td>12.470</td>\n",
       "      <td>0.153</td>\n",
       "      <td>12.009</td>\n",
       "      <td>0.083</td>\n",
       "      <td>ClassII</td>\n",
       "      <td>2</td>\n",
       "      <td>-1.52276</td>\n",
       "    </tr>\n",
       "    <tr>\n",
       "      <th>1</th>\n",
       "      <td>2</td>\n",
       "      <td>13.180</td>\n",
       "      <td>0.059</td>\n",
       "      <td>12.727</td>\n",
       "      <td>0.097</td>\n",
       "      <td>12.241</td>\n",
       "      <td>0.120</td>\n",
       "      <td>11.404</td>\n",
       "      <td>0.059</td>\n",
       "      <td>ClassII</td>\n",
       "      <td>2</td>\n",
       "      <td>-0.65028</td>\n",
       "    </tr>\n",
       "    <tr>\n",
       "      <th>2</th>\n",
       "      <td>3</td>\n",
       "      <td>11.703</td>\n",
       "      <td>0.052</td>\n",
       "      <td>11.197</td>\n",
       "      <td>0.061</td>\n",
       "      <td>10.674</td>\n",
       "      <td>0.059</td>\n",
       "      <td>9.576</td>\n",
       "      <td>0.034</td>\n",
       "      <td>FS</td>\n",
       "      <td>1</td>\n",
       "      <td>-0.16156</td>\n",
       "    </tr>\n",
       "    <tr>\n",
       "      <th>3</th>\n",
       "      <td>4</td>\n",
       "      <td>14.271</td>\n",
       "      <td>0.096</td>\n",
       "      <td>13.398</td>\n",
       "      <td>0.084</td>\n",
       "      <td>12.462</td>\n",
       "      <td>0.142</td>\n",
       "      <td>11.478</td>\n",
       "      <td>0.045</td>\n",
       "      <td>ClassI</td>\n",
       "      <td>0</td>\n",
       "      <td>0.32880</td>\n",
       "    </tr>\n",
       "    <tr>\n",
       "      <th>4</th>\n",
       "      <td>5</td>\n",
       "      <td>13.198</td>\n",
       "      <td>0.065</td>\n",
       "      <td>12.393</td>\n",
       "      <td>0.084</td>\n",
       "      <td>11.726</td>\n",
       "      <td>0.077</td>\n",
       "      <td>10.848</td>\n",
       "      <td>0.048</td>\n",
       "      <td>FS</td>\n",
       "      <td>1</td>\n",
       "      <td>-0.28620</td>\n",
       "    </tr>\n",
       "  </tbody>\n",
       "</table>\n",
       "</div>"
      ],
      "text/plain": [
       "    SPICY  3.6mag  e_3.6mag  4.5mag  e_4.5mag  5.8mag e_5.8mag  8.0mag  \\\n",
       "0       1  13.158     0.063  12.800     0.104  12.470    0.153  12.009   \n",
       "1       2  13.180     0.059  12.727     0.097  12.241    0.120  11.404   \n",
       "2       3  11.703     0.052  11.197     0.061  10.674    0.059   9.576   \n",
       "3       4  14.271     0.096  13.398     0.084  12.462    0.142  11.478   \n",
       "4       5  13.198     0.065  12.393     0.084  11.726    0.077  10.848   \n",
       "\n",
       "  e_8.0mag  class      Target   alphas  \n",
       "0    0.083  ClassII         2 -1.52276  \n",
       "1    0.059  ClassII         2 -0.65028  \n",
       "2    0.034  FS              1 -0.16156  \n",
       "3    0.045  ClassI          0  0.32880  \n",
       "4    0.048  FS              1 -0.28620  "
      ]
     },
     "execution_count": 11,
     "metadata": {},
     "output_type": "execute_result"
    }
   ],
   "source": [
    "df_SPICY_CI = df_SPICY_IRAC[df_SPICY_IRAC[\"class    \"]==\"ClassI   \"]\n",
    "df_SPICY_CI[\"Target\"] = 0\n",
    "\n",
    "df_SPICY_CFS = df_SPICY_IRAC[df_SPICY_IRAC[\"class    \"]==\"FS       \"]\n",
    "df_SPICY_CFS[\"Target\"] = 1\n",
    "\n",
    "df_SPICY_CII = df_SPICY_IRAC[df_SPICY_IRAC[\"class    \"]==\"ClassII  \"]\n",
    "df_SPICY_CII[\"Target\"] = 2\n",
    "\n",
    "df_SPICY_CIII = df_SPICY_IRAC[df_SPICY_IRAC[\"class    \"]==\"ClassIII \"]\n",
    "df_SPICY_CIII[\"Target\"] = 3\n",
    "\n",
    "df_YSO_NEW_1 = pd.merge_ordered(df_SPICY_CI,df_SPICY_CII)\n",
    "df_YSO_NEW_2 = pd.merge_ordered(df_SPICY_CFS,df_SPICY_CIII)\n",
    "df_YSO_NEW = pd.merge_ordered(df_YSO_NEW_1,df_YSO_NEW_2)\n",
    "\n",
    "df_YSO_NEW['alphas'] = alpha(df_YSO_NEW[\"4.5mag\"].values.astype(float),df_YSO_NEW[\"8.0mag\"].values.astype(float))\n",
    "\n",
    "df_YSO_NEW.head()"
   ]
  },
  {
   "cell_type": "code",
   "execution_count": 12,
   "metadata": {},
   "outputs": [],
   "source": [
    "Inputs = df_YSO_NEW[[\"3.6mag\",\"e_3.6mag\",\"4.5mag\",\"e_4.5mag\",\"5.8mag\",\"e_5.8mag\",\"8.0mag\",\"e_8.0mag\",\"alphas\"]].values.astype(float)\n",
    "Targets = df_YSO_NEW[[\"Target\"]].values.astype(float)\n",
    "\n",
    "\n",
    "np.save(\"../Data_and_Results/Inputs_YSO_Train.npy\",Inputs)\n",
    "np.save(\"../Data_and_Results/Targets_YSO_Train.npy\",Targets)"
   ]
  },
  {
   "cell_type": "code",
   "execution_count": 10,
   "metadata": {},
   "outputs": [
    {
     "name": "stdout",
     "output_type": "stream",
     "text": [
      "(15596, 11)\n",
      "(59561, 11)\n",
      "(23563, 11)\n",
      "(5333, 11)\n"
     ]
    }
   ],
   "source": [
    "print(df_SPICY_CI.shape)\n",
    "print(df_SPICY_CII.shape)\n",
    "print(df_SPICY_CFS.shape)\n",
    "print(df_SPICY_CIII.shape)"
   ]
  },
  {
   "cell_type": "code",
   "execution_count": null,
   "metadata": {},
   "outputs": [],
   "source": []
  },
  {
   "cell_type": "markdown",
   "metadata": {},
   "source": []
  }
 ],
 "metadata": {
  "interpreter": {
   "hash": "b32a61eb6ff93be71f4251ffff73c84aa9d3b2a4cb02800e928ae707ac05d999"
  },
  "kernelspec": {
   "display_name": "Python 3.9.12",
   "language": "python",
   "name": "python3"
  },
  "language_info": {
   "codemirror_mode": {
    "name": "ipython",
    "version": 3
   },
   "file_extension": ".py",
   "mimetype": "text/x-python",
   "name": "python",
   "nbconvert_exporter": "python",
   "pygments_lexer": "ipython3",
   "version": "3.9.12"
  },
  "orig_nbformat": 4
 },
 "nbformat": 4,
 "nbformat_minor": 2
}
