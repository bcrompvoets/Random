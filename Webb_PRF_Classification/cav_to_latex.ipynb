{
 "cells": [
  {
   "cell_type": "code",
   "execution_count": 1,
   "metadata": {},
   "outputs": [
    {
     "data": {
      "text/plain": [
       "Index(['Index', 'RA', 'DEC', 'x', 'y', 'f090w', 'f200w', 'f335m', 'f444w',\n",
       "       'f470n', 'e_f090w', 'e_f200w', 'e_f335m', 'e_f444w', 'e_f470n',\n",
       "       'f090w-f444w', 'f090w-f200w', 'δ_f090w-f200w', 'slope_f090w-f200w',\n",
       "       'f200w-f335m', 'δ_f200w-f335m', 'slope_f200w-f335m', 'f335m-f444w',\n",
       "       'δ_f335m-f444w', 'slope_f335m-f444w', 'f444w-f470n', 'δ_f444w-f470n',\n",
       "       'slope_f444w-f470n', '(f090w-f200w)-(f200w-f444w)',\n",
       "       'δ_(f090w-f200w)-(f200w-f444w)', 'Sum1', 'e_f090w-f444w',\n",
       "       'e_f090w-f200w', 'e_δ_f090w-f200w', 'e_slope_f090w-f200w',\n",
       "       'e_f200w-f335m', 'e_δ_f200w-f335m', 'e_slope_f200w-f335m',\n",
       "       'e_f335m-f444w', 'e_δ_f335m-f444w', 'e_slope_f335m-f444w',\n",
       "       'e_f444w-f470n', 'e_δ_f444w-f470n', 'e_slope_f444w-f470n',\n",
       "       'e_(f090w-f200w)-(f200w-f444w)', 'e_δ_(f090w-f200w)-(f200w-f444w)',\n",
       "       'e_Sum1', 'Class_PRF', 'Prob_PRF', 'Class_RF', 'Prob_RF', 'Init_Class',\n",
       "       'Survey', 'SPICY_ID'],\n",
       "      dtype='object')"
      ]
     },
     "execution_count": 1,
     "metadata": {},
     "output_type": "execute_result"
    }
   ],
   "source": [
    "import pandas as pd\n",
    "\n",
    "file_in = \"CC_Classified_DAOPHOT_July242023.csv\"\n",
    "csv = pd.read_csv(file_in)\n",
    "\n",
    "csv.columns"
   ]
  },
  {
   "cell_type": "code",
   "execution_count": 2,
   "metadata": {},
   "outputs": [],
   "source": [
    "columns = ['RA', 'DEC', 'f090w', 'f200w', 'f335m', 'f444w','f470n', 'Prob_PRF','Prob_RF']#'f187n',\n",
    "\n",
    "new_cols = ['RA', 'DEC', 'F090w','F200w','F335m','F444w','F470n',  'Prob YSO PRF', 'Prob YSO RF'] #'F187n','F770w', 'F1130w', 'F1280w', 'F1800w',\n"
   ]
  },
  {
   "cell_type": "code",
   "execution_count": 3,
   "metadata": {},
   "outputs": [
    {
     "name": "stdout",
     "output_type": "stream",
     "text": [
      "Printing to  CC_Classified_DAOPHOT_July242023_latex.txt\n"
     ]
    }
   ],
   "source": [
    "\n",
    "file_out = file_in.split('.')[0]+'_latex.txt'\n",
    "print(\"Printing to \", file_out)\n",
    "f = open(file_out,'w')\n",
    "\n",
    "for j in range(0,len(columns)):\n",
    "    f.write(new_cols[j]+'&')\n",
    "f.write('\\\\\\ \\n')\n",
    "for i in range(0,len(csv)):\n",
    "    for j in range(0,len(columns)):\n",
    "        str_tmp = str(\"%.4f\" %csv[columns[j]][i])+\"&\"\n",
    "        f.write(str_tmp)\n",
    "    f.write('\\\\\\ \\n')\n",
    "\n",
    "f.close()"
   ]
  },
  {
   "cell_type": "code",
   "execution_count": 4,
   "metadata": {},
   "outputs": [
    {
     "name": "stdout",
     "output_type": "stream",
     "text": [
      "Printing to  CC_Classified_DAOPHOT_July242023_latex_ysos.txt\n"
     ]
    }
   ],
   "source": [
    "csv_yso = csv[(csv.Class_RF==0)|(csv.Class_PRF==0)].reset_index()\n",
    "csv_yso = csv_yso.loc[csv_yso.isnull().sum(1).sort_values(ascending=1).index,columns]\n",
    "\n",
    "\n",
    "file_out = file_in.split('.')[0]+'_latex_ysos.txt'\n",
    "print(\"Printing to \", file_out)\n",
    "\n",
    "\n",
    "f = open(file_out,'w')\n",
    "\n",
    "for j in range(0,len(columns)):\n",
    "    f.write(new_cols[j]+'&')\n",
    "f.write('\\\\hline \\\\\\ \\n')\n",
    "for i in range(0,len(csv_yso)):\n",
    "    for j in range(0,len(columns)):\n",
    "        str_tmp = str(\"%.4f\" %csv_yso[columns[j]].values[i])+\"&\"\n",
    "        f.write(str_tmp)\n",
    "    f.write('\\\\\\ \\n')\n",
    "\n",
    "f.close()"
   ]
  },
  {
   "cell_type": "code",
   "execution_count": 16,
   "metadata": {},
   "outputs": [
    {
     "name": "stderr",
     "output_type": "stream",
     "text": [
      "/Users/breannacrompvoets/miniforge3/envs/SF/lib/python3.10/site-packages/astropy/io/fits/column.py:831: VerifyWarning: It is strongly recommended that column names contain only upper and lower-case ASCII letters, digits, or underscores for maximum compatibility with other software (got '[3.4]').\n",
      "  warnings.warn(\n",
      "/Users/breannacrompvoets/miniforge3/envs/SF/lib/python3.10/site-packages/astropy/io/fits/column.py:831: VerifyWarning: It is strongly recommended that column names contain only upper and lower-case ASCII letters, digits, or underscores for maximum compatibility with other software (got '[4.5]').\n",
      "  warnings.warn(\n",
      "/Users/breannacrompvoets/miniforge3/envs/SF/lib/python3.10/site-packages/astropy/io/fits/column.py:831: VerifyWarning: It is strongly recommended that column names contain only upper and lower-case ASCII letters, digits, or underscores for maximum compatibility with other software (got '[5.8]').\n",
      "  warnings.warn(\n",
      "/Users/breannacrompvoets/miniforge3/envs/SF/lib/python3.10/site-packages/astropy/io/fits/column.py:831: VerifyWarning: It is strongly recommended that column names contain only upper and lower-case ASCII letters, digits, or underscores for maximum compatibility with other software (got '[8.0]').\n",
      "  warnings.warn(\n"
     ]
    }
   ],
   "source": [
    "from astropy.io import fits\n",
    "import astropy.wcs as wcs\n",
    "from astropy.coordinates import match_coordinates_sky, SkyCoord\n",
    "from astropy.table import Table\n",
    "import astropy.units as u\n",
    "from astropy.io.votable import from_table, writeto\n",
    "\n",
    "xray1 = Table(fits.open('Archive/J_A+A_564_A120_table1.dat.fits')[1].data).to_pandas()\n",
    "xray2 = Table(fits.open('Archive/J_A+A_564_A120_table3.dat.fits')[1].data).to_pandas()\n",
    "xray2[xray2.Src>0].Seq\n",
    "xray1 = xray1.loc[xray2[xray2.Src>0].index].reset_index()\n",
    "# tmp_votab = from_table(Table.from_pandas(xray1,units={'RA':u.deg,'DEC':u.deg}))"
   ]
  },
  {
   "cell_type": "code",
   "execution_count": 32,
   "metadata": {},
   "outputs": [
    {
     "name": "stdout",
     "output_type": "stream",
     "text": [
      "Index(['index', 'Seq', 'Name', 'RAdeg', 'DEdeg', 'ePos', 'theta', 'Ctnet',\n",
      "       'e_Ctnet', 'Bt', 'CHnet', 'fPSF', 'Signi', 'l_logPB', 'logPB', 'f_Seq',\n",
      "       'Var', 'Emed'],\n",
      "      dtype='object')\n"
     ]
    }
   ],
   "source": [
    "print(xray1.columns)\n",
    "tol=0.001\n",
    "csv_y = csv[csv.Prob_PRF>0.5].reset_index()\n",
    "ind, sep, _ = match_coordinates_sky(SkyCoord(xray1.RAdeg,xray1.DEdeg,unit=u.deg),SkyCoord(csv_y.RA,csv_y.DEC,unit=u.deg))\n"
   ]
  },
  {
   "cell_type": "code",
   "execution_count": 33,
   "metadata": {},
   "outputs": [
    {
     "name": "stdout",
     "output_type": "stream",
     "text": [
      "500\n",
      "14 None\n",
      "500 None\n",
      "0        1\n",
      "1        2\n",
      "2        3\n",
      "3        5\n",
      "4        7\n",
      "      ... \n",
      "495    675\n",
      "496    676\n",
      "497    677\n",
      "498    678\n",
      "499    679\n",
      "Name: Seq, Length: 500, dtype: int16\n"
     ]
    }
   ],
   "source": [
    "dao_xray = csv_y.loc[ind[sep<tol*u.deg],['RA','DEC','Prob_PRF','Prob_RF']]\n",
    "print(len(ind),print(len(dao_xray),print(len(xray1))))\n",
    "print(xray1.Seq)\n",
    "dao_xray['Name'] = ['X-RAY '+ str(xray1.loc[i,'Seq']) for i in xray1[sep<tol*u.deg].index]\n"
   ]
  },
  {
   "cell_type": "code",
   "execution_count": 34,
   "metadata": {},
   "outputs": [
    {
     "data": {
      "text/html": [
       "<div>\n",
       "<style scoped>\n",
       "    .dataframe tbody tr th:only-of-type {\n",
       "        vertical-align: middle;\n",
       "    }\n",
       "\n",
       "    .dataframe tbody tr th {\n",
       "        vertical-align: top;\n",
       "    }\n",
       "\n",
       "    .dataframe thead th {\n",
       "        text-align: right;\n",
       "    }\n",
       "</style>\n",
       "<table border=\"1\" class=\"dataframe\">\n",
       "  <thead>\n",
       "    <tr style=\"text-align: right;\">\n",
       "      <th></th>\n",
       "      <th>RA</th>\n",
       "      <th>DEC</th>\n",
       "      <th>Prob_PRF</th>\n",
       "      <th>Prob_RF</th>\n",
       "      <th>Name</th>\n",
       "    </tr>\n",
       "  </thead>\n",
       "  <tbody>\n",
       "    <tr>\n",
       "      <th>124</th>\n",
       "      <td>159.203575</td>\n",
       "      <td>-58.634598</td>\n",
       "      <td>0.999840</td>\n",
       "      <td>0.978</td>\n",
       "      <td>X-RAY 27</td>\n",
       "    </tr>\n",
       "    <tr>\n",
       "      <th>322</th>\n",
       "      <td>159.218300</td>\n",
       "      <td>-58.607508</td>\n",
       "      <td>0.998634</td>\n",
       "      <td>0.970</td>\n",
       "      <td>X-RAY 34</td>\n",
       "    </tr>\n",
       "    <tr>\n",
       "      <th>15</th>\n",
       "      <td>159.222348</td>\n",
       "      <td>-58.674431</td>\n",
       "      <td>0.506863</td>\n",
       "      <td>0.468</td>\n",
       "      <td>X-RAY 35</td>\n",
       "    </tr>\n",
       "    <tr>\n",
       "      <th>312</th>\n",
       "      <td>159.223134</td>\n",
       "      <td>-58.609556</td>\n",
       "      <td>0.906611</td>\n",
       "      <td>0.714</td>\n",
       "      <td>X-RAY 36</td>\n",
       "    </tr>\n",
       "    <tr>\n",
       "      <th>3</th>\n",
       "      <td>159.224662</td>\n",
       "      <td>-58.681911</td>\n",
       "      <td>0.554947</td>\n",
       "      <td>0.446</td>\n",
       "      <td>X-RAY 39</td>\n",
       "    </tr>\n",
       "    <tr>\n",
       "      <th>197</th>\n",
       "      <td>159.228207</td>\n",
       "      <td>-58.625727</td>\n",
       "      <td>0.862667</td>\n",
       "      <td>0.596</td>\n",
       "      <td>X-RAY 40</td>\n",
       "    </tr>\n",
       "    <tr>\n",
       "      <th>411</th>\n",
       "      <td>159.243539</td>\n",
       "      <td>-58.583399</td>\n",
       "      <td>0.844379</td>\n",
       "      <td>0.806</td>\n",
       "      <td>X-RAY 51</td>\n",
       "    </tr>\n",
       "    <tr>\n",
       "      <th>396</th>\n",
       "      <td>159.244148</td>\n",
       "      <td>-58.587722</td>\n",
       "      <td>0.788723</td>\n",
       "      <td>0.578</td>\n",
       "      <td>X-RAY 53</td>\n",
       "    </tr>\n",
       "    <tr>\n",
       "      <th>395</th>\n",
       "      <td>159.244762</td>\n",
       "      <td>-58.588353</td>\n",
       "      <td>0.598248</td>\n",
       "      <td>0.544</td>\n",
       "      <td>X-RAY 56</td>\n",
       "    </tr>\n",
       "    <tr>\n",
       "      <th>115</th>\n",
       "      <td>159.251428</td>\n",
       "      <td>-58.641576</td>\n",
       "      <td>0.994609</td>\n",
       "      <td>0.998</td>\n",
       "      <td>X-RAY 64</td>\n",
       "    </tr>\n",
       "    <tr>\n",
       "      <th>417</th>\n",
       "      <td>159.267082</td>\n",
       "      <td>-58.583407</td>\n",
       "      <td>0.644716</td>\n",
       "      <td>0.608</td>\n",
       "      <td>X-RAY 85</td>\n",
       "    </tr>\n",
       "    <tr>\n",
       "      <th>405</th>\n",
       "      <td>159.274636</td>\n",
       "      <td>-58.588270</td>\n",
       "      <td>0.927901</td>\n",
       "      <td>0.846</td>\n",
       "      <td>X-RAY 95</td>\n",
       "    </tr>\n",
       "    <tr>\n",
       "      <th>319</th>\n",
       "      <td>159.278915</td>\n",
       "      <td>-58.615361</td>\n",
       "      <td>0.999750</td>\n",
       "      <td>0.998</td>\n",
       "      <td>X-RAY 105</td>\n",
       "    </tr>\n",
       "    <tr>\n",
       "      <th>437</th>\n",
       "      <td>159.297222</td>\n",
       "      <td>-58.579262</td>\n",
       "      <td>0.999925</td>\n",
       "      <td>1.000</td>\n",
       "      <td>X-RAY 134</td>\n",
       "    </tr>\n",
       "  </tbody>\n",
       "</table>\n",
       "</div>"
      ],
      "text/plain": [
       "             RA        DEC  Prob_PRF  Prob_RF       Name\n",
       "124  159.203575 -58.634598  0.999840    0.978   X-RAY 27\n",
       "322  159.218300 -58.607508  0.998634    0.970   X-RAY 34\n",
       "15   159.222348 -58.674431  0.506863    0.468   X-RAY 35\n",
       "312  159.223134 -58.609556  0.906611    0.714   X-RAY 36\n",
       "3    159.224662 -58.681911  0.554947    0.446   X-RAY 39\n",
       "197  159.228207 -58.625727  0.862667    0.596   X-RAY 40\n",
       "411  159.243539 -58.583399  0.844379    0.806   X-RAY 51\n",
       "396  159.244148 -58.587722  0.788723    0.578   X-RAY 53\n",
       "395  159.244762 -58.588353  0.598248    0.544   X-RAY 56\n",
       "115  159.251428 -58.641576  0.994609    0.998   X-RAY 64\n",
       "417  159.267082 -58.583407  0.644716    0.608   X-RAY 85\n",
       "405  159.274636 -58.588270  0.927901    0.846   X-RAY 95\n",
       "319  159.278915 -58.615361  0.999750    0.998  X-RAY 105\n",
       "437  159.297222 -58.579262  0.999925    1.000  X-RAY 134"
      ]
     },
     "execution_count": 34,
     "metadata": {},
     "output_type": "execute_result"
    }
   ],
   "source": [
    "dao_xray.sort_values('RA')"
   ]
  },
  {
   "cell_type": "code",
   "execution_count": 35,
   "metadata": {},
   "outputs": [],
   "source": [
    "\n",
    "tmp_votab = from_table(Table.from_pandas(dao_xray,units={'RA':u.deg,'DEC':u.deg}))\n",
    "writeto(tmp_votab,'xray_matched_July242023.xml')"
   ]
  },
  {
   "cell_type": "code",
   "execution_count": 36,
   "metadata": {},
   "outputs": [],
   "source": [
    "dao_xray.to_csv('xray_matched.csv')"
   ]
  },
  {
   "cell_type": "code",
   "execution_count": 40,
   "metadata": {},
   "outputs": [
    {
     "name": "stdout",
     "output_type": "stream",
     "text": [
      "Printing to  matches_to_July242023_latex_ysos.txt\n"
     ]
    }
   ],
   "source": [
    "dao_matched = pd.read_csv('matches_to_July242023.csv')\n",
    "cols = ['YSO_n','Name','Prob','Nearby']\n",
    "\n",
    "file_out = 'matches_to_July242023_latex_ysos.txt'\n",
    "print(\"Printing to \", file_out)\n",
    "\n",
    "\n",
    "f = open(file_out,'w')\n",
    "\n",
    "for j in range(0,len(cols)):\n",
    "    f.write(cols[j]+'&')\n",
    "f.write(' \\\\hline \\\\\\ \\n')\n",
    "for i in range(0,len(dao_matched)):\n",
    "    for j in range(0,len(cols)):\n",
    "        str_tmp = str(dao_matched[cols[j]].values[i])+\"&\"\n",
    "        f.write(str_tmp)\n",
    "    f.write(' \\\\\\ \\n')\n",
    "\n",
    "f.close()"
   ]
  }
 ],
 "metadata": {
  "interpreter": {
   "hash": "a7a87715bbc43d8b5f73b6200b6ef66f163e7bfd9f5c97aea1eada326c99da2f"
  },
  "kernelspec": {
   "display_name": "Python 3.10.4 ('SF')",
   "language": "python",
   "name": "python3"
  },
  "language_info": {
   "codemirror_mode": {
    "name": "ipython",
    "version": 3
   },
   "file_extension": ".py",
   "mimetype": "text/x-python",
   "name": "python",
   "nbconvert_exporter": "python",
   "pygments_lexer": "ipython3",
   "version": "3.10.12"
  },
  "orig_nbformat": 4
 },
 "nbformat": 4,
 "nbformat_minor": 2
}
