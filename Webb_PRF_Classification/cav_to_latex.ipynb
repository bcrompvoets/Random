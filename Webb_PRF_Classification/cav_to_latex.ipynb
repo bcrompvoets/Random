{
 "cells": [
  {
   "cell_type": "code",
   "execution_count": 1,
   "metadata": {},
   "outputs": [
    {
     "data": {
      "text/plain": [
       "Index(['RA', 'DEC', 'f090w', 'f187n', 'f200w', 'f335m', 'f444w', 'f470n',\n",
       "       'f090w-f444w', 'f090w-f187n', 'δ_f090w-f187n', 'f187n-f200w',\n",
       "       'δ_f187n-f200w', 'f200w-f335m', 'δ_f200w-f335m', 'f335m-f444w',\n",
       "       'δ_f335m-f444w', 'f444w-f470n', 'δ_f444w-f470n',\n",
       "       'δ_(f090w-f200w)-(f200w-f444w)', 'Sum1', 'e_f090w', 'e_f187n',\n",
       "       'e_f200w', 'e_f335m', 'e_f444w', 'e_f470n', 'e_f090w-f444w',\n",
       "       'e_f090w-f187n', 'e_δ_f090w-f187n', 'e_f187n-f200w', 'e_δ_f187n-f200w',\n",
       "       'e_f200w-f335m', 'e_δ_f200w-f335m', 'e_f335m-f444w', 'e_δ_f335m-f444w',\n",
       "       'e_f444w-f470n', 'e_δ_f444w-f470n', 'e_δ_(f090w-f200w)-(f200w-f444w)',\n",
       "       'e_Sum1', 'Class_PRF', 'Prob_PRF', 'Class_RF', 'Prob_RF', 'Init_Class',\n",
       "       'Survey', 'SPICY_ID'],\n",
       "      dtype='object')"
      ]
     },
     "execution_count": 1,
     "metadata": {},
     "output_type": "execute_result"
    }
   ],
   "source": [
    "import pandas as pd\n",
    "\n",
    "file_in = \"CC_Classified_DAOPHOT_June192023.csv\"\n",
    "csv = pd.read_csv(file_in)\n",
    "\n",
    "csv.columns"
   ]
  },
  {
   "cell_type": "code",
   "execution_count": 4,
   "metadata": {},
   "outputs": [],
   "source": [
    "columns = ['RA', 'DEC', 'f090w', 'f187n','f200w', 'f335m', 'f444w','f470n', 'Prob_PRF','Prob_RF']\n",
    "\n",
    "new_cols = ['RA', 'DEC', 'F090w','F187n','F200w','F335m','F444w','F470n',  'Prob YSO PRF', 'Prob YSO RF'] #'F770w', 'F1130w', 'F1280w', 'F1800w',\n"
   ]
  },
  {
   "cell_type": "code",
   "execution_count": 50,
   "metadata": {},
   "outputs": [
    {
     "name": "stdout",
     "output_type": "stream",
     "text": [
      "Printing to  CC_Webb_Predictions_Prob_2_5sigFeb172023_latex.txt\n"
     ]
    }
   ],
   "source": [
    "\n",
    "file_out = file_in.split('.')[0]+'_latex.txt'\n",
    "print(\"Printing to \", file_out)\n",
    "f = open(file_out,'w')\n",
    "\n",
    "for j in range(0,len(columns)):\n",
    "    f.write(new_cols[j]+'&')\n",
    "f.write('\\\\\\ \\n')\n",
    "for i in range(0,len(csv)):\n",
    "    for j in range(0,len(columns)):\n",
    "        str_tmp = str(\"%.4f\" %csv[columns[j]][i])+\"&\"\n",
    "        f.write(str_tmp)\n",
    "    f.write('\\\\\\ \\n')\n",
    "\n",
    "f.close()"
   ]
  },
  {
   "cell_type": "code",
   "execution_count": 5,
   "metadata": {},
   "outputs": [
    {
     "name": "stdout",
     "output_type": "stream",
     "text": [
      "Printing to  CC_Classified_DAOPHOT_June192023_latex_ysos.txt\n"
     ]
    }
   ],
   "source": [
    "csv_yso = csv[(csv.Class_RF==0)|(csv.Class_PRF==0)].reset_index()\n",
    "csv_yso = csv_yso.loc[csv_yso.isnull().sum(1).sort_values(ascending=1).index,columns]\n",
    "\n",
    "\n",
    "file_out = file_in.split('.')[0]+'_latex_ysos.txt'\n",
    "print(\"Printing to \", file_out)\n",
    "\n",
    "\n",
    "f = open(file_out,'w')\n",
    "\n",
    "for j in range(0,len(columns)):\n",
    "    f.write(new_cols[j]+'&')\n",
    "f.write('\\\\hline \\\\\\ \\n')\n",
    "for i in range(0,len(csv_yso)):\n",
    "    for j in range(0,len(columns)):\n",
    "        str_tmp = str(\"%.4f\" %csv_yso[columns[j]].values[i])+\"&\"\n",
    "        f.write(str_tmp)\n",
    "    f.write('\\\\\\ \\n')\n",
    "\n",
    "f.close()"
   ]
  },
  {
   "cell_type": "code",
   "execution_count": null,
   "metadata": {},
   "outputs": [],
   "source": []
  }
 ],
 "metadata": {
  "interpreter": {
   "hash": "a7a87715bbc43d8b5f73b6200b6ef66f163e7bfd9f5c97aea1eada326c99da2f"
  },
  "kernelspec": {
   "display_name": "Python 3.10.4 ('SF')",
   "language": "python",
   "name": "python3"
  },
  "language_info": {
   "codemirror_mode": {
    "name": "ipython",
    "version": 3
   },
   "file_extension": ".py",
   "mimetype": "text/x-python",
   "name": "python",
   "nbconvert_exporter": "python",
   "pygments_lexer": "ipython3",
   "version": "3.10.4"
  },
  "orig_nbformat": 4
 },
 "nbformat": 4,
 "nbformat_minor": 2
}
