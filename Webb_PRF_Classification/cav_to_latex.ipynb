{
 "cells": [
  {
   "cell_type": "code",
   "execution_count": 45,
   "metadata": {},
   "outputs": [
    {
     "data": {
      "text/plain": [
       "Index(['Unnamed: 0', 'RA', 'DEC', 'size', 'isophotal_vegamag_f200w',\n",
       "       'isophotal_vegamag_err_f200w', 'isophotal_vegamag_f090w',\n",
       "       'isophotal_vegamag_err_f090w', 'isophotal_vegamag_f187n',\n",
       "       'isophotal_vegamag_err_f187n', 'isophotal_vegamag_f335m',\n",
       "       'isophotal_vegamag_err_f335m', 'isophotal_vegamag_f444w',\n",
       "       'isophotal_vegamag_err_f444w', 'isophotal_vegamag_f444w-f470n',\n",
       "       'isophotal_vegamag_err_f444w-f470n', 'isophotal_vegamag_f770w',\n",
       "       'isophotal_vegamag_err_f770w', 'isophotal_vegamag_f1130w',\n",
       "       'isophotal_vegamag_err_f1130w', 'isophotal_vegamag_f1280w',\n",
       "       'isophotal_vegamag_err_f1280w', 'isophotal_vegamag_f1800w',\n",
       "       'isophotal_vegamag_err_f1800w', 'Class', 'Prob YSO', 'mag_J', 'e_mag_J',\n",
       "       'mag_H', 'e_mag_H', 'mag_Ks', 'e_mag_Ks', 'mag_IR1', 'e_mag_IR1',\n",
       "       'mag_IR2', 'e_mag_IR2', 'mag_IR3', 'e_mag_IR3', 'mag_IR4', 'e_mag_IR4',\n",
       "       'SPICY_Class_0/1', 'SPICY', 'SPICY_Class'],\n",
       "      dtype='object')"
      ]
     },
     "execution_count": 45,
     "metadata": {},
     "output_type": "execute_result"
    }
   ],
   "source": [
    "import pandas as pd\n",
    "\n",
    "file_in = \"CC_Webb_Predictions_Prob_2_5sigFeb172023.csv\"\n",
    "csv = pd.read_csv(file_in)\n",
    "\n",
    "csv.columns"
   ]
  },
  {
   "cell_type": "code",
   "execution_count": 49,
   "metadata": {},
   "outputs": [],
   "source": [
    "columns = ['RA', 'DEC', 'size', 'isophotal_vegamag_f090w', 'isophotal_vegamag_f187n',\n",
    "       'isophotal_vegamag_f200w', 'isophotal_vegamag_f335m', 'isophotal_vegamag_f444w',\n",
    "       'isophotal_vegamag_f444w-f470n', 'isophotal_vegamag_f770w', 'isophotal_vegamag_f1130w',\n",
    "       'isophotal_vegamag_f1280w', 'isophotal_vegamag_f1800w', 'Prob YSO','SPICY']\n",
    "new_cols = ['RA', 'DEC', 'size', 'F090w','F187n','F200w',\n",
    "       'F335m','F444w','F444w-F470n', 'F770w', 'F1130w', 'F1280w', 'F1800w', 'Prob YSO', 'SPICY']\n"
   ]
  },
  {
   "cell_type": "code",
   "execution_count": 50,
   "metadata": {},
   "outputs": [
    {
     "name": "stdout",
     "output_type": "stream",
     "text": [
      "Printing to  CC_Webb_Predictions_Prob_2_5sigFeb172023_latex.txt\n"
     ]
    }
   ],
   "source": [
    "\n",
    "file_out = file_in.split('.')[0]+'_latex.txt'\n",
    "print(\"Printing to \", file_out)\n",
    "f = open(file_out,'w')\n",
    "\n",
    "for j in range(0,len(columns)):\n",
    "    f.write(new_cols[j]+'&')\n",
    "f.write('\\\\\\ \\n')\n",
    "for i in range(0,len(csv)):\n",
    "    for j in range(0,len(columns)):\n",
    "        str_tmp = str(\"%.4f\" %csv[columns[j]][i])+\"&\"\n",
    "        f.write(str_tmp)\n",
    "    f.write('\\\\\\ \\n')\n",
    "\n",
    "f.close()"
   ]
  },
  {
   "cell_type": "code",
   "execution_count": 51,
   "metadata": {},
   "outputs": [
    {
     "name": "stdout",
     "output_type": "stream",
     "text": [
      "Printing to  CC_Webb_Predictions_Prob_2_5sigFeb172023_latex_ysos.txt\n"
     ]
    }
   ],
   "source": [
    "csv_yso = csv[csv.Class==0].reset_index()\n",
    "csv_yso = csv_yso.iloc[csv_yso.isnull().sum(1).sort_values(ascending=1).index]\n",
    "\n",
    "\n",
    "file_out = file_in.split('.')[0]+'_latex_ysos.txt'\n",
    "print(\"Printing to \", file_out)\n",
    "\n",
    "\n",
    "f = open(file_out,'w')\n",
    "\n",
    "for j in range(0,len(columns)):\n",
    "    f.write(new_cols[j]+'&')\n",
    "f.write('\\\\hline \\\\\\ \\n')\n",
    "for i in range(0,len(csv_yso)):\n",
    "    for j in range(0,len(columns)):\n",
    "        str_tmp = str(\"%.4f\" %csv_yso[columns[j]].values[i])+\"&\"\n",
    "        f.write(str_tmp)\n",
    "    f.write('\\\\\\ \\n')\n",
    "\n",
    "f.close()"
   ]
  },
  {
   "cell_type": "code",
   "execution_count": null,
   "metadata": {},
   "outputs": [],
   "source": []
  }
 ],
 "metadata": {
  "interpreter": {
   "hash": "a7a87715bbc43d8b5f73b6200b6ef66f163e7bfd9f5c97aea1eada326c99da2f"
  },
  "kernelspec": {
   "display_name": "Python 3.10.4 ('SF')",
   "language": "python",
   "name": "python3"
  },
  "language_info": {
   "codemirror_mode": {
    "name": "ipython",
    "version": 3
   },
   "file_extension": ".py",
   "mimetype": "text/x-python",
   "name": "python",
   "nbconvert_exporter": "python",
   "pygments_lexer": "ipython3",
   "version": "3.10.4"
  },
  "orig_nbformat": 4
 },
 "nbformat": 4,
 "nbformat_minor": 2
}
